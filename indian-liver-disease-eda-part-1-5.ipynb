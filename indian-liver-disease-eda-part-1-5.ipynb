{
 "cells": [
  {
   "cell_type": "markdown",
   "metadata": {
    "papermill": {
     "duration": 0.052454,
     "end_time": "2021-03-01T01:26:10.430224",
     "exception": false,
     "start_time": "2021-03-01T01:26:10.377770",
     "status": "completed"
    },
    "tags": []
   },
   "source": [
    "## India Liver Patient Dataset (ILDP)\n",
    "\n",
    "### Part (1/5): Descriptive Statistics and Visualization\n",
    "\n",
    "On these notebooks (5 total) we analyze Indian Liver Disease dataset which is publicly available on[ UCI Machine Learning Repository](http://archive.ics.uci.edu/ml/datasets/ILPD+%28Indian+Liver+Patient+Dataset%29). The first notebook contains some basic descriptive statistic techniques and some Exploratory Data Analysis, as well.  \n",
    "## Import the modules"
   ]
  },
  {
   "cell_type": "code",
   "execution_count": 1,
   "metadata": {
    "_cell_guid": "b1076dfc-b9ad-4769-8c92-a6c4dae69d19",
    "_uuid": "8f2839f25d086af736a60e9eeb907d3b93b6e0e5",
    "execution": {
     "iopub.execute_input": "2021-03-01T01:26:10.537521Z",
     "iopub.status.busy": "2021-03-01T01:26:10.536595Z",
     "iopub.status.idle": "2021-03-01T01:26:11.605072Z",
     "shell.execute_reply": "2021-03-01T01:26:11.605586Z"
    },
    "papermill": {
     "duration": 1.127298,
     "end_time": "2021-03-01T01:26:11.605976",
     "exception": false,
     "start_time": "2021-03-01T01:26:10.478678",
     "status": "completed"
    },
    "tags": []
   },
   "outputs": [],
   "source": [
    "import numpy as np \n",
    "import pandas as pd \n",
    "import os\n",
    "import seaborn as sns\n",
    "from sklearn import preprocessing \n",
    "from scipy import stats\n",
    "from sklearn.preprocessing import StandardScaler\n",
    "from scipy.stats import pearsonr \n",
    "import matplotlib.pyplot as plt\n",
    "%matplotlib inline"
   ]
  },
  {
   "cell_type": "markdown",
   "metadata": {
    "papermill": {
     "duration": 0.047279,
     "end_time": "2021-03-01T01:26:11.702319",
     "exception": false,
     "start_time": "2021-03-01T01:26:11.655040",
     "status": "completed"
    },
    "tags": []
   },
   "source": [
    "### install some useful packages"
   ]
  },
  {
   "cell_type": "code",
   "execution_count": 2,
   "metadata": {
    "execution": {
     "iopub.execute_input": "2021-03-01T01:26:11.802328Z",
     "iopub.status.busy": "2021-03-01T01:26:11.801605Z",
     "iopub.status.idle": "2021-03-01T01:26:11.805236Z",
     "shell.execute_reply": "2021-03-01T01:26:11.805798Z"
    },
    "papermill": {
     "duration": 0.055434,
     "end_time": "2021-03-01T01:26:11.805986",
     "exception": false,
     "start_time": "2021-03-01T01:26:11.750552",
     "status": "completed"
    },
    "tags": []
   },
   "outputs": [],
   "source": [
    "#!pip install plotly\n",
    "#!pip install cufflinks"
   ]
  },
  {
   "cell_type": "code",
   "execution_count": 3,
   "metadata": {
    "execution": {
     "iopub.execute_input": "2021-03-01T01:26:11.907526Z",
     "iopub.status.busy": "2021-03-01T01:26:11.906818Z",
     "iopub.status.idle": "2021-03-01T01:26:14.788312Z",
     "shell.execute_reply": "2021-03-01T01:26:14.787581Z"
    },
    "papermill": {
     "duration": 2.933325,
     "end_time": "2021-03-01T01:26:14.788495",
     "exception": false,
     "start_time": "2021-03-01T01:26:11.855170",
     "status": "completed"
    },
    "tags": []
   },
   "outputs": [
    {
     "data": {
      "text/html": [
       "        <script type=\"text/javascript\">\n",
       "        window.PlotlyConfig = {MathJaxConfig: 'local'};\n",
       "        if (window.MathJax) {MathJax.Hub.Config({SVG: {font: \"STIX-Web\"}});}\n",
       "        if (typeof require !== 'undefined') {\n",
       "        require.undef(\"plotly\");\n",
       "        requirejs.config({\n",
       "            paths: {\n",
       "                'plotly': ['https://cdn.plot.ly/plotly-latest.min']\n",
       "            }\n",
       "        });\n",
       "        require(['plotly'], function(Plotly) {\n",
       "            window._Plotly = Plotly;\n",
       "        });\n",
       "        }\n",
       "        </script>\n",
       "        "
      ]
     },
     "metadata": {},
     "output_type": "display_data"
    },
    {
     "data": {
      "text/html": [
       "        <script type=\"text/javascript\">\n",
       "        window.PlotlyConfig = {MathJaxConfig: 'local'};\n",
       "        if (window.MathJax) {MathJax.Hub.Config({SVG: {font: \"STIX-Web\"}});}\n",
       "        if (typeof require !== 'undefined') {\n",
       "        require.undef(\"plotly\");\n",
       "        requirejs.config({\n",
       "            paths: {\n",
       "                'plotly': ['https://cdn.plot.ly/plotly-latest.min']\n",
       "            }\n",
       "        });\n",
       "        require(['plotly'], function(Plotly) {\n",
       "            window._Plotly = Plotly;\n",
       "        });\n",
       "        }\n",
       "        </script>\n",
       "        "
      ]
     },
     "metadata": {},
     "output_type": "display_data"
    }
   ],
   "source": [
    "from plotly import __version__\n",
    "from plotly.offline import download_plotlyjs, init_notebook_mode, plot, iplot\n",
    "\n",
    "import cufflinks as cf\n",
    "init_notebook_mode(connected=True)\n",
    "cf.go_offline()"
   ]
  },
  {
   "cell_type": "markdown",
   "metadata": {
    "papermill": {
     "duration": 0.051809,
     "end_time": "2021-03-01T01:26:14.892737",
     "exception": false,
     "start_time": "2021-03-01T01:26:14.840928",
     "status": "completed"
    },
    "tags": []
   },
   "source": [
    "## Import the csv file"
   ]
  },
  {
   "cell_type": "code",
   "execution_count": 4,
   "metadata": {
    "execution": {
     "iopub.execute_input": "2021-03-01T01:26:15.002859Z",
     "iopub.status.busy": "2021-03-01T01:26:15.001814Z",
     "iopub.status.idle": "2021-03-01T01:26:15.062791Z",
     "shell.execute_reply": "2021-03-01T01:26:15.063351Z"
    },
    "papermill": {
     "duration": 0.119306,
     "end_time": "2021-03-01T01:26:15.063576",
     "exception": false,
     "start_time": "2021-03-01T01:26:14.944270",
     "status": "completed"
    },
    "tags": []
   },
   "outputs": [
    {
     "data": {
      "text/html": [
       "<div>\n",
       "<style scoped>\n",
       "    .dataframe tbody tr th:only-of-type {\n",
       "        vertical-align: middle;\n",
       "    }\n",
       "\n",
       "    .dataframe tbody tr th {\n",
       "        vertical-align: top;\n",
       "    }\n",
       "\n",
       "    .dataframe thead th {\n",
       "        text-align: right;\n",
       "    }\n",
       "</style>\n",
       "<table border=\"1\" class=\"dataframe\">\n",
       "  <thead>\n",
       "    <tr style=\"text-align: right;\">\n",
       "      <th></th>\n",
       "      <th>Age</th>\n",
       "      <th>Gender</th>\n",
       "      <th>Total_Bilirubin</th>\n",
       "      <th>Direct_Bilirubin</th>\n",
       "      <th>Alkaline_Phosphotase</th>\n",
       "      <th>Alamine_Aminotransferase</th>\n",
       "      <th>Aspartate_Aminotransferase</th>\n",
       "      <th>Total_Protiens</th>\n",
       "      <th>Albumin</th>\n",
       "      <th>Albumin_and_Globulin_Ratio</th>\n",
       "      <th>Dataset</th>\n",
       "    </tr>\n",
       "  </thead>\n",
       "  <tbody>\n",
       "    <tr>\n",
       "      <th>0</th>\n",
       "      <td>65</td>\n",
       "      <td>Female</td>\n",
       "      <td>0.7</td>\n",
       "      <td>0.1</td>\n",
       "      <td>187</td>\n",
       "      <td>16</td>\n",
       "      <td>18</td>\n",
       "      <td>6.8</td>\n",
       "      <td>3.3</td>\n",
       "      <td>0.90</td>\n",
       "      <td>1</td>\n",
       "    </tr>\n",
       "    <tr>\n",
       "      <th>1</th>\n",
       "      <td>62</td>\n",
       "      <td>Male</td>\n",
       "      <td>10.9</td>\n",
       "      <td>5.5</td>\n",
       "      <td>699</td>\n",
       "      <td>64</td>\n",
       "      <td>100</td>\n",
       "      <td>7.5</td>\n",
       "      <td>3.2</td>\n",
       "      <td>0.74</td>\n",
       "      <td>1</td>\n",
       "    </tr>\n",
       "    <tr>\n",
       "      <th>2</th>\n",
       "      <td>62</td>\n",
       "      <td>Male</td>\n",
       "      <td>7.3</td>\n",
       "      <td>4.1</td>\n",
       "      <td>490</td>\n",
       "      <td>60</td>\n",
       "      <td>68</td>\n",
       "      <td>7.0</td>\n",
       "      <td>3.3</td>\n",
       "      <td>0.89</td>\n",
       "      <td>1</td>\n",
       "    </tr>\n",
       "  </tbody>\n",
       "</table>\n",
       "</div>"
      ],
      "text/plain": [
       "   Age  Gender  Total_Bilirubin  Direct_Bilirubin  Alkaline_Phosphotase  \\\n",
       "0   65  Female              0.7               0.1                   187   \n",
       "1   62    Male             10.9               5.5                   699   \n",
       "2   62    Male              7.3               4.1                   490   \n",
       "\n",
       "   Alamine_Aminotransferase  Aspartate_Aminotransferase  Total_Protiens  \\\n",
       "0                        16                          18             6.8   \n",
       "1                        64                         100             7.5   \n",
       "2                        60                          68             7.0   \n",
       "\n",
       "   Albumin  Albumin_and_Globulin_Ratio  Dataset  \n",
       "0      3.3                        0.90        1  \n",
       "1      3.2                        0.74        1  \n",
       "2      3.3                        0.89        1  "
      ]
     },
     "execution_count": 4,
     "metadata": {},
     "output_type": "execute_result"
    }
   ],
   "source": [
    "df = pd.read_csv('../input/indian-liver-patient-records/indian_liver_patient.csv')\n",
    "df.head(3) # dataframe snapshot"
   ]
  },
  {
   "cell_type": "code",
   "execution_count": 5,
   "metadata": {
    "execution": {
     "iopub.execute_input": "2021-03-01T01:26:15.173783Z",
     "iopub.status.busy": "2021-03-01T01:26:15.170791Z",
     "iopub.status.idle": "2021-03-01T01:26:15.180180Z",
     "shell.execute_reply": "2021-03-01T01:26:15.179600Z"
    },
    "papermill": {
     "duration": 0.064371,
     "end_time": "2021-03-01T01:26:15.180361",
     "exception": false,
     "start_time": "2021-03-01T01:26:15.115990",
     "status": "completed"
    },
    "tags": []
   },
   "outputs": [
    {
     "data": {
      "text/plain": [
       "Index(['Age', 'Gender', 'Total_Bilirubin', 'Direct_Bilirubin',\n",
       "       'Alkaline_Phosphotase', 'Alamine_Aminotransferase',\n",
       "       'Aspartate_Aminotransferase', 'Total_Protiens', 'Albumin',\n",
       "       'Albumin_and_Globulin_Ratio', 'Dataset'],\n",
       "      dtype='object')"
      ]
     },
     "execution_count": 5,
     "metadata": {},
     "output_type": "execute_result"
    }
   ],
   "source": [
    "df.columns #list of dataframe's columns"
   ]
  },
  {
   "cell_type": "code",
   "execution_count": 6,
   "metadata": {
    "execution": {
     "iopub.execute_input": "2021-03-01T01:26:15.286041Z",
     "iopub.status.busy": "2021-03-01T01:26:15.285300Z",
     "iopub.status.idle": "2021-03-01T01:26:15.289285Z",
     "shell.execute_reply": "2021-03-01T01:26:15.288548Z"
    },
    "papermill": {
     "duration": 0.05898,
     "end_time": "2021-03-01T01:26:15.289461",
     "exception": false,
     "start_time": "2021-03-01T01:26:15.230481",
     "status": "completed"
    },
    "tags": []
   },
   "outputs": [
    {
     "data": {
      "text/plain": [
       "(583, 11)"
      ]
     },
     "execution_count": 6,
     "metadata": {},
     "output_type": "execute_result"
    }
   ],
   "source": [
    "df.shape"
   ]
  },
  {
   "cell_type": "markdown",
   "metadata": {
    "papermill": {
     "duration": 0.053788,
     "end_time": "2021-03-01T01:26:15.398772",
     "exception": false,
     "start_time": "2021-03-01T01:26:15.344984",
     "status": "completed"
    },
    "tags": []
   },
   "source": [
    "The dataset contains 583 instances, 8 biological parameters, 2 demographic paramenters (Age and Gender) and 1 target value. Target value \"Dataset\" contains 1 for positive cases and 2 for negative cases. "
   ]
  },
  {
   "cell_type": "code",
   "execution_count": 7,
   "metadata": {
    "execution": {
     "iopub.execute_input": "2021-03-01T01:26:15.514182Z",
     "iopub.status.busy": "2021-03-01T01:26:15.513499Z",
     "iopub.status.idle": "2021-03-01T01:26:15.517597Z",
     "shell.execute_reply": "2021-03-01T01:26:15.516885Z"
    },
    "papermill": {
     "duration": 0.064253,
     "end_time": "2021-03-01T01:26:15.517759",
     "exception": false,
     "start_time": "2021-03-01T01:26:15.453506",
     "status": "completed"
    },
    "tags": []
   },
   "outputs": [],
   "source": [
    "df.rename(columns = {'Dataset':'liver_disease'}, inplace=True)"
   ]
  },
  {
   "cell_type": "code",
   "execution_count": 8,
   "metadata": {
    "execution": {
     "iopub.execute_input": "2021-03-01T01:26:15.644667Z",
     "iopub.status.busy": "2021-03-01T01:26:15.643955Z",
     "iopub.status.idle": "2021-03-01T01:26:15.647944Z",
     "shell.execute_reply": "2021-03-01T01:26:15.647382Z"
    },
    "papermill": {
     "duration": 0.077703,
     "end_time": "2021-03-01T01:26:15.648108",
     "exception": false,
     "start_time": "2021-03-01T01:26:15.570405",
     "status": "completed"
    },
    "tags": []
   },
   "outputs": [
    {
     "name": "stdout",
     "output_type": "stream",
     "text": [
      "<class 'pandas.core.frame.DataFrame'>\n",
      "RangeIndex: 583 entries, 0 to 582\n",
      "Data columns (total 11 columns):\n",
      " #   Column                      Non-Null Count  Dtype  \n",
      "---  ------                      --------------  -----  \n",
      " 0   Age                         583 non-null    int64  \n",
      " 1   Gender                      583 non-null    object \n",
      " 2   Total_Bilirubin             583 non-null    float64\n",
      " 3   Direct_Bilirubin            583 non-null    float64\n",
      " 4   Alkaline_Phosphotase        583 non-null    int64  \n",
      " 5   Alamine_Aminotransferase    583 non-null    int64  \n",
      " 6   Aspartate_Aminotransferase  583 non-null    int64  \n",
      " 7   Total_Protiens              583 non-null    float64\n",
      " 8   Albumin                     583 non-null    float64\n",
      " 9   Albumin_and_Globulin_Ratio  579 non-null    float64\n",
      " 10  liver_disease               583 non-null    int64  \n",
      "dtypes: float64(5), int64(5), object(1)\n",
      "memory usage: 50.2+ KB\n"
     ]
    }
   ],
   "source": [
    "df.info()"
   ]
  },
  {
   "cell_type": "markdown",
   "metadata": {
    "papermill": {
     "duration": 0.05251,
     "end_time": "2021-03-01T01:26:15.753598",
     "exception": false,
     "start_time": "2021-03-01T01:26:15.701088",
     "status": "completed"
    },
    "tags": []
   },
   "source": [
    "All the independent variables are numerical, except from Gender attribute with is categorical."
   ]
  },
  {
   "cell_type": "markdown",
   "metadata": {
    "papermill": {
     "duration": 0.052743,
     "end_time": "2021-03-01T01:26:15.859522",
     "exception": false,
     "start_time": "2021-03-01T01:26:15.806779",
     "status": "completed"
    },
    "tags": []
   },
   "source": [
    "### Descriptive Statistics\n",
    "In the dataframe below we can see some fundamental statistical measures such as: mean, std, min, max, quantiles ect."
   ]
  },
  {
   "cell_type": "code",
   "execution_count": 9,
   "metadata": {
    "execution": {
     "iopub.execute_input": "2021-03-01T01:26:15.972558Z",
     "iopub.status.busy": "2021-03-01T01:26:15.971747Z",
     "iopub.status.idle": "2021-03-01T01:26:16.011725Z",
     "shell.execute_reply": "2021-03-01T01:26:16.012264Z"
    },
    "papermill": {
     "duration": 0.100009,
     "end_time": "2021-03-01T01:26:16.012439",
     "exception": false,
     "start_time": "2021-03-01T01:26:15.912430",
     "status": "completed"
    },
    "tags": []
   },
   "outputs": [
    {
     "data": {
      "text/html": [
       "<div>\n",
       "<style scoped>\n",
       "    .dataframe tbody tr th:only-of-type {\n",
       "        vertical-align: middle;\n",
       "    }\n",
       "\n",
       "    .dataframe tbody tr th {\n",
       "        vertical-align: top;\n",
       "    }\n",
       "\n",
       "    .dataframe thead th {\n",
       "        text-align: right;\n",
       "    }\n",
       "</style>\n",
       "<table border=\"1\" class=\"dataframe\">\n",
       "  <thead>\n",
       "    <tr style=\"text-align: right;\">\n",
       "      <th></th>\n",
       "      <th>Age</th>\n",
       "      <th>Total_Bilirubin</th>\n",
       "      <th>Direct_Bilirubin</th>\n",
       "      <th>Alkaline_Phosphotase</th>\n",
       "      <th>Alamine_Aminotransferase</th>\n",
       "      <th>Aspartate_Aminotransferase</th>\n",
       "      <th>Total_Protiens</th>\n",
       "      <th>Albumin</th>\n",
       "      <th>Albumin_and_Globulin_Ratio</th>\n",
       "    </tr>\n",
       "  </thead>\n",
       "  <tbody>\n",
       "    <tr>\n",
       "      <th>count</th>\n",
       "      <td>583.000000</td>\n",
       "      <td>583.000000</td>\n",
       "      <td>583.000000</td>\n",
       "      <td>583.000000</td>\n",
       "      <td>583.000000</td>\n",
       "      <td>583.000000</td>\n",
       "      <td>583.000000</td>\n",
       "      <td>583.000000</td>\n",
       "      <td>579.000000</td>\n",
       "    </tr>\n",
       "    <tr>\n",
       "      <th>mean</th>\n",
       "      <td>44.746141</td>\n",
       "      <td>3.298799</td>\n",
       "      <td>1.486106</td>\n",
       "      <td>290.576329</td>\n",
       "      <td>80.713551</td>\n",
       "      <td>109.910806</td>\n",
       "      <td>6.483190</td>\n",
       "      <td>3.141852</td>\n",
       "      <td>0.947064</td>\n",
       "    </tr>\n",
       "    <tr>\n",
       "      <th>std</th>\n",
       "      <td>16.189833</td>\n",
       "      <td>6.209522</td>\n",
       "      <td>2.808498</td>\n",
       "      <td>242.937989</td>\n",
       "      <td>182.620356</td>\n",
       "      <td>288.918529</td>\n",
       "      <td>1.085451</td>\n",
       "      <td>0.795519</td>\n",
       "      <td>0.319592</td>\n",
       "    </tr>\n",
       "    <tr>\n",
       "      <th>min</th>\n",
       "      <td>4.000000</td>\n",
       "      <td>0.400000</td>\n",
       "      <td>0.100000</td>\n",
       "      <td>63.000000</td>\n",
       "      <td>10.000000</td>\n",
       "      <td>10.000000</td>\n",
       "      <td>2.700000</td>\n",
       "      <td>0.900000</td>\n",
       "      <td>0.300000</td>\n",
       "    </tr>\n",
       "    <tr>\n",
       "      <th>25%</th>\n",
       "      <td>33.000000</td>\n",
       "      <td>0.800000</td>\n",
       "      <td>0.200000</td>\n",
       "      <td>175.500000</td>\n",
       "      <td>23.000000</td>\n",
       "      <td>25.000000</td>\n",
       "      <td>5.800000</td>\n",
       "      <td>2.600000</td>\n",
       "      <td>0.700000</td>\n",
       "    </tr>\n",
       "    <tr>\n",
       "      <th>50%</th>\n",
       "      <td>45.000000</td>\n",
       "      <td>1.000000</td>\n",
       "      <td>0.300000</td>\n",
       "      <td>208.000000</td>\n",
       "      <td>35.000000</td>\n",
       "      <td>42.000000</td>\n",
       "      <td>6.600000</td>\n",
       "      <td>3.100000</td>\n",
       "      <td>0.930000</td>\n",
       "    </tr>\n",
       "    <tr>\n",
       "      <th>75%</th>\n",
       "      <td>58.000000</td>\n",
       "      <td>2.600000</td>\n",
       "      <td>1.300000</td>\n",
       "      <td>298.000000</td>\n",
       "      <td>60.500000</td>\n",
       "      <td>87.000000</td>\n",
       "      <td>7.200000</td>\n",
       "      <td>3.800000</td>\n",
       "      <td>1.100000</td>\n",
       "    </tr>\n",
       "    <tr>\n",
       "      <th>max</th>\n",
       "      <td>90.000000</td>\n",
       "      <td>75.000000</td>\n",
       "      <td>19.700000</td>\n",
       "      <td>2110.000000</td>\n",
       "      <td>2000.000000</td>\n",
       "      <td>4929.000000</td>\n",
       "      <td>9.600000</td>\n",
       "      <td>5.500000</td>\n",
       "      <td>2.800000</td>\n",
       "    </tr>\n",
       "  </tbody>\n",
       "</table>\n",
       "</div>"
      ],
      "text/plain": [
       "              Age  Total_Bilirubin  Direct_Bilirubin  Alkaline_Phosphotase  \\\n",
       "count  583.000000       583.000000        583.000000            583.000000   \n",
       "mean    44.746141         3.298799          1.486106            290.576329   \n",
       "std     16.189833         6.209522          2.808498            242.937989   \n",
       "min      4.000000         0.400000          0.100000             63.000000   \n",
       "25%     33.000000         0.800000          0.200000            175.500000   \n",
       "50%     45.000000         1.000000          0.300000            208.000000   \n",
       "75%     58.000000         2.600000          1.300000            298.000000   \n",
       "max     90.000000        75.000000         19.700000           2110.000000   \n",
       "\n",
       "       Alamine_Aminotransferase  Aspartate_Aminotransferase  Total_Protiens  \\\n",
       "count                583.000000                  583.000000      583.000000   \n",
       "mean                  80.713551                  109.910806        6.483190   \n",
       "std                  182.620356                  288.918529        1.085451   \n",
       "min                   10.000000                   10.000000        2.700000   \n",
       "25%                   23.000000                   25.000000        5.800000   \n",
       "50%                   35.000000                   42.000000        6.600000   \n",
       "75%                   60.500000                   87.000000        7.200000   \n",
       "max                 2000.000000                 4929.000000        9.600000   \n",
       "\n",
       "          Albumin  Albumin_and_Globulin_Ratio  \n",
       "count  583.000000                  579.000000  \n",
       "mean     3.141852                    0.947064  \n",
       "std      0.795519                    0.319592  \n",
       "min      0.900000                    0.300000  \n",
       "25%      2.600000                    0.700000  \n",
       "50%      3.100000                    0.930000  \n",
       "75%      3.800000                    1.100000  \n",
       "max      5.500000                    2.800000  "
      ]
     },
     "execution_count": 9,
     "metadata": {},
     "output_type": "execute_result"
    }
   ],
   "source": [
    "df.iloc[:,:-1].describe()"
   ]
  },
  {
   "cell_type": "markdown",
   "metadata": {
    "papermill": {
     "duration": 0.054614,
     "end_time": "2021-03-01T01:26:16.123340",
     "exception": false,
     "start_time": "2021-03-01T01:26:16.068726",
     "status": "completed"
    },
    "tags": []
   },
   "source": [
    "## Missing values "
   ]
  },
  {
   "cell_type": "code",
   "execution_count": 10,
   "metadata": {
    "execution": {
     "iopub.execute_input": "2021-03-01T01:26:16.233120Z",
     "iopub.status.busy": "2021-03-01T01:26:16.232378Z",
     "iopub.status.idle": "2021-03-01T01:26:16.495899Z",
     "shell.execute_reply": "2021-03-01T01:26:16.495182Z"
    },
    "papermill": {
     "duration": 0.319503,
     "end_time": "2021-03-01T01:26:16.496073",
     "exception": false,
     "start_time": "2021-03-01T01:26:16.176570",
     "status": "completed"
    },
    "tags": []
   },
   "outputs": [
    {
     "data": {
      "text/plain": [
       "<AxesSubplot:>"
      ]
     },
     "execution_count": 10,
     "metadata": {},
     "output_type": "execute_result"
    },
    {
     "data": {
      "image/png": "[encoded data removed]",
      "text/plain": [
       "<Figure size 432x288 with 1 Axes>"
      ]
     },
     "metadata": {
      "needs_background": "light"
     },
     "output_type": "display_data"
    }
   ],
   "source": [
    "sns.heatmap(df.isnull(),yticklabels=False,cbar=False,cmap='viridis')"
   ]
  },
  {
   "cell_type": "code",
   "execution_count": 11,
   "metadata": {
    "execution": {
     "iopub.execute_input": "2021-03-01T01:26:16.617448Z",
     "iopub.status.busy": "2021-03-01T01:26:16.614961Z",
     "iopub.status.idle": "2021-03-01T01:26:16.622652Z",
     "shell.execute_reply": "2021-03-01T01:26:16.621966Z"
    },
    "papermill": {
     "duration": 0.070685,
     "end_time": "2021-03-01T01:26:16.622919",
     "exception": false,
     "start_time": "2021-03-01T01:26:16.552234",
     "status": "completed"
    },
    "tags": []
   },
   "outputs": [
    {
     "data": {
      "text/plain": [
       "Age                           0\n",
       "Gender                        0\n",
       "Total_Bilirubin               0\n",
       "Direct_Bilirubin              0\n",
       "Alkaline_Phosphotase          0\n",
       "Alamine_Aminotransferase      0\n",
       "Aspartate_Aminotransferase    0\n",
       "Total_Protiens                0\n",
       "Albumin                       0\n",
       "Albumin_and_Globulin_Ratio    4\n",
       "liver_disease                 0\n",
       "dtype: int64"
      ]
     },
     "execution_count": 11,
     "metadata": {},
     "output_type": "execute_result"
    }
   ],
   "source": [
    "df.isnull().sum()"
   ]
  },
  {
   "cell_type": "markdown",
   "metadata": {
    "papermill": {
     "duration": 0.054698,
     "end_time": "2021-03-01T01:26:16.732491",
     "exception": false,
     "start_time": "2021-03-01T01:26:16.677793",
     "status": "completed"
    },
    "tags": []
   },
   "source": [
    "There is only a small percentage of missing values in the dataset. Also, only the feature *Albumin_and_Globulin_Ratio* contains missing values. We will replace missing values with '?'"
   ]
  },
  {
   "cell_type": "code",
   "execution_count": 12,
   "metadata": {
    "execution": {
     "iopub.execute_input": "2021-03-01T01:26:16.852643Z",
     "iopub.status.busy": "2021-03-01T01:26:16.851879Z",
     "iopub.status.idle": "2021-03-01T01:26:16.856964Z",
     "shell.execute_reply": "2021-03-01T01:26:16.856390Z"
    },
    "papermill": {
     "duration": 0.068682,
     "end_time": "2021-03-01T01:26:16.857151",
     "exception": false,
     "start_time": "2021-03-01T01:26:16.788469",
     "status": "completed"
    },
    "tags": []
   },
   "outputs": [],
   "source": [
    "df.fillna('?', inplace = True)"
   ]
  },
  {
   "cell_type": "code",
   "execution_count": 13,
   "metadata": {
    "execution": {
     "iopub.execute_input": "2021-03-01T01:26:16.989172Z",
     "iopub.status.busy": "2021-03-01T01:26:16.987623Z",
     "iopub.status.idle": "2021-03-01T01:26:16.995327Z",
     "shell.execute_reply": "2021-03-01T01:26:16.994112Z"
    },
    "papermill": {
     "duration": 0.084562,
     "end_time": "2021-03-01T01:26:16.995497",
     "exception": false,
     "start_time": "2021-03-01T01:26:16.910935",
     "status": "completed"
    },
    "tags": []
   },
   "outputs": [
    {
     "data": {
      "text/html": [
       "<div>\n",
       "<style scoped>\n",
       "    .dataframe tbody tr th:only-of-type {\n",
       "        vertical-align: middle;\n",
       "    }\n",
       "\n",
       "    .dataframe tbody tr th {\n",
       "        vertical-align: top;\n",
       "    }\n",
       "\n",
       "    .dataframe thead th {\n",
       "        text-align: right;\n",
       "    }\n",
       "</style>\n",
       "<table border=\"1\" class=\"dataframe\">\n",
       "  <thead>\n",
       "    <tr style=\"text-align: right;\">\n",
       "      <th></th>\n",
       "      <th>Age</th>\n",
       "      <th>Gender</th>\n",
       "      <th>Total_Bilirubin</th>\n",
       "      <th>Direct_Bilirubin</th>\n",
       "      <th>Alkaline_Phosphotase</th>\n",
       "      <th>Alamine_Aminotransferase</th>\n",
       "      <th>Aspartate_Aminotransferase</th>\n",
       "      <th>Total_Protiens</th>\n",
       "      <th>Albumin</th>\n",
       "      <th>Albumin_and_Globulin_Ratio</th>\n",
       "      <th>liver_disease</th>\n",
       "    </tr>\n",
       "  </thead>\n",
       "  <tbody>\n",
       "    <tr>\n",
       "      <th>209</th>\n",
       "      <td>45</td>\n",
       "      <td>Female</td>\n",
       "      <td>0.9</td>\n",
       "      <td>0.3</td>\n",
       "      <td>189</td>\n",
       "      <td>23</td>\n",
       "      <td>33</td>\n",
       "      <td>6.6</td>\n",
       "      <td>3.9</td>\n",
       "      <td>?</td>\n",
       "      <td>1</td>\n",
       "    </tr>\n",
       "    <tr>\n",
       "      <th>241</th>\n",
       "      <td>51</td>\n",
       "      <td>Male</td>\n",
       "      <td>0.8</td>\n",
       "      <td>0.2</td>\n",
       "      <td>230</td>\n",
       "      <td>24</td>\n",
       "      <td>46</td>\n",
       "      <td>6.5</td>\n",
       "      <td>3.1</td>\n",
       "      <td>?</td>\n",
       "      <td>1</td>\n",
       "    </tr>\n",
       "    <tr>\n",
       "      <th>253</th>\n",
       "      <td>35</td>\n",
       "      <td>Female</td>\n",
       "      <td>0.6</td>\n",
       "      <td>0.2</td>\n",
       "      <td>180</td>\n",
       "      <td>12</td>\n",
       "      <td>15</td>\n",
       "      <td>5.2</td>\n",
       "      <td>2.7</td>\n",
       "      <td>?</td>\n",
       "      <td>2</td>\n",
       "    </tr>\n",
       "    <tr>\n",
       "      <th>312</th>\n",
       "      <td>27</td>\n",
       "      <td>Male</td>\n",
       "      <td>1.3</td>\n",
       "      <td>0.6</td>\n",
       "      <td>106</td>\n",
       "      <td>25</td>\n",
       "      <td>54</td>\n",
       "      <td>8.5</td>\n",
       "      <td>4.8</td>\n",
       "      <td>?</td>\n",
       "      <td>2</td>\n",
       "    </tr>\n",
       "  </tbody>\n",
       "</table>\n",
       "</div>"
      ],
      "text/plain": [
       "     Age  Gender  Total_Bilirubin  Direct_Bilirubin  Alkaline_Phosphotase  \\\n",
       "209   45  Female              0.9               0.3                   189   \n",
       "241   51    Male              0.8               0.2                   230   \n",
       "253   35  Female              0.6               0.2                   180   \n",
       "312   27    Male              1.3               0.6                   106   \n",
       "\n",
       "     Alamine_Aminotransferase  Aspartate_Aminotransferase  Total_Protiens  \\\n",
       "209                        23                          33             6.6   \n",
       "241                        24                          46             6.5   \n",
       "253                        12                          15             5.2   \n",
       "312                        25                          54             8.5   \n",
       "\n",
       "     Albumin Albumin_and_Globulin_Ratio  liver_disease  \n",
       "209      3.9                          ?              1  \n",
       "241      3.1                          ?              1  \n",
       "253      2.7                          ?              2  \n",
       "312      4.8                          ?              2  "
      ]
     },
     "execution_count": 13,
     "metadata": {},
     "output_type": "execute_result"
    }
   ],
   "source": [
    "df[df[\"Albumin_and_Globulin_Ratio\"] == '?']"
   ]
  },
  {
   "cell_type": "markdown",
   "metadata": {
    "papermill": {
     "duration": 0.061396,
     "end_time": "2021-03-01T01:26:17.117590",
     "exception": false,
     "start_time": "2021-03-01T01:26:17.056194",
     "status": "completed"
    },
    "tags": []
   },
   "source": [
    "Despite the small percentage of missing values in the dataset, we are going to replace them with *class mean*. We will find the mean class value of each missing value and we will use it to replace it."
   ]
  },
  {
   "cell_type": "code",
   "execution_count": 14,
   "metadata": {
    "execution": {
     "iopub.execute_input": "2021-03-01T01:26:17.234614Z",
     "iopub.status.busy": "2021-03-01T01:26:17.233936Z",
     "iopub.status.idle": "2021-03-01T01:26:17.239652Z",
     "shell.execute_reply": "2021-03-01T01:26:17.240154Z"
    },
    "papermill": {
     "duration": 0.067209,
     "end_time": "2021-03-01T01:26:17.240349",
     "exception": false,
     "start_time": "2021-03-01T01:26:17.173140",
     "status": "completed"
    },
    "tags": []
   },
   "outputs": [],
   "source": [
    "df_without_missing = df[df[\"Albumin_and_Globulin_Ratio\"] != '?']"
   ]
  },
  {
   "cell_type": "code",
   "execution_count": 15,
   "metadata": {
    "execution": {
     "iopub.execute_input": "2021-03-01T01:26:17.354844Z",
     "iopub.status.busy": "2021-03-01T01:26:17.354223Z",
     "iopub.status.idle": "2021-03-01T01:26:17.379429Z",
     "shell.execute_reply": "2021-03-01T01:26:17.378792Z"
    },
    "papermill": {
     "duration": 0.084984,
     "end_time": "2021-03-01T01:26:17.379581",
     "exception": false,
     "start_time": "2021-03-01T01:26:17.294597",
     "status": "completed"
    },
    "tags": []
   },
   "outputs": [],
   "source": [
    "df_without_missing_class_1 = df_without_missing[df_without_missing['liver_disease'] == 1]\n",
    "mean_dataset_class_1 = round(df_without_missing_class_1[df_without_missing_class_1['liver_disease'] == 1]['Albumin_and_Globulin_Ratio'].mean(),1)"
   ]
  },
  {
   "cell_type": "markdown",
   "metadata": {
    "papermill": {
     "duration": 0.054481,
     "end_time": "2021-03-01T01:26:17.489034",
     "exception": false,
     "start_time": "2021-03-01T01:26:17.434553",
     "status": "completed"
    },
    "tags": []
   },
   "source": [
    "Mean value calculation for Albumin_and_Globulin_Ratio feature for class 1 (positive)"
   ]
  },
  {
   "cell_type": "code",
   "execution_count": 16,
   "metadata": {
    "execution": {
     "iopub.execute_input": "2021-03-01T01:26:17.604350Z",
     "iopub.status.busy": "2021-03-01T01:26:17.603477Z",
     "iopub.status.idle": "2021-03-01T01:26:17.607324Z",
     "shell.execute_reply": "2021-03-01T01:26:17.607803Z"
    },
    "papermill": {
     "duration": 0.064215,
     "end_time": "2021-03-01T01:26:17.607973",
     "exception": false,
     "start_time": "2021-03-01T01:26:17.543758",
     "status": "completed"
    },
    "tags": []
   },
   "outputs": [
    {
     "name": "stdout",
     "output_type": "stream",
     "text": [
      "mean value of Albumin_and_Globulin_Ratio in class 1: 0.9\n"
     ]
    }
   ],
   "source": [
    "print('mean value of Albumin_and_Globulin_Ratio in class 1: {}'.format(mean_dataset_class_1))"
   ]
  },
  {
   "cell_type": "markdown",
   "metadata": {
    "papermill": {
     "duration": 0.055745,
     "end_time": "2021-03-01T01:26:17.720165",
     "exception": false,
     "start_time": "2021-03-01T01:26:17.664420",
     "status": "completed"
    },
    "tags": []
   },
   "source": [
    "Mean value for feature Albumin_and_Globulin_Ratio for class 2 (negative)"
   ]
  },
  {
   "cell_type": "code",
   "execution_count": 17,
   "metadata": {
    "execution": {
     "iopub.execute_input": "2021-03-01T01:26:17.837147Z",
     "iopub.status.busy": "2021-03-01T01:26:17.835979Z",
     "iopub.status.idle": "2021-03-01T01:26:17.846255Z",
     "shell.execute_reply": "2021-03-01T01:26:17.846761Z"
    },
    "papermill": {
     "duration": 0.071009,
     "end_time": "2021-03-01T01:26:17.846959",
     "exception": false,
     "start_time": "2021-03-01T01:26:17.775950",
     "status": "completed"
    },
    "tags": []
   },
   "outputs": [
    {
     "name": "stdout",
     "output_type": "stream",
     "text": [
      "mean value of Albumin_and_Globulin_Ratio in class 2: 1.0\n"
     ]
    }
   ],
   "source": [
    "df_without_missing_class_2 = df_without_missing[df_without_missing['liver_disease'] == 2]\n",
    "mean_dataset_class_2 = round(df_without_missing_class_2[df_without_missing_class_2['liver_disease'] == 2]['Albumin_and_Globulin_Ratio'].mean(),1)\n",
    "print('mean value of Albumin_and_Globulin_Ratio in class 2: {}'.format(mean_dataset_class_2))"
   ]
  },
  {
   "cell_type": "markdown",
   "metadata": {
    "papermill": {
     "duration": 0.055464,
     "end_time": "2021-03-01T01:26:17.958613",
     "exception": false,
     "start_time": "2021-03-01T01:26:17.903149",
     "status": "completed"
    },
    "tags": []
   },
   "source": [
    "Replace missing values"
   ]
  },
  {
   "cell_type": "code",
   "execution_count": 18,
   "metadata": {
    "execution": {
     "iopub.execute_input": "2021-03-01T01:26:18.074508Z",
     "iopub.status.busy": "2021-03-01T01:26:18.073821Z",
     "iopub.status.idle": "2021-03-01T01:26:18.091665Z",
     "shell.execute_reply": "2021-03-01T01:26:18.092206Z"
    },
    "papermill": {
     "duration": 0.077934,
     "end_time": "2021-03-01T01:26:18.092394",
     "exception": false,
     "start_time": "2021-03-01T01:26:18.014460",
     "status": "completed"
    },
    "tags": []
   },
   "outputs": [
    {
     "data": {
      "text/html": [
       "<div>\n",
       "<style scoped>\n",
       "    .dataframe tbody tr th:only-of-type {\n",
       "        vertical-align: middle;\n",
       "    }\n",
       "\n",
       "    .dataframe tbody tr th {\n",
       "        vertical-align: top;\n",
       "    }\n",
       "\n",
       "    .dataframe thead th {\n",
       "        text-align: right;\n",
       "    }\n",
       "</style>\n",
       "<table border=\"1\" class=\"dataframe\">\n",
       "  <thead>\n",
       "    <tr style=\"text-align: right;\">\n",
       "      <th></th>\n",
       "      <th>Age</th>\n",
       "      <th>Gender</th>\n",
       "      <th>Total_Bilirubin</th>\n",
       "      <th>Direct_Bilirubin</th>\n",
       "      <th>Alkaline_Phosphotase</th>\n",
       "      <th>Alamine_Aminotransferase</th>\n",
       "      <th>Aspartate_Aminotransferase</th>\n",
       "      <th>Total_Protiens</th>\n",
       "      <th>Albumin</th>\n",
       "      <th>Albumin_and_Globulin_Ratio</th>\n",
       "      <th>liver_disease</th>\n",
       "    </tr>\n",
       "  </thead>\n",
       "  <tbody>\n",
       "    <tr>\n",
       "      <th>209</th>\n",
       "      <td>45</td>\n",
       "      <td>Female</td>\n",
       "      <td>0.9</td>\n",
       "      <td>0.3</td>\n",
       "      <td>189</td>\n",
       "      <td>23</td>\n",
       "      <td>33</td>\n",
       "      <td>6.6</td>\n",
       "      <td>3.9</td>\n",
       "      <td>?</td>\n",
       "      <td>1</td>\n",
       "    </tr>\n",
       "    <tr>\n",
       "      <th>241</th>\n",
       "      <td>51</td>\n",
       "      <td>Male</td>\n",
       "      <td>0.8</td>\n",
       "      <td>0.2</td>\n",
       "      <td>230</td>\n",
       "      <td>24</td>\n",
       "      <td>46</td>\n",
       "      <td>6.5</td>\n",
       "      <td>3.1</td>\n",
       "      <td>?</td>\n",
       "      <td>1</td>\n",
       "    </tr>\n",
       "    <tr>\n",
       "      <th>253</th>\n",
       "      <td>35</td>\n",
       "      <td>Female</td>\n",
       "      <td>0.6</td>\n",
       "      <td>0.2</td>\n",
       "      <td>180</td>\n",
       "      <td>12</td>\n",
       "      <td>15</td>\n",
       "      <td>5.2</td>\n",
       "      <td>2.7</td>\n",
       "      <td>?</td>\n",
       "      <td>2</td>\n",
       "    </tr>\n",
       "    <tr>\n",
       "      <th>312</th>\n",
       "      <td>27</td>\n",
       "      <td>Male</td>\n",
       "      <td>1.3</td>\n",
       "      <td>0.6</td>\n",
       "      <td>106</td>\n",
       "      <td>25</td>\n",
       "      <td>54</td>\n",
       "      <td>8.5</td>\n",
       "      <td>4.8</td>\n",
       "      <td>?</td>\n",
       "      <td>2</td>\n",
       "    </tr>\n",
       "  </tbody>\n",
       "</table>\n",
       "</div>"
      ],
      "text/plain": [
       "     Age  Gender  Total_Bilirubin  Direct_Bilirubin  Alkaline_Phosphotase  \\\n",
       "209   45  Female              0.9               0.3                   189   \n",
       "241   51    Male              0.8               0.2                   230   \n",
       "253   35  Female              0.6               0.2                   180   \n",
       "312   27    Male              1.3               0.6                   106   \n",
       "\n",
       "     Alamine_Aminotransferase  Aspartate_Aminotransferase  Total_Protiens  \\\n",
       "209                        23                          33             6.6   \n",
       "241                        24                          46             6.5   \n",
       "253                        12                          15             5.2   \n",
       "312                        25                          54             8.5   \n",
       "\n",
       "     Albumin Albumin_and_Globulin_Ratio  liver_disease  \n",
       "209      3.9                          ?              1  \n",
       "241      3.1                          ?              1  \n",
       "253      2.7                          ?              2  \n",
       "312      4.8                          ?              2  "
      ]
     },
     "execution_count": 18,
     "metadata": {},
     "output_type": "execute_result"
    }
   ],
   "source": [
    "df[df[\"Albumin_and_Globulin_Ratio\"] == '?']"
   ]
  },
  {
   "cell_type": "code",
   "execution_count": 19,
   "metadata": {
    "execution": {
     "iopub.execute_input": "2021-03-01T01:26:18.213118Z",
     "iopub.status.busy": "2021-03-01T01:26:18.212024Z",
     "iopub.status.idle": "2021-03-01T01:26:18.222826Z",
     "shell.execute_reply": "2021-03-01T01:26:18.223413Z"
    },
    "papermill": {
     "duration": 0.072415,
     "end_time": "2021-03-01T01:26:18.223625",
     "exception": false,
     "start_time": "2021-03-01T01:26:18.151210",
     "status": "completed"
    },
    "tags": []
   },
   "outputs": [],
   "source": [
    "df['Albumin_and_Globulin_Ratio'][209] = mean_dataset_class_1\n",
    "df['Albumin_and_Globulin_Ratio'][241] = mean_dataset_class_1\n",
    "df['Albumin_and_Globulin_Ratio'][253] = mean_dataset_class_2\n",
    "df['Albumin_and_Globulin_Ratio'][312] = mean_dataset_class_2"
   ]
  },
  {
   "cell_type": "markdown",
   "metadata": {
    "papermill": {
     "duration": 0.057257,
     "end_time": "2021-03-01T01:26:18.338363",
     "exception": false,
     "start_time": "2021-03-01T01:26:18.281106",
     "status": "completed"
    },
    "tags": []
   },
   "source": [
    "Replace values of *liver_disease* target value. \n",
    "* 0 ---> liver disease negative class\n",
    "* 1 ---> liver disease positive class"
   ]
  },
  {
   "cell_type": "code",
   "execution_count": 20,
   "metadata": {
    "execution": {
     "iopub.execute_input": "2021-03-01T01:26:18.457531Z",
     "iopub.status.busy": "2021-03-01T01:26:18.456495Z",
     "iopub.status.idle": "2021-03-01T01:26:18.464079Z",
     "shell.execute_reply": "2021-03-01T01:26:18.463365Z"
    },
    "papermill": {
     "duration": 0.068398,
     "end_time": "2021-03-01T01:26:18.464260",
     "exception": false,
     "start_time": "2021-03-01T01:26:18.395862",
     "status": "completed"
    },
    "tags": []
   },
   "outputs": [],
   "source": [
    "df['liver_disease'] = df['liver_disease'].replace(2,0)"
   ]
  },
  {
   "cell_type": "code",
   "execution_count": 21,
   "metadata": {
    "execution": {
     "iopub.execute_input": "2021-03-01T01:26:18.587013Z",
     "iopub.status.busy": "2021-03-01T01:26:18.586024Z",
     "iopub.status.idle": "2021-03-01T01:26:18.590922Z",
     "shell.execute_reply": "2021-03-01T01:26:18.590216Z"
    },
    "papermill": {
     "duration": 0.068705,
     "end_time": "2021-03-01T01:26:18.591103",
     "exception": false,
     "start_time": "2021-03-01T01:26:18.522398",
     "status": "completed"
    },
    "tags": []
   },
   "outputs": [],
   "source": [
    "df['liver_disease'] = df['liver_disease'].astype('category')"
   ]
  },
  {
   "cell_type": "code",
   "execution_count": 22,
   "metadata": {
    "execution": {
     "iopub.execute_input": "2021-03-01T01:26:18.712868Z",
     "iopub.status.busy": "2021-03-01T01:26:18.711874Z",
     "iopub.status.idle": "2021-03-01T01:26:18.722258Z",
     "shell.execute_reply": "2021-03-01T01:26:18.721724Z"
    },
    "papermill": {
     "duration": 0.074174,
     "end_time": "2021-03-01T01:26:18.722410",
     "exception": false,
     "start_time": "2021-03-01T01:26:18.648236",
     "status": "completed"
    },
    "tags": []
   },
   "outputs": [
    {
     "data": {
      "text/plain": [
       "1    416\n",
       "0    167\n",
       "Name: liver_disease, dtype: int64"
      ]
     },
     "execution_count": 22,
     "metadata": {},
     "output_type": "execute_result"
    }
   ],
   "source": [
    "df['liver_disease'].value_counts()"
   ]
  },
  {
   "cell_type": "code",
   "execution_count": 23,
   "metadata": {
    "execution": {
     "iopub.execute_input": "2021-03-01T01:26:18.840581Z",
     "iopub.status.busy": "2021-03-01T01:26:18.839609Z",
     "iopub.status.idle": "2021-03-01T01:26:18.844955Z",
     "shell.execute_reply": "2021-03-01T01:26:18.845447Z"
    },
    "papermill": {
     "duration": 0.066345,
     "end_time": "2021-03-01T01:26:18.845652",
     "exception": false,
     "start_time": "2021-03-01T01:26:18.779307",
     "status": "completed"
    },
    "tags": []
   },
   "outputs": [],
   "source": [
    "df['Albumin_and_Globulin_Ratio'] = df['Albumin_and_Globulin_Ratio'].astype('float')"
   ]
  },
  {
   "cell_type": "markdown",
   "metadata": {
    "papermill": {
     "duration": 0.058307,
     "end_time": "2021-03-01T01:26:18.961307",
     "exception": false,
     "start_time": "2021-03-01T01:26:18.903000",
     "status": "completed"
    },
    "tags": []
   },
   "source": [
    "### ~ end of preprocessing ~ \n",
    "\n",
    "## Exploratory Data Analysis (EDA)"
   ]
  },
  {
   "cell_type": "markdown",
   "metadata": {
    "papermill": {
     "duration": 0.057345,
     "end_time": "2021-03-01T01:26:19.076848",
     "exception": false,
     "start_time": "2021-03-01T01:26:19.019503",
     "status": "completed"
    },
    "tags": []
   },
   "source": [
    "### liver_disease target-value\n",
    "countplot implementation"
   ]
  },
  {
   "cell_type": "code",
   "execution_count": 24,
   "metadata": {
    "execution": {
     "iopub.execute_input": "2021-03-01T01:26:19.205849Z",
     "iopub.status.busy": "2021-03-01T01:26:19.205182Z",
     "iopub.status.idle": "2021-03-01T01:26:19.362910Z",
     "shell.execute_reply": "2021-03-01T01:26:19.363432Z"
    },
    "papermill": {
     "duration": 0.228845,
     "end_time": "2021-03-01T01:26:19.363618",
     "exception": false,
     "start_time": "2021-03-01T01:26:19.134773",
     "status": "completed"
    },
    "tags": []
   },
   "outputs": [
    {
     "data": {
      "image/png": "[encoded data removed]",
      "text/plain": [
       "<Figure size 504x396 with 1 Axes>"
      ]
     },
     "metadata": {
      "needs_background": "light"
     },
     "output_type": "display_data"
    }
   ],
   "source": [
    "plt.figure(figsize=(7,5.5))\n",
    "sns.countplot(x = 'liver_disease', data = df, palette='Set3')\n",
    "plt.xticks(ticks = [0,1], labels = ['negative', 'positive']) \n",
    "plt.show()"
   ]
  },
  {
   "cell_type": "code",
   "execution_count": 25,
   "metadata": {
    "execution": {
     "iopub.execute_input": "2021-03-01T01:26:19.492693Z",
     "iopub.status.busy": "2021-03-01T01:26:19.491651Z",
     "iopub.status.idle": "2021-03-01T01:26:19.503561Z",
     "shell.execute_reply": "2021-03-01T01:26:19.504157Z"
    },
    "papermill": {
     "duration": 0.082853,
     "end_time": "2021-03-01T01:26:19.504347",
     "exception": false,
     "start_time": "2021-03-01T01:26:19.421494",
     "status": "completed"
    },
    "tags": []
   },
   "outputs": [
    {
     "name": "stdout",
     "output_type": "stream",
     "text": [
      "416 patients diagnosed with liver disease\n",
      "167 patients not diagnosed with liver disease\n"
     ]
    }
   ],
   "source": [
    "patients_with = df['liver_disease'].value_counts().to_frame().iloc[0]\n",
    "patients_without = df['liver_disease'].value_counts().to_frame().iloc[1]\n",
    "print(f'{int(patients_with)} patients diagnosed with liver disease')\n",
    "print(f'{int(patients_without)} patients not diagnosed with liver disease')"
   ]
  },
  {
   "cell_type": "code",
   "execution_count": 26,
   "metadata": {
    "execution": {
     "iopub.execute_input": "2021-03-01T01:26:19.630969Z",
     "iopub.status.busy": "2021-03-01T01:26:19.630033Z",
     "iopub.status.idle": "2021-03-01T01:26:19.639792Z",
     "shell.execute_reply": "2021-03-01T01:26:19.640319Z"
    },
    "papermill": {
     "duration": 0.073888,
     "end_time": "2021-03-01T01:26:19.640567",
     "exception": false,
     "start_time": "2021-03-01T01:26:19.566679",
     "status": "completed"
    },
    "tags": []
   },
   "outputs": [],
   "source": [
    "v_c_dataset = df['liver_disease'].value_counts(normalize = True).to_frame()\n",
    "v_c_dataset.iloc[0] = round(v_c_dataset.iloc[0] * 100, 2)\n",
    "v_c_dataset.iloc[1] = round(v_c_dataset.iloc[1] * 100, 2)\n",
    "v_c_dataset.rename(columns = {'liver_disease':'percentage'}, inplace = True)"
   ]
  },
  {
   "cell_type": "code",
   "execution_count": 27,
   "metadata": {
    "execution": {
     "iopub.execute_input": "2021-03-01T01:26:19.762997Z",
     "iopub.status.busy": "2021-03-01T01:26:19.762037Z",
     "iopub.status.idle": "2021-03-01T01:26:19.771356Z",
     "shell.execute_reply": "2021-03-01T01:26:19.771816Z"
    },
    "papermill": {
     "duration": 0.07204,
     "end_time": "2021-03-01T01:26:19.772001",
     "exception": false,
     "start_time": "2021-03-01T01:26:19.699961",
     "status": "completed"
    },
    "tags": []
   },
   "outputs": [],
   "source": [
    "v_c_d = df['liver_disease'].value_counts().to_frame()\n",
    "v_c_d.rename(columns = {'liver_disease':'actual_num'}, inplace=True)\n",
    "liver = pd.concat([v_c_dataset, v_c_d], axis = 1)"
   ]
  },
  {
   "cell_type": "code",
   "execution_count": 28,
   "metadata": {
    "execution": {
     "iopub.execute_input": "2021-03-01T01:26:19.892907Z",
     "iopub.status.busy": "2021-03-01T01:26:19.891957Z",
     "iopub.status.idle": "2021-03-01T01:26:19.901400Z",
     "shell.execute_reply": "2021-03-01T01:26:19.901864Z"
    },
    "papermill": {
     "duration": 0.071468,
     "end_time": "2021-03-01T01:26:19.902047",
     "exception": false,
     "start_time": "2021-03-01T01:26:19.830579",
     "status": "completed"
    },
    "tags": []
   },
   "outputs": [
    {
     "data": {
      "text/html": [
       "<div>\n",
       "<style scoped>\n",
       "    .dataframe tbody tr th:only-of-type {\n",
       "        vertical-align: middle;\n",
       "    }\n",
       "\n",
       "    .dataframe tbody tr th {\n",
       "        vertical-align: top;\n",
       "    }\n",
       "\n",
       "    .dataframe thead th {\n",
       "        text-align: right;\n",
       "    }\n",
       "</style>\n",
       "<table border=\"1\" class=\"dataframe\">\n",
       "  <thead>\n",
       "    <tr style=\"text-align: right;\">\n",
       "      <th></th>\n",
       "      <th>percentage</th>\n",
       "      <th>actual_num</th>\n",
       "    </tr>\n",
       "  </thead>\n",
       "  <tbody>\n",
       "    <tr>\n",
       "      <th>1</th>\n",
       "      <td>71.36</td>\n",
       "      <td>416</td>\n",
       "    </tr>\n",
       "    <tr>\n",
       "      <th>0</th>\n",
       "      <td>28.64</td>\n",
       "      <td>167</td>\n",
       "    </tr>\n",
       "  </tbody>\n",
       "</table>\n",
       "</div>"
      ],
      "text/plain": [
       "   percentage  actual_num\n",
       "1       71.36         416\n",
       "0       28.64         167"
      ]
     },
     "execution_count": 28,
     "metadata": {},
     "output_type": "execute_result"
    }
   ],
   "source": [
    "liver"
   ]
  },
  {
   "cell_type": "markdown",
   "metadata": {
    "papermill": {
     "duration": 0.061528,
     "end_time": "2021-03-01T01:26:20.023354",
     "exception": false,
     "start_time": "2021-03-01T01:26:19.961826",
     "status": "completed"
    },
    "tags": []
   },
   "source": [
    "From the dataframe above we can understand that our dataset is unbalanced. Most of the cases are positive (about 71%). This fact may affect classification models.\n",
    "\n",
    "### Gender feature\n",
    "gender feature contains exactly 2 values, *Male* and *Female*"
   ]
  },
  {
   "cell_type": "code",
   "execution_count": 29,
   "metadata": {
    "execution": {
     "iopub.execute_input": "2021-03-01T01:26:20.153777Z",
     "iopub.status.busy": "2021-03-01T01:26:20.153041Z",
     "iopub.status.idle": "2021-03-01T01:26:20.264042Z",
     "shell.execute_reply": "2021-03-01T01:26:20.263380Z"
    },
    "papermill": {
     "duration": 0.180834,
     "end_time": "2021-03-01T01:26:20.264199",
     "exception": false,
     "start_time": "2021-03-01T01:26:20.083365",
     "status": "completed"
    },
    "tags": []
   },
   "outputs": [
    {
     "data": {
      "image/png": "[encoded data removed]",
      "text/plain": [
       "<Figure size 432x288 with 1 Axes>"
      ]
     },
     "metadata": {
      "needs_background": "light"
     },
     "output_type": "display_data"
    }
   ],
   "source": [
    "sns.countplot(x='Gender',data=df, palette=\"Set3\")\n",
    "plt.title('Count of each gender')\n",
    "plt.show()"
   ]
  },
  {
   "cell_type": "code",
   "execution_count": 30,
   "metadata": {
    "execution": {
     "iopub.execute_input": "2021-03-01T01:26:20.397396Z",
     "iopub.status.busy": "2021-03-01T01:26:20.396646Z",
     "iopub.status.idle": "2021-03-01T01:26:20.400410Z",
     "shell.execute_reply": "2021-03-01T01:26:20.399836Z"
    },
    "papermill": {
     "duration": 0.075568,
     "end_time": "2021-03-01T01:26:20.400563",
     "exception": false,
     "start_time": "2021-03-01T01:26:20.324995",
     "status": "completed"
    },
    "tags": []
   },
   "outputs": [],
   "source": [
    "gender_num = df['Gender'].value_counts().to_frame()\n",
    "gender_num.rename(columns = {'Gender':'gender_num'}, inplace  = True)\n",
    "gender_perc = df['Gender'].value_counts(normalize = True).to_frame()\n",
    "gender_perc.iloc[0] = round(gender_perc.iloc[0] * 100,2)\n",
    "gender_perc.iloc[1] = round(gender_perc.iloc[1] * 100,2)\n",
    "gender_perc.rename(columns = {'Gender':'gender_percentage'},inplace = True)"
   ]
  },
  {
   "cell_type": "code",
   "execution_count": 31,
   "metadata": {
    "execution": {
     "iopub.execute_input": "2021-03-01T01:26:20.528478Z",
     "iopub.status.busy": "2021-03-01T01:26:20.527719Z",
     "iopub.status.idle": "2021-03-01T01:26:20.530886Z",
     "shell.execute_reply": "2021-03-01T01:26:20.530282Z"
    },
    "papermill": {
     "duration": 0.069646,
     "end_time": "2021-03-01T01:26:20.531026",
     "exception": false,
     "start_time": "2021-03-01T01:26:20.461380",
     "status": "completed"
    },
    "tags": []
   },
   "outputs": [],
   "source": [
    "gender = pd.concat([gender_num, gender_perc], axis = 1)"
   ]
  },
  {
   "cell_type": "code",
   "execution_count": 32,
   "metadata": {
    "execution": {
     "iopub.execute_input": "2021-03-01T01:26:20.660330Z",
     "iopub.status.busy": "2021-03-01T01:26:20.659664Z",
     "iopub.status.idle": "2021-03-01T01:26:20.669408Z",
     "shell.execute_reply": "2021-03-01T01:26:20.668824Z"
    },
    "papermill": {
     "duration": 0.074482,
     "end_time": "2021-03-01T01:26:20.669569",
     "exception": false,
     "start_time": "2021-03-01T01:26:20.595087",
     "status": "completed"
    },
    "tags": []
   },
   "outputs": [
    {
     "data": {
      "text/html": [
       "<div>\n",
       "<style scoped>\n",
       "    .dataframe tbody tr th:only-of-type {\n",
       "        vertical-align: middle;\n",
       "    }\n",
       "\n",
       "    .dataframe tbody tr th {\n",
       "        vertical-align: top;\n",
       "    }\n",
       "\n",
       "    .dataframe thead th {\n",
       "        text-align: right;\n",
       "    }\n",
       "</style>\n",
       "<table border=\"1\" class=\"dataframe\">\n",
       "  <thead>\n",
       "    <tr style=\"text-align: right;\">\n",
       "      <th></th>\n",
       "      <th>gender_num</th>\n",
       "      <th>gender_percentage</th>\n",
       "    </tr>\n",
       "  </thead>\n",
       "  <tbody>\n",
       "    <tr>\n",
       "      <th>Male</th>\n",
       "      <td>441</td>\n",
       "      <td>75.64</td>\n",
       "    </tr>\n",
       "    <tr>\n",
       "      <th>Female</th>\n",
       "      <td>142</td>\n",
       "      <td>24.36</td>\n",
       "    </tr>\n",
       "  </tbody>\n",
       "</table>\n",
       "</div>"
      ],
      "text/plain": [
       "        gender_num  gender_percentage\n",
       "Male           441              75.64\n",
       "Female         142              24.36"
      ]
     },
     "execution_count": 32,
     "metadata": {},
     "output_type": "execute_result"
    }
   ],
   "source": [
    "gender"
   ]
  },
  {
   "cell_type": "markdown",
   "metadata": {
    "papermill": {
     "duration": 0.06068,
     "end_time": "2021-03-01T01:26:20.791653",
     "exception": false,
     "start_time": "2021-03-01T01:26:20.730973",
     "status": "completed"
    },
    "tags": []
   },
   "source": [
    "Gender feature is unbalanced. About 76% of the whole cases are male patients\n",
    "### Age feature"
   ]
  },
  {
   "cell_type": "code",
   "execution_count": 33,
   "metadata": {
    "execution": {
     "iopub.execute_input": "2021-03-01T01:26:20.924403Z",
     "iopub.status.busy": "2021-03-01T01:26:20.923693Z",
     "iopub.status.idle": "2021-03-01T01:26:20.926857Z",
     "shell.execute_reply": "2021-03-01T01:26:20.927464Z"
    },
    "papermill": {
     "duration": 0.07374,
     "end_time": "2021-03-01T01:26:20.927641",
     "exception": false,
     "start_time": "2021-03-01T01:26:20.853901",
     "status": "completed"
    },
    "tags": []
   },
   "outputs": [
    {
     "data": {
      "text/plain": [
       "count    583.000000\n",
       "mean      44.746141\n",
       "std       16.189833\n",
       "min        4.000000\n",
       "25%       33.000000\n",
       "50%       45.000000\n",
       "75%       58.000000\n",
       "max       90.000000\n",
       "Name: Age, dtype: float64"
      ]
     },
     "execution_count": 33,
     "metadata": {},
     "output_type": "execute_result"
    }
   ],
   "source": [
    "df['Age'].describe()"
   ]
  },
  {
   "cell_type": "markdown",
   "metadata": {
    "papermill": {
     "duration": 0.061567,
     "end_time": "2021-03-01T01:26:21.051429",
     "exception": false,
     "start_time": "2021-03-01T01:26:20.989862",
     "status": "completed"
    },
    "tags": []
   },
   "source": [
    "The youngest patient is 4 years old, and the oldest 90 years old. By checking percentiles, min and max values we can conclude that *Age*   can be approached with the normal distribution. We use cufflinks to represent the distribution of Age."
   ]
  },
  {
   "cell_type": "code",
   "execution_count": 34,
   "metadata": {
    "execution": {
     "iopub.execute_input": "2021-03-01T01:26:21.179402Z",
     "iopub.status.busy": "2021-03-01T01:26:21.178688Z",
     "iopub.status.idle": "2021-03-01T01:26:22.115511Z",
     "shell.execute_reply": "2021-03-01T01:26:22.116012Z"
    },
    "papermill": {
     "duration": 1.003171,
     "end_time": "2021-03-01T01:26:22.116204",
     "exception": false,
     "start_time": "2021-03-01T01:26:21.113033",
     "status": "completed"
    },
    "tags": []
   },
   "outputs": [
    {
     "data": {
      "application/vnd.plotly.v1+json": {
       "config": {
        "linkText": "Export to plot.ly",
        "plotlyServerURL": "https://plot.ly",
        "showLink": true
       },
       "data": [
        {
         "histfunc": "count",
         "histnorm": "",
         "marker": {
          "color": "rgba(219, 64, 82, 1.0)",
          "line": {
           "color": "#4D5663",
           "width": 1.3
          }
         },
         "name": "Age",
         "opacity": 0.8,
         "orientation": "v",
         "type": "histogram",
         "x": [
          65,
          62,
          62,
          58,
          72,
          46,
          26,
          29,
          17,
          55,
          57,
          72,
          64,
          74,
          61,
          25,
          38,
          33,
          40,
          40,
          51,
          51,
          62,
          40,
          63,
          34,
          34,
          34,
          20,
          84,
          57,
          52,
          57,
          38,
          38,
          30,
          17,
          46,
          48,
          47,
          45,
          62,
          42,
          50,
          85,
          35,
          21,
          40,
          32,
          55,
          45,
          34,
          38,
          38,
          42,
          42,
          33,
          48,
          51,
          64,
          31,
          58,
          58,
          57,
          57,
          57,
          54,
          37,
          66,
          60,
          19,
          75,
          75,
          52,
          68,
          29,
          31,
          68,
          70,
          58,
          58,
          29,
          49,
          33,
          32,
          14,
          13,
          58,
          18,
          60,
          60,
          60,
          60,
          60,
          60,
          75,
          39,
          39,
          18,
          18,
          27,
          27,
          17,
          55,
          63,
          36,
          36,
          36,
          36,
          36,
          24,
          48,
          27,
          74,
          50,
          50,
          48,
          32,
          32,
          32,
          32,
          32,
          58,
          64,
          28,
          60,
          48,
          64,
          58,
          45,
          45,
          70,
          18,
          53,
          18,
          66,
          46,
          18,
          18,
          15,
          60,
          66,
          30,
          30,
          45,
          65,
          66,
          65,
          50,
          60,
          56,
          50,
          46,
          52,
          34,
          34,
          32,
          72,
          72,
          50,
          60,
          60,
          60,
          39,
          39,
          48,
          55,
          47,
          60,
          60,
          72,
          44,
          55,
          31,
          31,
          31,
          55,
          75,
          75,
          75,
          75,
          75,
          65,
          40,
          64,
          38,
          60,
          60,
          60,
          48,
          60,
          60,
          60,
          49,
          49,
          60,
          60,
          26,
          41,
          7,
          49,
          49,
          38,
          21,
          21,
          45,
          40,
          40,
          70,
          45,
          28,
          42,
          22,
          8,
          38,
          66,
          55,
          49,
          6,
          37,
          37,
          47,
          47,
          50,
          70,
          26,
          26,
          68,
          65,
          46,
          61,
          61,
          50,
          33,
          40,
          60,
          22,
          35,
          35,
          40,
          48,
          51,
          29,
          28,
          54,
          54,
          55,
          55,
          40,
          33,
          33,
          33,
          65,
          35,
          38,
          38,
          50,
          44,
          36,
          42,
          42,
          33,
          18,
          38,
          38,
          4,
          62,
          43,
          40,
          26,
          37,
          4,
          21,
          30,
          33,
          26,
          35,
          60,
          45,
          48,
          58,
          50,
          50,
          18,
          18,
          13,
          34,
          43,
          50,
          57,
          45,
          60,
          45,
          23,
          22,
          22,
          74,
          25,
          31,
          24,
          58,
          51,
          50,
          50,
          55,
          54,
          48,
          30,
          45,
          48,
          51,
          54,
          27,
          30,
          26,
          22,
          44,
          35,
          38,
          14,
          30,
          30,
          36,
          12,
          60,
          42,
          36,
          24,
          43,
          21,
          26,
          26,
          26,
          36,
          13,
          13,
          75,
          75,
          75,
          75,
          75,
          36,
          35,
          70,
          37,
          60,
          46,
          38,
          70,
          49,
          37,
          37,
          26,
          48,
          48,
          19,
          33,
          33,
          37,
          69,
          24,
          65,
          55,
          42,
          21,
          40,
          16,
          60,
          42,
          58,
          54,
          33,
          48,
          25,
          56,
          47,
          33,
          20,
          50,
          72,
          50,
          39,
          58,
          60,
          34,
          50,
          38,
          51,
          46,
          72,
          72,
          75,
          41,
          41,
          48,
          45,
          74,
          78,
          38,
          27,
          66,
          50,
          42,
          65,
          22,
          31,
          45,
          12,
          48,
          48,
          18,
          23,
          65,
          48,
          65,
          70,
          70,
          11,
          50,
          55,
          55,
          26,
          41,
          53,
          32,
          58,
          45,
          65,
          52,
          73,
          53,
          47,
          29,
          41,
          30,
          17,
          23,
          35,
          65,
          42,
          49,
          42,
          42,
          42,
          61,
          17,
          54,
          45,
          48,
          48,
          65,
          35,
          58,
          46,
          28,
          21,
          32,
          61,
          26,
          65,
          22,
          28,
          38,
          25,
          45,
          45,
          28,
          28,
          66,
          66,
          66,
          49,
          42,
          42,
          35,
          38,
          38,
          55,
          33,
          33,
          7,
          45,
          45,
          30,
          62,
          22,
          42,
          32,
          60,
          65,
          53,
          27,
          35,
          65,
          25,
          32,
          24,
          67,
          68,
          55,
          70,
          36,
          42,
          53,
          32,
          32,
          56,
          50,
          46,
          46,
          37,
          45,
          56,
          69,
          49,
          49,
          60,
          28,
          45,
          35,
          62,
          55,
          46,
          50,
          29,
          53,
          46,
          40,
          45,
          55,
          22,
          40,
          62,
          46,
          39,
          60,
          46,
          10,
          52,
          65,
          42,
          42,
          62,
          40,
          54,
          45,
          45,
          50,
          42,
          40,
          46,
          29,
          45,
          46,
          73,
          55,
          51,
          51,
          51,
          26,
          66,
          66,
          66,
          64,
          38,
          43,
          50,
          52,
          20,
          16,
          16,
          90,
          32,
          32,
          32,
          32,
          32,
          32,
          60,
          40,
          52,
          31,
          38
         ]
        }
       ],
       "layout": {
        "barmode": "overlay",
        "legend": {
         "bgcolor": "#F5F6F9",
         "font": {
          "color": "#4D5663"
         }
        },
        "paper_bgcolor": "#F5F6F9",
        "plot_bgcolor": "#F5F6F9",
        "template": {
         "data": {
          "bar": [
           {
            "error_x": {
             "color": "#2a3f5f"
            },
            "error_y": {
             "color": "#2a3f5f"
            },
            "marker": {
             "line": {
              "color": "#E5ECF6",
              "width": 0.5
             }
            },
            "type": "bar"
           }
          ],
          "barpolar": [
           {
            "marker": {
             "line": {
              "color": "#E5ECF6",
              "width": 0.5
             }
            },
            "type": "barpolar"
           }
          ],
          "carpet": [
           {
            "aaxis": {
             "endlinecolor": "#2a3f5f",
             "gridcolor": "white",
             "linecolor": "white",
             "minorgridcolor": "white",
             "startlinecolor": "#2a3f5f"
            },
            "baxis": {
             "endlinecolor": "#2a3f5f",
             "gridcolor": "white",
             "linecolor": "white",
             "minorgridcolor": "white",
             "startlinecolor": "#2a3f5f"
            },
            "type": "carpet"
           }
          ],
          "choropleth": [
           {
            "colorbar": {
             "outlinewidth": 0,
             "ticks": ""
            },
            "type": "choropleth"
           }
          ],
          "contour": [
           {
            "colorbar": {
             "outlinewidth": 0,
             "ticks": ""
            },
            "colorscale": [
             [
              0.0,
              "#0d0887"
             ],
             [
              0.1111111111111111,
              "#46039f"
             ],
             [
              0.2222222222222222,
              "#7201a8"
             ],
             [
              0.3333333333333333,
              "#9c179e"
             ],
             [
              0.4444444444444444,
              "#bd3786"
             ],
             [
              0.5555555555555556,
              "#d8576b"
             ],
             [
              0.6666666666666666,
              "#ed7953"
             ],
             [
              0.7777777777777778,
              "#fb9f3a"
             ],
             [
              0.8888888888888888,
              "#fdca26"
             ],
             [
              1.0,
              "#f0f921"
             ]
            ],
            "type": "contour"
           }
          ],
          "contourcarpet": [
           {
            "colorbar": {
             "outlinewidth": 0,
             "ticks": ""
            },
            "type": "contourcarpet"
           }
          ],
          "heatmap": [
           {
            "colorbar": {
             "outlinewidth": 0,
             "ticks": ""
            },
            "colorscale": [
             [
              0.0,
              "#0d0887"
             ],
             [
              0.1111111111111111,
              "#46039f"
             ],
             [
              0.2222222222222222,
              "#7201a8"
             ],
             [
              0.3333333333333333,
              "#9c179e"
             ],
             [
              0.4444444444444444,
              "#bd3786"
             ],
             [
              0.5555555555555556,
              "#d8576b"
             ],
             [
              0.6666666666666666,
              "#ed7953"
             ],
             [
              0.7777777777777778,
              "#fb9f3a"
             ],
             [
              0.8888888888888888,
              "#fdca26"
             ],
             [
              1.0,
              "#f0f921"
             ]
            ],
            "type": "heatmap"
           }
          ],
          "heatmapgl": [
           {
            "colorbar": {
             "outlinewidth": 0,
             "ticks": ""
            },
            "colorscale": [
             [
              0.0,
              "#0d0887"
             ],
             [
              0.1111111111111111,
              "#46039f"
             ],
             [
              0.2222222222222222,
              "#7201a8"
             ],
             [
              0.3333333333333333,
              "#9c179e"
             ],
             [
              0.4444444444444444,
              "#bd3786"
             ],
             [
              0.5555555555555556,
              "#d8576b"
             ],
             [
              0.6666666666666666,
              "#ed7953"
             ],
             [
              0.7777777777777778,
              "#fb9f3a"
             ],
             [
              0.8888888888888888,
              "#fdca26"
             ],
             [
              1.0,
              "#f0f921"
             ]
            ],
            "type": "heatmapgl"
           }
          ],
          "histogram": [
           {
            "marker": {
             "colorbar": {
              "outlinewidth": 0,
              "ticks": ""
             }
            },
            "type": "histogram"
           }
          ],
          "histogram2d": [
           {
            "colorbar": {
             "outlinewidth": 0,
             "ticks": ""
            },
            "colorscale": [
             [
              0.0,
              "#0d0887"
             ],
             [
              0.1111111111111111,
              "#46039f"
             ],
             [
              0.2222222222222222,
              "#7201a8"
             ],
             [
              0.3333333333333333,
              "#9c179e"
             ],
             [
              0.4444444444444444,
              "#bd3786"
             ],
             [
              0.5555555555555556,
              "#d8576b"
             ],
             [
              0.6666666666666666,
              "#ed7953"
             ],
             [
              0.7777777777777778,
              "#fb9f3a"
             ],
             [
              0.8888888888888888,
              "#fdca26"
             ],
             [
              1.0,
              "#f0f921"
             ]
            ],
            "type": "histogram2d"
           }
          ],
          "histogram2dcontour": [
           {
            "colorbar": {
             "outlinewidth": 0,
             "ticks": ""
            },
            "colorscale": [
             [
              0.0,
              "#0d0887"
             ],
             [
              0.1111111111111111,
              "#46039f"
             ],
             [
              0.2222222222222222,
              "#7201a8"
             ],
             [
              0.3333333333333333,
              "#9c179e"
             ],
             [
              0.4444444444444444,
              "#bd3786"
             ],
             [
              0.5555555555555556,
              "#d8576b"
             ],
             [
              0.6666666666666666,
              "#ed7953"
             ],
             [
              0.7777777777777778,
              "#fb9f3a"
             ],
             [
              0.8888888888888888,
              "#fdca26"
             ],
             [
              1.0,
              "#f0f921"
             ]
            ],
            "type": "histogram2dcontour"
           }
          ],
          "mesh3d": [
           {
            "colorbar": {
             "outlinewidth": 0,
             "ticks": ""
            },
            "type": "mesh3d"
           }
          ],
          "parcoords": [
           {
            "line": {
             "colorbar": {
              "outlinewidth": 0,
              "ticks": ""
             }
            },
            "type": "parcoords"
           }
          ],
          "pie": [
           {
            "automargin": true,
            "type": "pie"
           }
          ],
          "scatter": [
           {
            "marker": {
             "colorbar": {
              "outlinewidth": 0,
              "ticks": ""
             }
            },
            "type": "scatter"
           }
          ],
          "scatter3d": [
           {
            "line": {
             "colorbar": {
              "outlinewidth": 0,
              "ticks": ""
             }
            },
            "marker": {
             "colorbar": {
              "outlinewidth": 0,
              "ticks": ""
             }
            },
            "type": "scatter3d"
           }
          ],
          "scattercarpet": [
           {
            "marker": {
             "colorbar": {
              "outlinewidth": 0,
              "ticks": ""
             }
            },
            "type": "scattercarpet"
           }
          ],
          "scattergeo": [
           {
            "marker": {
             "colorbar": {
              "outlinewidth": 0,
              "ticks": ""
             }
            },
            "type": "scattergeo"
           }
          ],
          "scattergl": [
           {
            "marker": {
             "colorbar": {
              "outlinewidth": 0,
              "ticks": ""
             }
            },
            "type": "scattergl"
           }
          ],
          "scattermapbox": [
           {
            "marker": {
             "colorbar": {
              "outlinewidth": 0,
              "ticks": ""
             }
            },
            "type": "scattermapbox"
           }
          ],
          "scatterpolar": [
           {
            "marker": {
             "colorbar": {
              "outlinewidth": 0,
              "ticks": ""
             }
            },
            "type": "scatterpolar"
           }
          ],
          "scatterpolargl": [
           {
            "marker": {
             "colorbar": {
              "outlinewidth": 0,
              "ticks": ""
             }
            },
            "type": "scatterpolargl"
           }
          ],
          "scatterternary": [
           {
            "marker": {
             "colorbar": {
              "outlinewidth": 0,
              "ticks": ""
             }
            },
            "type": "scatterternary"
           }
          ],
          "surface": [
           {
            "colorbar": {
             "outlinewidth": 0,
             "ticks": ""
            },
            "colorscale": [
             [
              0.0,
              "#0d0887"
             ],
             [
              0.1111111111111111,
              "#46039f"
             ],
             [
              0.2222222222222222,
              "#7201a8"
             ],
             [
              0.3333333333333333,
              "#9c179e"
             ],
             [
              0.4444444444444444,
              "#bd3786"
             ],
             [
              0.5555555555555556,
              "#d8576b"
             ],
             [
              0.6666666666666666,
              "#ed7953"
             ],
             [
              0.7777777777777778,
              "#fb9f3a"
             ],
             [
              0.8888888888888888,
              "#fdca26"
             ],
             [
              1.0,
              "#f0f921"
             ]
            ],
            "type": "surface"
           }
          ],
          "table": [
           {
            "cells": {
             "fill": {
              "color": "#EBF0F8"
             },
             "line": {
              "color": "white"
             }
            },
            "header": {
             "fill": {
              "color": "#C8D4E3"
             },
             "line": {
              "color": "white"
             }
            },
            "type": "table"
           }
          ]
         },
         "layout": {
          "annotationdefaults": {
           "arrowcolor": "#2a3f5f",
           "arrowhead": 0,
           "arrowwidth": 1
          },
          "autotypenumbers": "strict",
          "coloraxis": {
           "colorbar": {
            "outlinewidth": 0,
            "ticks": ""
           }
          },
          "colorscale": {
           "diverging": [
            [
             0,
             "#8e0152"
            ],
            [
             0.1,
             "#c51b7d"
            ],
            [
             0.2,
             "#de77ae"
            ],
            [
             0.3,
             "#f1b6da"
            ],
            [
             0.4,
             "#fde0ef"
            ],
            [
             0.5,
             "#f7f7f7"
            ],
            [
             0.6,
             "#e6f5d0"
            ],
            [
             0.7,
             "#b8e186"
            ],
            [
             0.8,
             "#7fbc41"
            ],
            [
             0.9,
             "#4d9221"
            ],
            [
             1,
             "#276419"
            ]
           ],
           "sequential": [
            [
             0.0,
             "#0d0887"
            ],
            [
             0.1111111111111111,
             "#46039f"
            ],
            [
             0.2222222222222222,
             "#7201a8"
            ],
            [
             0.3333333333333333,
             "#9c179e"
            ],
            [
             0.4444444444444444,
             "#bd3786"
            ],
            [
             0.5555555555555556,
             "#d8576b"
            ],
            [
             0.6666666666666666,
             "#ed7953"
            ],
            [
             0.7777777777777778,
             "#fb9f3a"
            ],
            [
             0.8888888888888888,
             "#fdca26"
            ],
            [
             1.0,
             "#f0f921"
            ]
           ],
           "sequentialminus": [
            [
             0.0,
             "#0d0887"
            ],
            [
             0.1111111111111111,
             "#46039f"
            ],
            [
             0.2222222222222222,
             "#7201a8"
            ],
            [
             0.3333333333333333,
             "#9c179e"
            ],
            [
             0.4444444444444444,
             "#bd3786"
            ],
            [
             0.5555555555555556,
             "#d8576b"
            ],
            [
             0.6666666666666666,
             "#ed7953"
            ],
            [
             0.7777777777777778,
             "#fb9f3a"
            ],
            [
             0.8888888888888888,
             "#fdca26"
            ],
            [
             1.0,
             "#f0f921"
            ]
           ]
          },
          "colorway": [
           "#636efa",
           "#EF553B",
           "#00cc96",
           "#ab63fa",
           "#FFA15A",
           "#19d3f3",
           "#FF6692",
           "#B6E880",
           "#FF97FF",
           "#FECB52"
          ],
          "font": {
           "color": "#2a3f5f"
          },
          "geo": {
           "bgcolor": "white",
           "lakecolor": "white",
           "landcolor": "#E5ECF6",
           "showlakes": true,
           "showland": true,
           "subunitcolor": "white"
          },
          "hoverlabel": {
           "align": "left"
          },
          "hovermode": "closest",
          "mapbox": {
           "style": "light"
          },
          "paper_bgcolor": "white",
          "plot_bgcolor": "#E5ECF6",
          "polar": {
           "angularaxis": {
            "gridcolor": "white",
            "linecolor": "white",
            "ticks": ""
           },
           "bgcolor": "#E5ECF6",
           "radialaxis": {
            "gridcolor": "white",
            "linecolor": "white",
            "ticks": ""
           }
          },
          "scene": {
           "xaxis": {
            "backgroundcolor": "#E5ECF6",
            "gridcolor": "white",
            "gridwidth": 2,
            "linecolor": "white",
            "showbackground": true,
            "ticks": "",
            "zerolinecolor": "white"
           },
           "yaxis": {
            "backgroundcolor": "#E5ECF6",
            "gridcolor": "white",
            "gridwidth": 2,
            "linecolor": "white",
            "showbackground": true,
            "ticks": "",
            "zerolinecolor": "white"
           },
           "zaxis": {
            "backgroundcolor": "#E5ECF6",
            "gridcolor": "white",
            "gridwidth": 2,
            "linecolor": "white",
            "showbackground": true,
            "ticks": "",
            "zerolinecolor": "white"
           }
          },
          "shapedefaults": {
           "line": {
            "color": "#2a3f5f"
           }
          },
          "ternary": {
           "aaxis": {
            "gridcolor": "white",
            "linecolor": "white",
            "ticks": ""
           },
           "baxis": {
            "gridcolor": "white",
            "linecolor": "white",
            "ticks": ""
           },
           "bgcolor": "#E5ECF6",
           "caxis": {
            "gridcolor": "white",
            "linecolor": "white",
            "ticks": ""
           }
          },
          "title": {
           "x": 0.05
          },
          "xaxis": {
           "automargin": true,
           "gridcolor": "white",
           "linecolor": "white",
           "ticks": "",
           "title": {
            "standoff": 15
           },
           "zerolinecolor": "white",
           "zerolinewidth": 2
          },
          "yaxis": {
           "automargin": true,
           "gridcolor": "white",
           "linecolor": "white",
           "ticks": "",
           "title": {
            "standoff": 15
           },
           "zerolinecolor": "white",
           "zerolinewidth": 2
          }
         }
        },
        "title": {
         "font": {
          "color": "#4D5663"
         },
         "text": "Age-Distribution"
        },
        "xaxis": {
         "gridcolor": "#E1E5ED",
         "showgrid": true,
         "tickfont": {
          "color": "#4D5663"
         },
         "title": {
          "font": {
           "color": "#4D5663"
          },
          "text": "Age"
         },
         "zerolinecolor": "#E1E5ED"
        },
        "yaxis": {
         "gridcolor": "#E1E5ED",
         "showgrid": true,
         "tickfont": {
          "color": "#4D5663"
         },
         "title": {
          "font": {
           "color": "#4D5663"
          },
          "text": "Frequence"
         },
         "zerolinecolor": "#E1E5ED"
        }
       }
      },
      "text/html": [
       "<div>                            <div id=\"caffb3e1-c896-4886-9a9b-f8369a941ed1\" class=\"plotly-graph-div\" style=\"height:525px; width:100%;\"></div>            <script type=\"text/javascript\">                require([\"plotly\"], function(Plotly) {                    window.PLOTLYENV=window.PLOTLYENV || {};\n",
       "                    window.PLOTLYENV.BASE_URL='https://plot.ly';                                    if (document.getElementById(\"caffb3e1-c896-4886-9a9b-f8369a941ed1\")) {                    Plotly.newPlot(                        \"caffb3e1-c896-4886-9a9b-f8369a941ed1\",                        [{\"histfunc\": \"count\", \"histnorm\": \"\", \"marker\": {\"color\": \"rgba(219, 64, 82, 1.0)\", \"line\": {\"color\": \"#4D5663\", \"width\": 1.3}}, \"name\": \"Age\", \"opacity\": 0.8, \"orientation\": \"v\", \"type\": \"histogram\", \"x\": [65, 62, 62, 58, 72, 46, 26, 29, 17, 55, 57, 72, 64, 74, 61, 25, 38, 33, 40, 40, 51, 51, 62, 40, 63, 34, 34, 34, 20, 84, 57, 52, 57, 38, 38, 30, 17, 46, 48, 47, 45, 62, 42, 50, 85, 35, 21, 40, 32, 55, 45, 34, 38, 38, 42, 42, 33, 48, 51, 64, 31, 58, 58, 57, 57, 57, 54, 37, 66, 60, 19, 75, 75, 52, 68, 29, 31, 68, 70, 58, 58, 29, 49, 33, 32, 14, 13, 58, 18, 60, 60, 60, 60, 60, 60, 75, 39, 39, 18, 18, 27, 27, 17, 55, 63, 36, 36, 36, 36, 36, 24, 48, 27, 74, 50, 50, 48, 32, 32, 32, 32, 32, 58, 64, 28, 60, 48, 64, 58, 45, 45, 70, 18, 53, 18, 66, 46, 18, 18, 15, 60, 66, 30, 30, 45, 65, 66, 65, 50, 60, 56, 50, 46, 52, 34, 34, 32, 72, 72, 50, 60, 60, 60, 39, 39, 48, 55, 47, 60, 60, 72, 44, 55, 31, 31, 31, 55, 75, 75, 75, 75, 75, 65, 40, 64, 38, 60, 60, 60, 48, 60, 60, 60, 49, 49, 60, 60, 26, 41, 7, 49, 49, 38, 21, 21, 45, 40, 40, 70, 45, 28, 42, 22, 8, 38, 66, 55, 49, 6, 37, 37, 47, 47, 50, 70, 26, 26, 68, 65, 46, 61, 61, 50, 33, 40, 60, 22, 35, 35, 40, 48, 51, 29, 28, 54, 54, 55, 55, 40, 33, 33, 33, 65, 35, 38, 38, 50, 44, 36, 42, 42, 33, 18, 38, 38, 4, 62, 43, 40, 26, 37, 4, 21, 30, 33, 26, 35, 60, 45, 48, 58, 50, 50, 18, 18, 13, 34, 43, 50, 57, 45, 60, 45, 23, 22, 22, 74, 25, 31, 24, 58, 51, 50, 50, 55, 54, 48, 30, 45, 48, 51, 54, 27, 30, 26, 22, 44, 35, 38, 14, 30, 30, 36, 12, 60, 42, 36, 24, 43, 21, 26, 26, 26, 36, 13, 13, 75, 75, 75, 75, 75, 36, 35, 70, 37, 60, 46, 38, 70, 49, 37, 37, 26, 48, 48, 19, 33, 33, 37, 69, 24, 65, 55, 42, 21, 40, 16, 60, 42, 58, 54, 33, 48, 25, 56, 47, 33, 20, 50, 72, 50, 39, 58, 60, 34, 50, 38, 51, 46, 72, 72, 75, 41, 41, 48, 45, 74, 78, 38, 27, 66, 50, 42, 65, 22, 31, 45, 12, 48, 48, 18, 23, 65, 48, 65, 70, 70, 11, 50, 55, 55, 26, 41, 53, 32, 58, 45, 65, 52, 73, 53, 47, 29, 41, 30, 17, 23, 35, 65, 42, 49, 42, 42, 42, 61, 17, 54, 45, 48, 48, 65, 35, 58, 46, 28, 21, 32, 61, 26, 65, 22, 28, 38, 25, 45, 45, 28, 28, 66, 66, 66, 49, 42, 42, 35, 38, 38, 55, 33, 33, 7, 45, 45, 30, 62, 22, 42, 32, 60, 65, 53, 27, 35, 65, 25, 32, 24, 67, 68, 55, 70, 36, 42, 53, 32, 32, 56, 50, 46, 46, 37, 45, 56, 69, 49, 49, 60, 28, 45, 35, 62, 55, 46, 50, 29, 53, 46, 40, 45, 55, 22, 40, 62, 46, 39, 60, 46, 10, 52, 65, 42, 42, 62, 40, 54, 45, 45, 50, 42, 40, 46, 29, 45, 46, 73, 55, 51, 51, 51, 26, 66, 66, 66, 64, 38, 43, 50, 52, 20, 16, 16, 90, 32, 32, 32, 32, 32, 32, 60, 40, 52, 31, 38]}],                        {\"barmode\": \"overlay\", \"legend\": {\"bgcolor\": \"#F5F6F9\", \"font\": {\"color\": \"#4D5663\"}}, \"paper_bgcolor\": \"#F5F6F9\", \"plot_bgcolor\": \"#F5F6F9\", \"template\": {\"data\": {\"bar\": [{\"error_x\": {\"color\": \"#2a3f5f\"}, \"error_y\": {\"color\": \"#2a3f5f\"}, \"marker\": {\"line\": {\"color\": \"#E5ECF6\", \"width\": 0.5}}, \"type\": \"bar\"}], \"barpolar\": [{\"marker\": {\"line\": {\"color\": \"#E5ECF6\", \"width\": 0.5}}, \"type\": \"barpolar\"}], \"carpet\": [{\"aaxis\": {\"endlinecolor\": \"#2a3f5f\", \"gridcolor\": \"white\", \"linecolor\": \"white\", \"minorgridcolor\": \"white\", \"startlinecolor\": \"#2a3f5f\"}, \"baxis\": {\"endlinecolor\": \"#2a3f5f\", \"gridcolor\": \"white\", \"linecolor\": \"white\", \"minorgridcolor\": \"white\", \"startlinecolor\": \"#2a3f5f\"}, \"type\": \"carpet\"}], \"choropleth\": [{\"colorbar\": {\"outlinewidth\": 0, \"ticks\": \"\"}, \"type\": \"choropleth\"}], \"contour\": [{\"colorbar\": {\"outlinewidth\": 0, \"ticks\": \"\"}, \"colorscale\": [[0.0, \"#0d0887\"], [0.1111111111111111, \"#46039f\"], [0.2222222222222222, \"#7201a8\"], [0.3333333333333333, \"#9c179e\"], [0.4444444444444444, \"#bd3786\"], [0.5555555555555556, \"#d8576b\"], [0.6666666666666666, \"#ed7953\"], [0.7777777777777778, \"#fb9f3a\"], [0.8888888888888888, \"#fdca26\"], [1.0, \"#f0f921\"]], \"type\": \"contour\"}], \"contourcarpet\": [{\"colorbar\": {\"outlinewidth\": 0, \"ticks\": \"\"}, \"type\": \"contourcarpet\"}], \"heatmap\": [{\"colorbar\": {\"outlinewidth\": 0, \"ticks\": \"\"}, \"colorscale\": [[0.0, \"#0d0887\"], [0.1111111111111111, \"#46039f\"], [0.2222222222222222, \"#7201a8\"], [0.3333333333333333, \"#9c179e\"], [0.4444444444444444, \"#bd3786\"], [0.5555555555555556, \"#d8576b\"], [0.6666666666666666, \"#ed7953\"], [0.7777777777777778, \"#fb9f3a\"], [0.8888888888888888, \"#fdca26\"], [1.0, \"#f0f921\"]], \"type\": \"heatmap\"}], \"heatmapgl\": [{\"colorbar\": {\"outlinewidth\": 0, \"ticks\": \"\"}, \"colorscale\": [[0.0, \"#0d0887\"], [0.1111111111111111, \"#46039f\"], [0.2222222222222222, \"#7201a8\"], [0.3333333333333333, \"#9c179e\"], [0.4444444444444444, \"#bd3786\"], [0.5555555555555556, \"#d8576b\"], [0.6666666666666666, \"#ed7953\"], [0.7777777777777778, \"#fb9f3a\"], [0.8888888888888888, \"#fdca26\"], [1.0, \"#f0f921\"]], \"type\": \"heatmapgl\"}], \"histogram\": [{\"marker\": {\"colorbar\": {\"outlinewidth\": 0, \"ticks\": \"\"}}, \"type\": \"histogram\"}], \"histogram2d\": [{\"colorbar\": {\"outlinewidth\": 0, \"ticks\": \"\"}, \"colorscale\": [[0.0, \"#0d0887\"], [0.1111111111111111, \"#46039f\"], [0.2222222222222222, \"#7201a8\"], [0.3333333333333333, \"#9c179e\"], [0.4444444444444444, \"#bd3786\"], [0.5555555555555556, \"#d8576b\"], [0.6666666666666666, \"#ed7953\"], [0.7777777777777778, \"#fb9f3a\"], [0.8888888888888888, \"#fdca26\"], [1.0, \"#f0f921\"]], \"type\": \"histogram2d\"}], \"histogram2dcontour\": [{\"colorbar\": {\"outlinewidth\": 0, \"ticks\": \"\"}, \"colorscale\": [[0.0, \"#0d0887\"], [0.1111111111111111, \"#46039f\"], [0.2222222222222222, \"#7201a8\"], [0.3333333333333333, \"#9c179e\"], [0.4444444444444444, \"#bd3786\"], [0.5555555555555556, \"#d8576b\"], [0.6666666666666666, \"#ed7953\"], [0.7777777777777778, \"#fb9f3a\"], [0.8888888888888888, \"#fdca26\"], [1.0, \"#f0f921\"]], \"type\": \"histogram2dcontour\"}], \"mesh3d\": [{\"colorbar\": {\"outlinewidth\": 0, \"ticks\": \"\"}, \"type\": \"mesh3d\"}], \"parcoords\": [{\"line\": {\"colorbar\": {\"outlinewidth\": 0, \"ticks\": \"\"}}, \"type\": \"parcoords\"}], \"pie\": [{\"automargin\": true, \"type\": \"pie\"}], \"scatter\": [{\"marker\": {\"colorbar\": {\"outlinewidth\": 0, \"ticks\": \"\"}}, \"type\": \"scatter\"}], \"scatter3d\": [{\"line\": {\"colorbar\": {\"outlinewidth\": 0, \"ticks\": \"\"}}, \"marker\": {\"colorbar\": {\"outlinewidth\": 0, \"ticks\": \"\"}}, \"type\": \"scatter3d\"}], \"scattercarpet\": [{\"marker\": {\"colorbar\": {\"outlinewidth\": 0, \"ticks\": \"\"}}, \"type\": \"scattercarpet\"}], \"scattergeo\": [{\"marker\": {\"colorbar\": {\"outlinewidth\": 0, \"ticks\": \"\"}}, \"type\": \"scattergeo\"}], \"scattergl\": [{\"marker\": {\"colorbar\": {\"outlinewidth\": 0, \"ticks\": \"\"}}, \"type\": \"scattergl\"}], \"scattermapbox\": [{\"marker\": {\"colorbar\": {\"outlinewidth\": 0, \"ticks\": \"\"}}, \"type\": \"scattermapbox\"}], \"scatterpolar\": [{\"marker\": {\"colorbar\": {\"outlinewidth\": 0, \"ticks\": \"\"}}, \"type\": \"scatterpolar\"}], \"scatterpolargl\": [{\"marker\": {\"colorbar\": {\"outlinewidth\": 0, \"ticks\": \"\"}}, \"type\": \"scatterpolargl\"}], \"scatterternary\": [{\"marker\": {\"colorbar\": {\"outlinewidth\": 0, \"ticks\": \"\"}}, \"type\": \"scatterternary\"}], \"surface\": [{\"colorbar\": {\"outlinewidth\": 0, \"ticks\": \"\"}, \"colorscale\": [[0.0, \"#0d0887\"], [0.1111111111111111, \"#46039f\"], [0.2222222222222222, \"#7201a8\"], [0.3333333333333333, \"#9c179e\"], [0.4444444444444444, \"#bd3786\"], [0.5555555555555556, \"#d8576b\"], [0.6666666666666666, \"#ed7953\"], [0.7777777777777778, \"#fb9f3a\"], [0.8888888888888888, \"#fdca26\"], [1.0, \"#f0f921\"]], \"type\": \"surface\"}], \"table\": [{\"cells\": {\"fill\": {\"color\": \"#EBF0F8\"}, \"line\": {\"color\": \"white\"}}, \"header\": {\"fill\": {\"color\": \"#C8D4E3\"}, \"line\": {\"color\": \"white\"}}, \"type\": \"table\"}]}, \"layout\": {\"annotationdefaults\": {\"arrowcolor\": \"#2a3f5f\", \"arrowhead\": 0, \"arrowwidth\": 1}, \"autotypenumbers\": \"strict\", \"coloraxis\": {\"colorbar\": {\"outlinewidth\": 0, \"ticks\": \"\"}}, \"colorscale\": {\"diverging\": [[0, \"#8e0152\"], [0.1, \"#c51b7d\"], [0.2, \"#de77ae\"], [0.3, \"#f1b6da\"], [0.4, \"#fde0ef\"], [0.5, \"#f7f7f7\"], [0.6, \"#e6f5d0\"], [0.7, \"#b8e186\"], [0.8, \"#7fbc41\"], [0.9, \"#4d9221\"], [1, \"#276419\"]], \"sequential\": [[0.0, \"#0d0887\"], [0.1111111111111111, \"#46039f\"], [0.2222222222222222, \"#7201a8\"], [0.3333333333333333, \"#9c179e\"], [0.4444444444444444, \"#bd3786\"], [0.5555555555555556, \"#d8576b\"], [0.6666666666666666, \"#ed7953\"], [0.7777777777777778, \"#fb9f3a\"], [0.8888888888888888, \"#fdca26\"], [1.0, \"#f0f921\"]], \"sequentialminus\": [[0.0, \"#0d0887\"], [0.1111111111111111, \"#46039f\"], [0.2222222222222222, \"#7201a8\"], [0.3333333333333333, \"#9c179e\"], [0.4444444444444444, \"#bd3786\"], [0.5555555555555556, \"#d8576b\"], [0.6666666666666666, \"#ed7953\"], [0.7777777777777778, \"#fb9f3a\"], [0.8888888888888888, \"#fdca26\"], [1.0, \"#f0f921\"]]}, \"colorway\": [\"#636efa\", \"#EF553B\", \"#00cc96\", \"#ab63fa\", \"#FFA15A\", \"#19d3f3\", \"#FF6692\", \"#B6E880\", \"#FF97FF\", \"#FECB52\"], \"font\": {\"color\": \"#2a3f5f\"}, \"geo\": {\"bgcolor\": \"white\", \"lakecolor\": \"white\", \"landcolor\": \"#E5ECF6\", \"showlakes\": true, \"showland\": true, \"subunitcolor\": \"white\"}, \"hoverlabel\": {\"align\": \"left\"}, \"hovermode\": \"closest\", \"mapbox\": {\"style\": \"light\"}, \"paper_bgcolor\": \"white\", \"plot_bgcolor\": \"#E5ECF6\", \"polar\": {\"angularaxis\": {\"gridcolor\": \"white\", \"linecolor\": \"white\", \"ticks\": \"\"}, \"bgcolor\": \"#E5ECF6\", \"radialaxis\": {\"gridcolor\": \"white\", \"linecolor\": \"white\", \"ticks\": \"\"}}, \"scene\": {\"xaxis\": {\"backgroundcolor\": \"#E5ECF6\", \"gridcolor\": \"white\", \"gridwidth\": 2, \"linecolor\": \"white\", \"showbackground\": true, \"ticks\": \"\", \"zerolinecolor\": \"white\"}, \"yaxis\": {\"backgroundcolor\": \"#E5ECF6\", \"gridcolor\": \"white\", \"gridwidth\": 2, \"linecolor\": \"white\", \"showbackground\": true, \"ticks\": \"\", \"zerolinecolor\": \"white\"}, \"zaxis\": {\"backgroundcolor\": \"#E5ECF6\", \"gridcolor\": \"white\", \"gridwidth\": 2, \"linecolor\": \"white\", \"showbackground\": true, \"ticks\": \"\", \"zerolinecolor\": \"white\"}}, \"shapedefaults\": {\"line\": {\"color\": \"#2a3f5f\"}}, \"ternary\": {\"aaxis\": {\"gridcolor\": \"white\", \"linecolor\": \"white\", \"ticks\": \"\"}, \"baxis\": {\"gridcolor\": \"white\", \"linecolor\": \"white\", \"ticks\": \"\"}, \"bgcolor\": \"#E5ECF6\", \"caxis\": {\"gridcolor\": \"white\", \"linecolor\": \"white\", \"ticks\": \"\"}}, \"title\": {\"x\": 0.05}, \"xaxis\": {\"automargin\": true, \"gridcolor\": \"white\", \"linecolor\": \"white\", \"ticks\": \"\", \"title\": {\"standoff\": 15}, \"zerolinecolor\": \"white\", \"zerolinewidth\": 2}, \"yaxis\": {\"automargin\": true, \"gridcolor\": \"white\", \"linecolor\": \"white\", \"ticks\": \"\", \"title\": {\"standoff\": 15}, \"zerolinecolor\": \"white\", \"zerolinewidth\": 2}}}, \"title\": {\"font\": {\"color\": \"#4D5663\"}, \"text\": \"Age-Distribution\"}, \"xaxis\": {\"gridcolor\": \"#E1E5ED\", \"showgrid\": true, \"tickfont\": {\"color\": \"#4D5663\"}, \"title\": {\"font\": {\"color\": \"#4D5663\"}, \"text\": \"Age\"}, \"zerolinecolor\": \"#E1E5ED\"}, \"yaxis\": {\"gridcolor\": \"#E1E5ED\", \"showgrid\": true, \"tickfont\": {\"color\": \"#4D5663\"}, \"title\": {\"font\": {\"color\": \"#4D5663\"}, \"text\": \"Frequence\"}, \"zerolinecolor\": \"#E1E5ED\"}},                        {\"showLink\": true, \"linkText\": \"Export to plot.ly\", \"plotlyServerURL\": \"https://plot.ly\", \"responsive\": true}                    ).then(function(){\n",
       "                            \n",
       "var gd = document.getElementById('caffb3e1-c896-4886-9a9b-f8369a941ed1');\n",
       "var x = new MutationObserver(function (mutations, observer) {{\n",
       "        var display = window.getComputedStyle(gd).display;\n",
       "        if (!display || display === 'none') {{\n",
       "            console.log([gd, 'removed!']);\n",
       "            Plotly.purge(gd);\n",
       "            observer.disconnect();\n",
       "        }}\n",
       "}});\n",
       "\n",
       "// Listen for the removal of the full notebook cells\n",
       "var notebookContainer = gd.closest('#notebook-container');\n",
       "if (notebookContainer) {{\n",
       "    x.observe(notebookContainer, {childList: true});\n",
       "}}\n",
       "\n",
       "// Listen for the clearing of the current output cell\n",
       "var outputEl = gd.closest('.output');\n",
       "if (outputEl) {{\n",
       "    x.observe(outputEl, {childList: true});\n",
       "}}\n",
       "\n",
       "                        })                };                });            </script>        </div>"
      ]
     },
     "metadata": {},
     "output_type": "display_data"
    }
   ],
   "source": [
    "df['Age'].iplot(kind = 'hist', color = 'red', xTitle = 'Age', yTitle = 'Frequence', title = 'Age-Distribution')"
   ]
  },
  {
   "cell_type": "markdown",
   "metadata": {
    "papermill": {
     "duration": 0.070312,
     "end_time": "2021-03-01T01:26:22.258017",
     "exception": false,
     "start_time": "2021-03-01T01:26:22.187705",
     "status": "completed"
    },
    "tags": []
   },
   "source": [
    "### live_disease - Gender - Age\n",
    "We use visualization techniques in order to check for possible relations relations between *Age*, *Gender* and target variable."
   ]
  },
  {
   "cell_type": "code",
   "execution_count": 35,
   "metadata": {
    "execution": {
     "iopub.execute_input": "2021-03-01T01:26:22.405500Z",
     "iopub.status.busy": "2021-03-01T01:26:22.404713Z",
     "iopub.status.idle": "2021-03-01T01:26:22.650469Z",
     "shell.execute_reply": "2021-03-01T01:26:22.649777Z"
    },
    "papermill": {
     "duration": 0.32341,
     "end_time": "2021-03-01T01:26:22.650631",
     "exception": false,
     "start_time": "2021-03-01T01:26:22.327221",
     "status": "completed"
    },
    "tags": []
   },
   "outputs": [
    {
     "data": {
      "image/png": "[encoded data removed]",
      "text/plain": [
       "<Figure size 576x432 with 1 Axes>"
      ]
     },
     "metadata": {
      "needs_background": "light"
     },
     "output_type": "display_data"
    }
   ],
   "source": [
    "plt.figure(figsize = (8,6))\n",
    "sns.boxplot(x = 'Gender', y = 'Age', hue = 'liver_disease', data = df, palette='Set3')\n",
    "plt.title('Gender and Age with and without liver disease')\n",
    "plt.show()"
   ]
  },
  {
   "cell_type": "markdown",
   "metadata": {
    "papermill": {
     "duration": 0.070446,
     "end_time": "2021-03-01T01:26:22.792018",
     "exception": false,
     "start_time": "2021-03-01T01:26:22.721572",
     "status": "completed"
    },
    "tags": []
   },
   "source": [
    "The presence or absence of the liver disease does not seem to be influenced by gender, ie each gender has relatively \"shared\" positive and negative cases. However, it is worth saying that both in women and men cases, the avarage age of positive diagnosed is higher than the avarage age of negative diagnosed."
   ]
  },
  {
   "cell_type": "code",
   "execution_count": 36,
   "metadata": {
    "execution": {
     "iopub.execute_input": "2021-03-01T01:26:22.951427Z",
     "iopub.status.busy": "2021-03-01T01:26:22.950720Z",
     "iopub.status.idle": "2021-03-01T01:26:22.956803Z",
     "shell.execute_reply": "2021-03-01T01:26:22.957290Z"
    },
    "papermill": {
     "duration": 0.094637,
     "end_time": "2021-03-01T01:26:22.957470",
     "exception": false,
     "start_time": "2021-03-01T01:26:22.862833",
     "status": "completed"
    },
    "tags": []
   },
   "outputs": [
    {
     "name": "stdout",
     "output_type": "stream",
     "text": [
      "male mean age diagnosed with or without liver disease\n"
     ]
    },
    {
     "data": {
      "text/html": [
       "<div>\n",
       "<style scoped>\n",
       "    .dataframe tbody tr th:only-of-type {\n",
       "        vertical-align: middle;\n",
       "    }\n",
       "\n",
       "    .dataframe tbody tr th {\n",
       "        vertical-align: top;\n",
       "    }\n",
       "\n",
       "    .dataframe thead th {\n",
       "        text-align: right;\n",
       "    }\n",
       "</style>\n",
       "<table border=\"1\" class=\"dataframe\">\n",
       "  <thead>\n",
       "    <tr style=\"text-align: right;\">\n",
       "      <th></th>\n",
       "      <th>Age</th>\n",
       "    </tr>\n",
       "    <tr>\n",
       "      <th>liver_disease</th>\n",
       "      <th></th>\n",
       "    </tr>\n",
       "  </thead>\n",
       "  <tbody>\n",
       "    <tr>\n",
       "      <th>0</th>\n",
       "      <td>40</td>\n",
       "    </tr>\n",
       "    <tr>\n",
       "      <th>1</th>\n",
       "      <td>47</td>\n",
       "    </tr>\n",
       "  </tbody>\n",
       "</table>\n",
       "</div>"
      ],
      "text/plain": [
       "               Age\n",
       "liver_disease     \n",
       "0               40\n",
       "1               47"
      ]
     },
     "execution_count": 36,
     "metadata": {},
     "output_type": "execute_result"
    }
   ],
   "source": [
    "male_age_des = df[df['Gender'] == 'Male'][['liver_disease','Age']]\n",
    "print('male mean age diagnosed with or without liver disease')\n",
    "male_age_des.groupby('liver_disease')['Age'].median().to_frame()"
   ]
  },
  {
   "cell_type": "code",
   "execution_count": 37,
   "metadata": {
    "execution": {
     "iopub.execute_input": "2021-03-01T01:26:23.117020Z",
     "iopub.status.busy": "2021-03-01T01:26:23.116092Z",
     "iopub.status.idle": "2021-03-01T01:26:23.121097Z",
     "shell.execute_reply": "2021-03-01T01:26:23.121608Z"
    },
    "papermill": {
     "duration": 0.091594,
     "end_time": "2021-03-01T01:26:23.121793",
     "exception": false,
     "start_time": "2021-03-01T01:26:23.030199",
     "status": "completed"
    },
    "tags": []
   },
   "outputs": [
    {
     "name": "stdout",
     "output_type": "stream",
     "text": [
      "female mean age diagnosed with or without liver disease\n"
     ]
    },
    {
     "data": {
      "text/html": [
       "<div>\n",
       "<style scoped>\n",
       "    .dataframe tbody tr th:only-of-type {\n",
       "        vertical-align: middle;\n",
       "    }\n",
       "\n",
       "    .dataframe tbody tr th {\n",
       "        vertical-align: top;\n",
       "    }\n",
       "\n",
       "    .dataframe thead th {\n",
       "        text-align: right;\n",
       "    }\n",
       "</style>\n",
       "<table border=\"1\" class=\"dataframe\">\n",
       "  <thead>\n",
       "    <tr style=\"text-align: right;\">\n",
       "      <th></th>\n",
       "      <th>Age</th>\n",
       "    </tr>\n",
       "    <tr>\n",
       "      <th>liver_disease</th>\n",
       "      <th></th>\n",
       "    </tr>\n",
       "  </thead>\n",
       "  <tbody>\n",
       "    <tr>\n",
       "      <th>0</th>\n",
       "      <td>39.5</td>\n",
       "    </tr>\n",
       "    <tr>\n",
       "      <th>1</th>\n",
       "      <td>45.0</td>\n",
       "    </tr>\n",
       "  </tbody>\n",
       "</table>\n",
       "</div>"
      ],
      "text/plain": [
       "                Age\n",
       "liver_disease      \n",
       "0              39.5\n",
       "1              45.0"
      ]
     },
     "execution_count": 37,
     "metadata": {},
     "output_type": "execute_result"
    }
   ],
   "source": [
    "female_age_des = df[df['Gender'] == 'Female'][['liver_disease','Age']]\n",
    "print('female mean age diagnosed with or without liver disease')\n",
    "female_age_des.groupby('liver_disease')['Age'].median().to_frame()"
   ]
  },
  {
   "cell_type": "code",
   "execution_count": 38,
   "metadata": {
    "execution": {
     "iopub.execute_input": "2021-03-01T01:26:23.273535Z",
     "iopub.status.busy": "2021-03-01T01:26:23.272696Z",
     "iopub.status.idle": "2021-03-01T01:26:23.276946Z",
     "shell.execute_reply": "2021-03-01T01:26:23.276092Z"
    },
    "papermill": {
     "duration": 0.081943,
     "end_time": "2021-03-01T01:26:23.277151",
     "exception": false,
     "start_time": "2021-03-01T01:26:23.195208",
     "status": "completed"
    },
    "tags": []
   },
   "outputs": [
    {
     "name": "stdout",
     "output_type": "stream",
     "text": [
      "percentage of positive women: 46.0 %\n",
      "percentage of positive men: 64.0 %\n"
     ]
    }
   ],
   "source": [
    "print('percentage of positive women: {} %'.format(round(1-50/92,2)*100))\n",
    "print('percentage of positive men: {} %'.format(round(1-117/324,2)*100))"
   ]
  },
  {
   "cell_type": "markdown",
   "metadata": {
    "papermill": {
     "duration": 0.072513,
     "end_time": "2021-03-01T01:26:23.423291",
     "exception": false,
     "start_time": "2021-03-01T01:26:23.350778",
     "status": "completed"
    },
    "tags": []
   },
   "source": [
    "**Conclusion:** Gender seems to affect the final diagnosis. Also, age affects the diagnosis but not in the same extend as gender.\n",
    "### Total Bilirubin & Direct Bilirubin\n",
    "\n",
    "A bilirubin test measures the amount of **total bilirubin** in your blood. It’s used to help find the cause of health conditions like jaundice, anemia, and liver disease. If your bilirubin levels are higher than normal, it’s a sign that either your red blood cells are breaking down at an unusual rate or that your liver isn’t breaking down waste properly and clearing the bilirubin from your blood. [[1]](https://www.webmd.com/a-to-z-guides/bilirubin-test)\n",
    "\n",
    "A bilirubin test measures total bilirubin. It can also give levels of two different types of bilirubin: unconjugated and conjugated.\n",
    "\n",
    "* For adults over 18, normal total bilirubin can be up to 1.2 milligrams per deciliter (mg/dl) of blood. \n",
    "* For those under 18, the normal level will be 1 mg/dl. Normal results for conjugated (direct) bilirubin should be less than 0.3 mg/dl. Men tend to have slightly higher bilirubin levels than women [[1]](http://www.webmd.com/a-to-z-guides/bilirubin-test)"
   ]
  },
  {
   "cell_type": "code",
   "execution_count": 39,
   "metadata": {
    "execution": {
     "iopub.execute_input": "2021-03-01T01:26:23.574210Z",
     "iopub.status.busy": "2021-03-01T01:26:23.572931Z",
     "iopub.status.idle": "2021-03-01T01:26:23.643605Z",
     "shell.execute_reply": "2021-03-01T01:26:23.644179Z"
    },
    "papermill": {
     "duration": 0.14855,
     "end_time": "2021-03-01T01:26:23.644361",
     "exception": false,
     "start_time": "2021-03-01T01:26:23.495811",
     "status": "completed"
    },
    "tags": []
   },
   "outputs": [
    {
     "data": {
      "application/vnd.plotly.v1+json": {
       "config": {
        "linkText": "Export to plot.ly",
        "plotlyServerURL": "https://plot.ly",
        "showLink": true
       },
       "data": [
        {
         "histfunc": "count",
         "histnorm": "",
         "marker": {
          "color": "rgba(219, 64, 82, 1.0)",
          "line": {
           "color": "#4D5663",
           "width": 1.3
          }
         },
         "name": "Total_Bilirubin",
         "opacity": 0.8,
         "orientation": "v",
         "type": "histogram",
         "x": [
          0.7,
          10.9,
          7.3,
          1.0,
          3.9,
          1.8,
          0.9,
          0.9,
          0.9,
          0.7,
          0.6,
          2.7,
          0.9,
          1.1,
          0.7,
          0.6,
          1.8,
          1.6,
          0.9,
          0.9,
          2.2,
          2.9,
          6.8,
          1.9,
          0.9,
          4.1,
          4.1,
          6.2,
          1.1,
          0.7,
          4.0,
          0.9,
          1.0,
          2.6,
          2.6,
          1.3,
          0.7,
          14.2,
          1.4,
          2.7,
          2.4,
          0.6,
          6.8,
          2.6,
          1.0,
          1.8,
          3.9,
          1.1,
          0.6,
          18.4,
          0.7,
          0.6,
          3.1,
          1.1,
          8.9,
          8.9,
          0.8,
          0.9,
          0.8,
          1.1,
          0.8,
          1.0,
          1.0,
          0.7,
          1.3,
          1.4,
          2.2,
          1.8,
          0.7,
          0.8,
          0.7,
          0.8,
          0.8,
          0.6,
          0.7,
          0.7,
          0.9,
          0.6,
          1.4,
          2.8,
          2.4,
          1.0,
          0.7,
          2.0,
          0.6,
          1.4,
          0.6,
          0.8,
          0.6,
          4.0,
          5.7,
          6.8,
          8.6,
          5.8,
          5.2,
          0.9,
          3.8,
          6.6,
          0.6,
          0.7,
          0.6,
          0.7,
          0.9,
          0.8,
          0.5,
          5.3,
          5.3,
          0.8,
          0.8,
          0.9,
          0.7,
          3.2,
          1.2,
          0.6,
          5.8,
          7.3,
          0.7,
          12.7,
          15.9,
          18.0,
          23.0,
          22.7,
          1.7,
          0.8,
          0.6,
          1.8,
          5.8,
          3.0,
          1.7,
          2.8,
          3.2,
          0.7,
          0.8,
          0.9,
          1.8,
          11.3,
          4.7,
          0.8,
          0.8,
          0.8,
          0.6,
          4.2,
          1.6,
          1.6,
          3.5,
          0.8,
          2.9,
          0.7,
          0.9,
          0.8,
          1.1,
          1.6,
          0.8,
          0.6,
          5.9,
          8.7,
          0.9,
          0.7,
          0.7,
          1.2,
          11.0,
          11.5,
          5.8,
          1.9,
          1.9,
          4.5,
          75.0,
          3.0,
          22.8,
          8.9,
          1.7,
          1.9,
          14.1,
          0.6,
          0.6,
          0.8,
          0.8,
          14.8,
          10.6,
          8.0,
          2.8,
          2.9,
          1.9,
          0.6,
          1.1,
          1.5,
          3.2,
          2.1,
          1.9,
          0.8,
          6.3,
          5.8,
          2.3,
          1.3,
          2.0,
          2.4,
          2.0,
          0.6,
          0.9,
          27.2,
          0.6,
          0.6,
          0.8,
          1.0,
          0.7,
          2.5,
          3.6,
          3.9,
          0.9,
          0.9,
          0.8,
          2.7,
          2.7,
          0.9,
          1.7,
          0.6,
          0.9,
          1.1,
          0.6,
          0.8,
          0.8,
          0.9,
          0.9,
          1.1,
          1.7,
          0.6,
          1.3,
          0.7,
          1.0,
          0.6,
          1.5,
          0.8,
          2.7,
          2.0,
          0.9,
          1.5,
          0.8,
          0.9,
          0.9,
          0.9,
          0.7,
          0.8,
          0.8,
          0.9,
          0.8,
          0.9,
          1.8,
          0.9,
          0.7,
          1.2,
          2.1,
          0.9,
          1.1,
          0.6,
          0.7,
          1.7,
          0.9,
          0.8,
          0.8,
          30.5,
          16.4,
          1.5,
          0.8,
          0.8,
          0.8,
          0.9,
          1.2,
          0.9,
          14.5,
          0.6,
          0.7,
          0.8,
          18.5,
          0.7,
          1.8,
          1.9,
          0.9,
          2.0,
          2.2,
          1.0,
          0.8,
          0.7,
          0.7,
          1.3,
          0.9,
          1.5,
          0.8,
          1.3,
          1.0,
          4.5,
          1.0,
          0.7,
          0.6,
          1.1,
          2.4,
          0.6,
          0.9,
          0.9,
          1.1,
          0.9,
          0.8,
          0.9,
          1.7,
          0.7,
          0.8,
          1.4,
          1.6,
          0.8,
          0.8,
          1.1,
          0.8,
          23.2,
          1.3,
          0.8,
          2.0,
          0.9,
          0.9,
          0.7,
          3.7,
          0.9,
          0.7,
          0.8,
          1.7,
          0.8,
          2.6,
          0.8,
          1.2,
          3.3,
          0.8,
          0.7,
          2.0,
          1.7,
          7.1,
          0.7,
          0.7,
          0.7,
          6.7,
          2.5,
          1.8,
          1.4,
          0.9,
          0.8,
          0.8,
          3.1,
          0.8,
          2.9,
          0.6,
          0.7,
          1.3,
          0.8,
          1.8,
          1.3,
          0.7,
          1.4,
          0.8,
          1.4,
          0.7,
          2.1,
          0.7,
          0.8,
          0.7,
          0.7,
          1.1,
          0.9,
          0.8,
          0.7,
          0.7,
          2.2,
          0.8,
          0.8,
          22.6,
          0.8,
          0.7,
          0.7,
          0.7,
          3.5,
          0.7,
          0.6,
          0.7,
          0.7,
          1.7,
          0.6,
          0.7,
          1.4,
          3.7,
          0.8,
          2.7,
          0.8,
          0.8,
          0.6,
          0.8,
          0.9,
          7.5,
          2.7,
          1.0,
          0.8,
          1.0,
          1.0,
          0.8,
          1.0,
          0.7,
          7.3,
          0.5,
          0.7,
          0.8,
          0.8,
          0.7,
          1.0,
          2.4,
          5.0,
          1.4,
          2.3,
          4.9,
          0.7,
          1.4,
          1.3,
          0.6,
          0.7,
          4.2,
          8.2,
          10.9,
          1.0,
          1.2,
          1.6,
          0.7,
          0.4,
          1.3,
          0.9,
          0.6,
          1.9,
          0.7,
          0.8,
          0.7,
          0.9,
          0.7,
          0.5,
          1.0,
          1.6,
          0.8,
          0.8,
          0.8,
          2.3,
          7.4,
          0.7,
          0.8,
          0.9,
          0.8,
          23.3,
          0.8,
          0.9,
          7.9,
          0.8,
          0.9,
          0.7,
          0.6,
          0.6,
          0.7,
          0.8,
          6.8,
          1.1,
          2.2,
          0.8,
          0.7,
          0.8,
          0.7,
          0.6,
          0.6,
          1.0,
          1.0,
          0.8,
          1.1,
          0.6,
          0.7,
          1.0,
          2.0,
          2.2,
          0.9,
          0.6,
          7.1,
          3.4,
          0.5,
          2.3,
          1.1,
          0.8,
          5.0,
          6.7,
          0.8,
          0.7,
          0.7,
          0.8,
          0.8,
          1.0,
          1.0,
          0.7,
          0.7,
          0.7,
          1.0,
          2.2,
          1.8,
          3.6,
          2.7,
          2.8,
          0.8,
          19.8,
          30.5,
          32.6,
          17.7,
          0.9,
          18.4,
          20.0,
          0.8,
          2.2,
          1.0,
          0.9,
          1.0,
          3.9,
          0.9,
          0.9,
          2.9,
          26.3,
          1.8,
          4.4,
          0.8,
          0.6,
          0.8,
          0.9,
          9.4,
          3.5,
          1.7,
          3.3,
          1.1,
          30.8,
          0.7,
          1.4,
          1.6,
          19.6,
          15.8,
          0.8,
          1.8,
          0.7,
          0.8,
          0.8,
          0.7,
          1.2,
          5.5,
          0.7,
          20.2,
          27.7,
          11.1,
          2.1,
          3.3,
          1.2,
          0.6,
          10.2,
          1.8,
          0.8,
          0.7,
          2.9,
          4.0,
          42.8,
          15.2,
          16.6,
          17.3,
          1.4,
          0.6,
          22.5,
          1.0,
          2.7,
          16.7,
          7.7,
          2.6,
          1.1,
          15.6,
          3.7,
          12.1,
          25.0,
          15.0,
          12.7,
          0.5,
          0.6,
          0.8,
          1.3,
          1.0
         ]
        }
       ],
       "layout": {
        "barmode": "overlay",
        "legend": {
         "bgcolor": "#F5F6F9",
         "font": {
          "color": "#4D5663"
         }
        },
        "paper_bgcolor": "#F5F6F9",
        "plot_bgcolor": "#F5F6F9",
        "template": {
         "data": {
          "bar": [
           {
            "error_x": {
             "color": "#2a3f5f"
            },
            "error_y": {
             "color": "#2a3f5f"
            },
            "marker": {
             "line": {
              "color": "#E5ECF6",
              "width": 0.5
             }
            },
            "type": "bar"
           }
          ],
          "barpolar": [
           {
            "marker": {
             "line": {
              "color": "#E5ECF6",
              "width": 0.5
             }
            },
            "type": "barpolar"
           }
          ],
          "carpet": [
           {
            "aaxis": {
             "endlinecolor": "#2a3f5f",
             "gridcolor": "white",
             "linecolor": "white",
             "minorgridcolor": "white",
             "startlinecolor": "#2a3f5f"
            },
            "baxis": {
             "endlinecolor": "#2a3f5f",
             "gridcolor": "white",
             "linecolor": "white",
             "minorgridcolor": "white",
             "startlinecolor": "#2a3f5f"
            },
            "type": "carpet"
           }
          ],
          "choropleth": [
           {
            "colorbar": {
             "outlinewidth": 0,
             "ticks": ""
            },
            "type": "choropleth"
           }
          ],
          "contour": [
           {
            "colorbar": {
             "outlinewidth": 0,
             "ticks": ""
            },
            "colorscale": [
             [
              0.0,
              "#0d0887"
             ],
             [
              0.1111111111111111,
              "#46039f"
             ],
             [
              0.2222222222222222,
              "#7201a8"
             ],
             [
              0.3333333333333333,
              "#9c179e"
             ],
             [
              0.4444444444444444,
              "#bd3786"
             ],
             [
              0.5555555555555556,
              "#d8576b"
             ],
             [
              0.6666666666666666,
              "#ed7953"
             ],
             [
              0.7777777777777778,
              "#fb9f3a"
             ],
             [
              0.8888888888888888,
              "#fdca26"
             ],
             [
              1.0,
              "#f0f921"
             ]
            ],
            "type": "contour"
           }
          ],
          "contourcarpet": [
           {
            "colorbar": {
             "outlinewidth": 0,
             "ticks": ""
            },
            "type": "contourcarpet"
           }
          ],
          "heatmap": [
           {
            "colorbar": {
             "outlinewidth": 0,
             "ticks": ""
            },
            "colorscale": [
             [
              0.0,
              "#0d0887"
             ],
             [
              0.1111111111111111,
              "#46039f"
             ],
             [
              0.2222222222222222,
              "#7201a8"
             ],
             [
              0.3333333333333333,
              "#9c179e"
             ],
             [
              0.4444444444444444,
              "#bd3786"
             ],
             [
              0.5555555555555556,
              "#d8576b"
             ],
             [
              0.6666666666666666,
              "#ed7953"
             ],
             [
              0.7777777777777778,
              "#fb9f3a"
             ],
             [
              0.8888888888888888,
              "#fdca26"
             ],
             [
              1.0,
              "#f0f921"
             ]
            ],
            "type": "heatmap"
           }
          ],
          "heatmapgl": [
           {
            "colorbar": {
             "outlinewidth": 0,
             "ticks": ""
            },
            "colorscale": [
             [
              0.0,
              "#0d0887"
             ],
             [
              0.1111111111111111,
              "#46039f"
             ],
             [
              0.2222222222222222,
              "#7201a8"
             ],
             [
              0.3333333333333333,
              "#9c179e"
             ],
             [
              0.4444444444444444,
              "#bd3786"
             ],
             [
              0.5555555555555556,
              "#d8576b"
             ],
             [
              0.6666666666666666,
              "#ed7953"
             ],
             [
              0.7777777777777778,
              "#fb9f3a"
             ],
             [
              0.8888888888888888,
              "#fdca26"
             ],
             [
              1.0,
              "#f0f921"
             ]
            ],
            "type": "heatmapgl"
           }
          ],
          "histogram": [
           {
            "marker": {
             "colorbar": {
              "outlinewidth": 0,
              "ticks": ""
             }
            },
            "type": "histogram"
           }
          ],
          "histogram2d": [
           {
            "colorbar": {
             "outlinewidth": 0,
             "ticks": ""
            },
            "colorscale": [
             [
              0.0,
              "#0d0887"
             ],
             [
              0.1111111111111111,
              "#46039f"
             ],
             [
              0.2222222222222222,
              "#7201a8"
             ],
             [
              0.3333333333333333,
              "#9c179e"
             ],
             [
              0.4444444444444444,
              "#bd3786"
             ],
             [
              0.5555555555555556,
              "#d8576b"
             ],
             [
              0.6666666666666666,
              "#ed7953"
             ],
             [
              0.7777777777777778,
              "#fb9f3a"
             ],
             [
              0.8888888888888888,
              "#fdca26"
             ],
             [
              1.0,
              "#f0f921"
             ]
            ],
            "type": "histogram2d"
           }
          ],
          "histogram2dcontour": [
           {
            "colorbar": {
             "outlinewidth": 0,
             "ticks": ""
            },
            "colorscale": [
             [
              0.0,
              "#0d0887"
             ],
             [
              0.1111111111111111,
              "#46039f"
             ],
             [
              0.2222222222222222,
              "#7201a8"
             ],
             [
              0.3333333333333333,
              "#9c179e"
             ],
             [
              0.4444444444444444,
              "#bd3786"
             ],
             [
              0.5555555555555556,
              "#d8576b"
             ],
             [
              0.6666666666666666,
              "#ed7953"
             ],
             [
              0.7777777777777778,
              "#fb9f3a"
             ],
             [
              0.8888888888888888,
              "#fdca26"
             ],
             [
              1.0,
              "#f0f921"
             ]
            ],
            "type": "histogram2dcontour"
           }
          ],
          "mesh3d": [
           {
            "colorbar": {
             "outlinewidth": 0,
             "ticks": ""
            },
            "type": "mesh3d"
           }
          ],
          "parcoords": [
           {
            "line": {
             "colorbar": {
              "outlinewidth": 0,
              "ticks": ""
             }
            },
            "type": "parcoords"
           }
          ],
          "pie": [
           {
            "automargin": true,
            "type": "pie"
           }
          ],
          "scatter": [
           {
            "marker": {
             "colorbar": {
              "outlinewidth": 0,
              "ticks": ""
             }
            },
            "type": "scatter"
           }
          ],
          "scatter3d": [
           {
            "line": {
             "colorbar": {
              "outlinewidth": 0,
              "ticks": ""
             }
            },
            "marker": {
             "colorbar": {
              "outlinewidth": 0,
              "ticks": ""
             }
            },
            "type": "scatter3d"
           }
          ],
          "scattercarpet": [
           {
            "marker": {
             "colorbar": {
              "outlinewidth": 0,
              "ticks": ""
             }
            },
            "type": "scattercarpet"
           }
          ],
          "scattergeo": [
           {
            "marker": {
             "colorbar": {
              "outlinewidth": 0,
              "ticks": ""
             }
            },
            "type": "scattergeo"
           }
          ],
          "scattergl": [
           {
            "marker": {
             "colorbar": {
              "outlinewidth": 0,
              "ticks": ""
             }
            },
            "type": "scattergl"
           }
          ],
          "scattermapbox": [
           {
            "marker": {
             "colorbar": {
              "outlinewidth": 0,
              "ticks": ""
             }
            },
            "type": "scattermapbox"
           }
          ],
          "scatterpolar": [
           {
            "marker": {
             "colorbar": {
              "outlinewidth": 0,
              "ticks": ""
             }
            },
            "type": "scatterpolar"
           }
          ],
          "scatterpolargl": [
           {
            "marker": {
             "colorbar": {
              "outlinewidth": 0,
              "ticks": ""
             }
            },
            "type": "scatterpolargl"
           }
          ],
          "scatterternary": [
           {
            "marker": {
             "colorbar": {
              "outlinewidth": 0,
              "ticks": ""
             }
            },
            "type": "scatterternary"
           }
          ],
          "surface": [
           {
            "colorbar": {
             "outlinewidth": 0,
             "ticks": ""
            },
            "colorscale": [
             [
              0.0,
              "#0d0887"
             ],
             [
              0.1111111111111111,
              "#46039f"
             ],
             [
              0.2222222222222222,
              "#7201a8"
             ],
             [
              0.3333333333333333,
              "#9c179e"
             ],
             [
              0.4444444444444444,
              "#bd3786"
             ],
             [
              0.5555555555555556,
              "#d8576b"
             ],
             [
              0.6666666666666666,
              "#ed7953"
             ],
             [
              0.7777777777777778,
              "#fb9f3a"
             ],
             [
              0.8888888888888888,
              "#fdca26"
             ],
             [
              1.0,
              "#f0f921"
             ]
            ],
            "type": "surface"
           }
          ],
          "table": [
           {
            "cells": {
             "fill": {
              "color": "#EBF0F8"
             },
             "line": {
              "color": "white"
             }
            },
            "header": {
             "fill": {
              "color": "#C8D4E3"
             },
             "line": {
              "color": "white"
             }
            },
            "type": "table"
           }
          ]
         },
         "layout": {
          "annotationdefaults": {
           "arrowcolor": "#2a3f5f",
           "arrowhead": 0,
           "arrowwidth": 1
          },
          "autotypenumbers": "strict",
          "coloraxis": {
           "colorbar": {
            "outlinewidth": 0,
            "ticks": ""
           }
          },
          "colorscale": {
           "diverging": [
            [
             0,
             "#8e0152"
            ],
            [
             0.1,
             "#c51b7d"
            ],
            [
             0.2,
             "#de77ae"
            ],
            [
             0.3,
             "#f1b6da"
            ],
            [
             0.4,
             "#fde0ef"
            ],
            [
             0.5,
             "#f7f7f7"
            ],
            [
             0.6,
             "#e6f5d0"
            ],
            [
             0.7,
             "#b8e186"
            ],
            [
             0.8,
             "#7fbc41"
            ],
            [
             0.9,
             "#4d9221"
            ],
            [
             1,
             "#276419"
            ]
           ],
           "sequential": [
            [
             0.0,
             "#0d0887"
            ],
            [
             0.1111111111111111,
             "#46039f"
            ],
            [
             0.2222222222222222,
             "#7201a8"
            ],
            [
             0.3333333333333333,
             "#9c179e"
            ],
            [
             0.4444444444444444,
             "#bd3786"
            ],
            [
             0.5555555555555556,
             "#d8576b"
            ],
            [
             0.6666666666666666,
             "#ed7953"
            ],
            [
             0.7777777777777778,
             "#fb9f3a"
            ],
            [
             0.8888888888888888,
             "#fdca26"
            ],
            [
             1.0,
             "#f0f921"
            ]
           ],
           "sequentialminus": [
            [
             0.0,
             "#0d0887"
            ],
            [
             0.1111111111111111,
             "#46039f"
            ],
            [
             0.2222222222222222,
             "#7201a8"
            ],
            [
             0.3333333333333333,
             "#9c179e"
            ],
            [
             0.4444444444444444,
             "#bd3786"
            ],
            [
             0.5555555555555556,
             "#d8576b"
            ],
            [
             0.6666666666666666,
             "#ed7953"
            ],
            [
             0.7777777777777778,
             "#fb9f3a"
            ],
            [
             0.8888888888888888,
             "#fdca26"
            ],
            [
             1.0,
             "#f0f921"
            ]
           ]
          },
          "colorway": [
           "#636efa",
           "#EF553B",
           "#00cc96",
           "#ab63fa",
           "#FFA15A",
           "#19d3f3",
           "#FF6692",
           "#B6E880",
           "#FF97FF",
           "#FECB52"
          ],
          "font": {
           "color": "#2a3f5f"
          },
          "geo": {
           "bgcolor": "white",
           "lakecolor": "white",
           "landcolor": "#E5ECF6",
           "showlakes": true,
           "showland": true,
           "subunitcolor": "white"
          },
          "hoverlabel": {
           "align": "left"
          },
          "hovermode": "closest",
          "mapbox": {
           "style": "light"
          },
          "paper_bgcolor": "white",
          "plot_bgcolor": "#E5ECF6",
          "polar": {
           "angularaxis": {
            "gridcolor": "white",
            "linecolor": "white",
            "ticks": ""
           },
           "bgcolor": "#E5ECF6",
           "radialaxis": {
            "gridcolor": "white",
            "linecolor": "white",
            "ticks": ""
           }
          },
          "scene": {
           "xaxis": {
            "backgroundcolor": "#E5ECF6",
            "gridcolor": "white",
            "gridwidth": 2,
            "linecolor": "white",
            "showbackground": true,
            "ticks": "",
            "zerolinecolor": "white"
           },
           "yaxis": {
            "backgroundcolor": "#E5ECF6",
            "gridcolor": "white",
            "gridwidth": 2,
            "linecolor": "white",
            "showbackground": true,
            "ticks": "",
            "zerolinecolor": "white"
           },
           "zaxis": {
            "backgroundcolor": "#E5ECF6",
            "gridcolor": "white",
            "gridwidth": 2,
            "linecolor": "white",
            "showbackground": true,
            "ticks": "",
            "zerolinecolor": "white"
           }
          },
          "shapedefaults": {
           "line": {
            "color": "#2a3f5f"
           }
          },
          "ternary": {
           "aaxis": {
            "gridcolor": "white",
            "linecolor": "white",
            "ticks": ""
           },
           "baxis": {
            "gridcolor": "white",
            "linecolor": "white",
            "ticks": ""
           },
           "bgcolor": "#E5ECF6",
           "caxis": {
            "gridcolor": "white",
            "linecolor": "white",
            "ticks": ""
           }
          },
          "title": {
           "x": 0.05
          },
          "xaxis": {
           "automargin": true,
           "gridcolor": "white",
           "linecolor": "white",
           "ticks": "",
           "title": {
            "standoff": 15
           },
           "zerolinecolor": "white",
           "zerolinewidth": 2
          },
          "yaxis": {
           "automargin": true,
           "gridcolor": "white",
           "linecolor": "white",
           "ticks": "",
           "title": {
            "standoff": 15
           },
           "zerolinecolor": "white",
           "zerolinewidth": 2
          }
         }
        },
        "title": {
         "font": {
          "color": "#4D5663"
         }
        },
        "xaxis": {
         "gridcolor": "#E1E5ED",
         "showgrid": true,
         "tickfont": {
          "color": "#4D5663"
         },
         "title": {
          "font": {
           "color": "#4D5663"
          },
          "text": "Total_Bilirubin"
         },
         "zerolinecolor": "#E1E5ED"
        },
        "yaxis": {
         "gridcolor": "#E1E5ED",
         "showgrid": true,
         "tickfont": {
          "color": "#4D5663"
         },
         "title": {
          "font": {
           "color": "#4D5663"
          },
          "text": "Frequency"
         },
         "zerolinecolor": "#E1E5ED"
        }
       }
      },
      "text/html": [
       "<div>                            <div id=\"17f2e24d-90cf-4ac7-a2f7-622625b022f2\" class=\"plotly-graph-div\" style=\"height:525px; width:100%;\"></div>            <script type=\"text/javascript\">                require([\"plotly\"], function(Plotly) {                    window.PLOTLYENV=window.PLOTLYENV || {};\n",
       "                    window.PLOTLYENV.BASE_URL='https://plot.ly';                                    if (document.getElementById(\"17f2e24d-90cf-4ac7-a2f7-622625b022f2\")) {                    Plotly.newPlot(                        \"17f2e24d-90cf-4ac7-a2f7-622625b022f2\",                        [{\"histfunc\": \"count\", \"histnorm\": \"\", \"marker\": {\"color\": \"rgba(219, 64, 82, 1.0)\", \"line\": {\"color\": \"#4D5663\", \"width\": 1.3}}, \"name\": \"Total_Bilirubin\", \"opacity\": 0.8, \"orientation\": \"v\", \"type\": \"histogram\", \"x\": [0.7, 10.9, 7.3, 1.0, 3.9, 1.8, 0.9, 0.9, 0.9, 0.7, 0.6, 2.7, 0.9, 1.1, 0.7, 0.6, 1.8, 1.6, 0.9, 0.9, 2.2, 2.9, 6.8, 1.9, 0.9, 4.1, 4.1, 6.2, 1.1, 0.7, 4.0, 0.9, 1.0, 2.6, 2.6, 1.3, 0.7, 14.2, 1.4, 2.7, 2.4, 0.6, 6.8, 2.6, 1.0, 1.8, 3.9, 1.1, 0.6, 18.4, 0.7, 0.6, 3.1, 1.1, 8.9, 8.9, 0.8, 0.9, 0.8, 1.1, 0.8, 1.0, 1.0, 0.7, 1.3, 1.4, 2.2, 1.8, 0.7, 0.8, 0.7, 0.8, 0.8, 0.6, 0.7, 0.7, 0.9, 0.6, 1.4, 2.8, 2.4, 1.0, 0.7, 2.0, 0.6, 1.4, 0.6, 0.8, 0.6, 4.0, 5.7, 6.8, 8.6, 5.8, 5.2, 0.9, 3.8, 6.6, 0.6, 0.7, 0.6, 0.7, 0.9, 0.8, 0.5, 5.3, 5.3, 0.8, 0.8, 0.9, 0.7, 3.2, 1.2, 0.6, 5.8, 7.3, 0.7, 12.7, 15.9, 18.0, 23.0, 22.7, 1.7, 0.8, 0.6, 1.8, 5.8, 3.0, 1.7, 2.8, 3.2, 0.7, 0.8, 0.9, 1.8, 11.3, 4.7, 0.8, 0.8, 0.8, 0.6, 4.2, 1.6, 1.6, 3.5, 0.8, 2.9, 0.7, 0.9, 0.8, 1.1, 1.6, 0.8, 0.6, 5.9, 8.7, 0.9, 0.7, 0.7, 1.2, 11.0, 11.5, 5.8, 1.9, 1.9, 4.5, 75.0, 3.0, 22.8, 8.9, 1.7, 1.9, 14.1, 0.6, 0.6, 0.8, 0.8, 14.8, 10.6, 8.0, 2.8, 2.9, 1.9, 0.6, 1.1, 1.5, 3.2, 2.1, 1.9, 0.8, 6.3, 5.8, 2.3, 1.3, 2.0, 2.4, 2.0, 0.6, 0.9, 27.2, 0.6, 0.6, 0.8, 1.0, 0.7, 2.5, 3.6, 3.9, 0.9, 0.9, 0.8, 2.7, 2.7, 0.9, 1.7, 0.6, 0.9, 1.1, 0.6, 0.8, 0.8, 0.9, 0.9, 1.1, 1.7, 0.6, 1.3, 0.7, 1.0, 0.6, 1.5, 0.8, 2.7, 2.0, 0.9, 1.5, 0.8, 0.9, 0.9, 0.9, 0.7, 0.8, 0.8, 0.9, 0.8, 0.9, 1.8, 0.9, 0.7, 1.2, 2.1, 0.9, 1.1, 0.6, 0.7, 1.7, 0.9, 0.8, 0.8, 30.5, 16.4, 1.5, 0.8, 0.8, 0.8, 0.9, 1.2, 0.9, 14.5, 0.6, 0.7, 0.8, 18.5, 0.7, 1.8, 1.9, 0.9, 2.0, 2.2, 1.0, 0.8, 0.7, 0.7, 1.3, 0.9, 1.5, 0.8, 1.3, 1.0, 4.5, 1.0, 0.7, 0.6, 1.1, 2.4, 0.6, 0.9, 0.9, 1.1, 0.9, 0.8, 0.9, 1.7, 0.7, 0.8, 1.4, 1.6, 0.8, 0.8, 1.1, 0.8, 23.2, 1.3, 0.8, 2.0, 0.9, 0.9, 0.7, 3.7, 0.9, 0.7, 0.8, 1.7, 0.8, 2.6, 0.8, 1.2, 3.3, 0.8, 0.7, 2.0, 1.7, 7.1, 0.7, 0.7, 0.7, 6.7, 2.5, 1.8, 1.4, 0.9, 0.8, 0.8, 3.1, 0.8, 2.9, 0.6, 0.7, 1.3, 0.8, 1.8, 1.3, 0.7, 1.4, 0.8, 1.4, 0.7, 2.1, 0.7, 0.8, 0.7, 0.7, 1.1, 0.9, 0.8, 0.7, 0.7, 2.2, 0.8, 0.8, 22.6, 0.8, 0.7, 0.7, 0.7, 3.5, 0.7, 0.6, 0.7, 0.7, 1.7, 0.6, 0.7, 1.4, 3.7, 0.8, 2.7, 0.8, 0.8, 0.6, 0.8, 0.9, 7.5, 2.7, 1.0, 0.8, 1.0, 1.0, 0.8, 1.0, 0.7, 7.3, 0.5, 0.7, 0.8, 0.8, 0.7, 1.0, 2.4, 5.0, 1.4, 2.3, 4.9, 0.7, 1.4, 1.3, 0.6, 0.7, 4.2, 8.2, 10.9, 1.0, 1.2, 1.6, 0.7, 0.4, 1.3, 0.9, 0.6, 1.9, 0.7, 0.8, 0.7, 0.9, 0.7, 0.5, 1.0, 1.6, 0.8, 0.8, 0.8, 2.3, 7.4, 0.7, 0.8, 0.9, 0.8, 23.3, 0.8, 0.9, 7.9, 0.8, 0.9, 0.7, 0.6, 0.6, 0.7, 0.8, 6.8, 1.1, 2.2, 0.8, 0.7, 0.8, 0.7, 0.6, 0.6, 1.0, 1.0, 0.8, 1.1, 0.6, 0.7, 1.0, 2.0, 2.2, 0.9, 0.6, 7.1, 3.4, 0.5, 2.3, 1.1, 0.8, 5.0, 6.7, 0.8, 0.7, 0.7, 0.8, 0.8, 1.0, 1.0, 0.7, 0.7, 0.7, 1.0, 2.2, 1.8, 3.6, 2.7, 2.8, 0.8, 19.8, 30.5, 32.6, 17.7, 0.9, 18.4, 20.0, 0.8, 2.2, 1.0, 0.9, 1.0, 3.9, 0.9, 0.9, 2.9, 26.3, 1.8, 4.4, 0.8, 0.6, 0.8, 0.9, 9.4, 3.5, 1.7, 3.3, 1.1, 30.8, 0.7, 1.4, 1.6, 19.6, 15.8, 0.8, 1.8, 0.7, 0.8, 0.8, 0.7, 1.2, 5.5, 0.7, 20.2, 27.7, 11.1, 2.1, 3.3, 1.2, 0.6, 10.2, 1.8, 0.8, 0.7, 2.9, 4.0, 42.8, 15.2, 16.6, 17.3, 1.4, 0.6, 22.5, 1.0, 2.7, 16.7, 7.7, 2.6, 1.1, 15.6, 3.7, 12.1, 25.0, 15.0, 12.7, 0.5, 0.6, 0.8, 1.3, 1.0]}],                        {\"barmode\": \"overlay\", \"legend\": {\"bgcolor\": \"#F5F6F9\", \"font\": {\"color\": \"#4D5663\"}}, \"paper_bgcolor\": \"#F5F6F9\", \"plot_bgcolor\": \"#F5F6F9\", \"template\": {\"data\": {\"bar\": [{\"error_x\": {\"color\": \"#2a3f5f\"}, \"error_y\": {\"color\": \"#2a3f5f\"}, \"marker\": {\"line\": {\"color\": \"#E5ECF6\", \"width\": 0.5}}, \"type\": \"bar\"}], \"barpolar\": [{\"marker\": {\"line\": {\"color\": \"#E5ECF6\", \"width\": 0.5}}, \"type\": \"barpolar\"}], \"carpet\": [{\"aaxis\": {\"endlinecolor\": \"#2a3f5f\", \"gridcolor\": \"white\", \"linecolor\": \"white\", \"minorgridcolor\": \"white\", \"startlinecolor\": \"#2a3f5f\"}, \"baxis\": {\"endlinecolor\": \"#2a3f5f\", \"gridcolor\": \"white\", \"linecolor\": \"white\", \"minorgridcolor\": \"white\", \"startlinecolor\": \"#2a3f5f\"}, \"type\": \"carpet\"}], \"choropleth\": [{\"colorbar\": {\"outlinewidth\": 0, \"ticks\": \"\"}, \"type\": \"choropleth\"}], \"contour\": [{\"colorbar\": {\"outlinewidth\": 0, \"ticks\": \"\"}, \"colorscale\": [[0.0, \"#0d0887\"], [0.1111111111111111, \"#46039f\"], [0.2222222222222222, \"#7201a8\"], [0.3333333333333333, \"#9c179e\"], [0.4444444444444444, \"#bd3786\"], [0.5555555555555556, \"#d8576b\"], [0.6666666666666666, \"#ed7953\"], [0.7777777777777778, \"#fb9f3a\"], [0.8888888888888888, \"#fdca26\"], [1.0, \"#f0f921\"]], \"type\": \"contour\"}], \"contourcarpet\": [{\"colorbar\": {\"outlinewidth\": 0, \"ticks\": \"\"}, \"type\": \"contourcarpet\"}], \"heatmap\": [{\"colorbar\": {\"outlinewidth\": 0, \"ticks\": \"\"}, \"colorscale\": [[0.0, \"#0d0887\"], [0.1111111111111111, \"#46039f\"], [0.2222222222222222, \"#7201a8\"], [0.3333333333333333, \"#9c179e\"], [0.4444444444444444, \"#bd3786\"], [0.5555555555555556, \"#d8576b\"], [0.6666666666666666, \"#ed7953\"], [0.7777777777777778, \"#fb9f3a\"], [0.8888888888888888, \"#fdca26\"], [1.0, \"#f0f921\"]], \"type\": \"heatmap\"}], \"heatmapgl\": [{\"colorbar\": {\"outlinewidth\": 0, \"ticks\": \"\"}, \"colorscale\": [[0.0, \"#0d0887\"], [0.1111111111111111, \"#46039f\"], [0.2222222222222222, \"#7201a8\"], [0.3333333333333333, \"#9c179e\"], [0.4444444444444444, \"#bd3786\"], [0.5555555555555556, \"#d8576b\"], [0.6666666666666666, \"#ed7953\"], [0.7777777777777778, \"#fb9f3a\"], [0.8888888888888888, \"#fdca26\"], [1.0, \"#f0f921\"]], \"type\": \"heatmapgl\"}], \"histogram\": [{\"marker\": {\"colorbar\": {\"outlinewidth\": 0, \"ticks\": \"\"}}, \"type\": \"histogram\"}], \"histogram2d\": [{\"colorbar\": {\"outlinewidth\": 0, \"ticks\": \"\"}, \"colorscale\": [[0.0, \"#0d0887\"], [0.1111111111111111, \"#46039f\"], [0.2222222222222222, \"#7201a8\"], [0.3333333333333333, \"#9c179e\"], [0.4444444444444444, \"#bd3786\"], [0.5555555555555556, \"#d8576b\"], [0.6666666666666666, \"#ed7953\"], [0.7777777777777778, \"#fb9f3a\"], [0.8888888888888888, \"#fdca26\"], [1.0, \"#f0f921\"]], \"type\": \"histogram2d\"}], \"histogram2dcontour\": [{\"colorbar\": {\"outlinewidth\": 0, \"ticks\": \"\"}, \"colorscale\": [[0.0, \"#0d0887\"], [0.1111111111111111, \"#46039f\"], [0.2222222222222222, \"#7201a8\"], [0.3333333333333333, \"#9c179e\"], [0.4444444444444444, \"#bd3786\"], [0.5555555555555556, \"#d8576b\"], [0.6666666666666666, \"#ed7953\"], [0.7777777777777778, \"#fb9f3a\"], [0.8888888888888888, \"#fdca26\"], [1.0, \"#f0f921\"]], \"type\": \"histogram2dcontour\"}], \"mesh3d\": [{\"colorbar\": {\"outlinewidth\": 0, \"ticks\": \"\"}, \"type\": \"mesh3d\"}], \"parcoords\": [{\"line\": {\"colorbar\": {\"outlinewidth\": 0, \"ticks\": \"\"}}, \"type\": \"parcoords\"}], \"pie\": [{\"automargin\": true, \"type\": \"pie\"}], \"scatter\": [{\"marker\": {\"colorbar\": {\"outlinewidth\": 0, \"ticks\": \"\"}}, \"type\": \"scatter\"}], \"scatter3d\": [{\"line\": {\"colorbar\": {\"outlinewidth\": 0, \"ticks\": \"\"}}, \"marker\": {\"colorbar\": {\"outlinewidth\": 0, \"ticks\": \"\"}}, \"type\": \"scatter3d\"}], \"scattercarpet\": [{\"marker\": {\"colorbar\": {\"outlinewidth\": 0, \"ticks\": \"\"}}, \"type\": \"scattercarpet\"}], \"scattergeo\": [{\"marker\": {\"colorbar\": {\"outlinewidth\": 0, \"ticks\": \"\"}}, \"type\": \"scattergeo\"}], \"scattergl\": [{\"marker\": {\"colorbar\": {\"outlinewidth\": 0, \"ticks\": \"\"}}, \"type\": \"scattergl\"}], \"scattermapbox\": [{\"marker\": {\"colorbar\": {\"outlinewidth\": 0, \"ticks\": \"\"}}, \"type\": \"scattermapbox\"}], \"scatterpolar\": [{\"marker\": {\"colorbar\": {\"outlinewidth\": 0, \"ticks\": \"\"}}, \"type\": \"scatterpolar\"}], \"scatterpolargl\": [{\"marker\": {\"colorbar\": {\"outlinewidth\": 0, \"ticks\": \"\"}}, \"type\": \"scatterpolargl\"}], \"scatterternary\": [{\"marker\": {\"colorbar\": {\"outlinewidth\": 0, \"ticks\": \"\"}}, \"type\": \"scatterternary\"}], \"surface\": [{\"colorbar\": {\"outlinewidth\": 0, \"ticks\": \"\"}, \"colorscale\": [[0.0, \"#0d0887\"], [0.1111111111111111, \"#46039f\"], [0.2222222222222222, \"#7201a8\"], [0.3333333333333333, \"#9c179e\"], [0.4444444444444444, \"#bd3786\"], [0.5555555555555556, \"#d8576b\"], [0.6666666666666666, \"#ed7953\"], [0.7777777777777778, \"#fb9f3a\"], [0.8888888888888888, \"#fdca26\"], [1.0, \"#f0f921\"]], \"type\": \"surface\"}], \"table\": [{\"cells\": {\"fill\": {\"color\": \"#EBF0F8\"}, \"line\": {\"color\": \"white\"}}, \"header\": {\"fill\": {\"color\": \"#C8D4E3\"}, \"line\": {\"color\": \"white\"}}, \"type\": \"table\"}]}, \"layout\": {\"annotationdefaults\": {\"arrowcolor\": \"#2a3f5f\", \"arrowhead\": 0, \"arrowwidth\": 1}, \"autotypenumbers\": \"strict\", \"coloraxis\": {\"colorbar\": {\"outlinewidth\": 0, \"ticks\": \"\"}}, \"colorscale\": {\"diverging\": [[0, \"#8e0152\"], [0.1, \"#c51b7d\"], [0.2, \"#de77ae\"], [0.3, \"#f1b6da\"], [0.4, \"#fde0ef\"], [0.5, \"#f7f7f7\"], [0.6, \"#e6f5d0\"], [0.7, \"#b8e186\"], [0.8, \"#7fbc41\"], [0.9, \"#4d9221\"], [1, \"#276419\"]], \"sequential\": [[0.0, \"#0d0887\"], [0.1111111111111111, \"#46039f\"], [0.2222222222222222, \"#7201a8\"], [0.3333333333333333, \"#9c179e\"], [0.4444444444444444, \"#bd3786\"], [0.5555555555555556, \"#d8576b\"], [0.6666666666666666, \"#ed7953\"], [0.7777777777777778, \"#fb9f3a\"], [0.8888888888888888, \"#fdca26\"], [1.0, \"#f0f921\"]], \"sequentialminus\": [[0.0, \"#0d0887\"], [0.1111111111111111, \"#46039f\"], [0.2222222222222222, \"#7201a8\"], [0.3333333333333333, \"#9c179e\"], [0.4444444444444444, \"#bd3786\"], [0.5555555555555556, \"#d8576b\"], [0.6666666666666666, \"#ed7953\"], [0.7777777777777778, \"#fb9f3a\"], [0.8888888888888888, \"#fdca26\"], [1.0, \"#f0f921\"]]}, \"colorway\": [\"#636efa\", \"#EF553B\", \"#00cc96\", \"#ab63fa\", \"#FFA15A\", \"#19d3f3\", \"#FF6692\", \"#B6E880\", \"#FF97FF\", \"#FECB52\"], \"font\": {\"color\": \"#2a3f5f\"}, \"geo\": {\"bgcolor\": \"white\", \"lakecolor\": \"white\", \"landcolor\": \"#E5ECF6\", \"showlakes\": true, \"showland\": true, \"subunitcolor\": \"white\"}, \"hoverlabel\": {\"align\": \"left\"}, \"hovermode\": \"closest\", \"mapbox\": {\"style\": \"light\"}, \"paper_bgcolor\": \"white\", \"plot_bgcolor\": \"#E5ECF6\", \"polar\": {\"angularaxis\": {\"gridcolor\": \"white\", \"linecolor\": \"white\", \"ticks\": \"\"}, \"bgcolor\": \"#E5ECF6\", \"radialaxis\": {\"gridcolor\": \"white\", \"linecolor\": \"white\", \"ticks\": \"\"}}, \"scene\": {\"xaxis\": {\"backgroundcolor\": \"#E5ECF6\", \"gridcolor\": \"white\", \"gridwidth\": 2, \"linecolor\": \"white\", \"showbackground\": true, \"ticks\": \"\", \"zerolinecolor\": \"white\"}, \"yaxis\": {\"backgroundcolor\": \"#E5ECF6\", \"gridcolor\": \"white\", \"gridwidth\": 2, \"linecolor\": \"white\", \"showbackground\": true, \"ticks\": \"\", \"zerolinecolor\": \"white\"}, \"zaxis\": {\"backgroundcolor\": \"#E5ECF6\", \"gridcolor\": \"white\", \"gridwidth\": 2, \"linecolor\": \"white\", \"showbackground\": true, \"ticks\": \"\", \"zerolinecolor\": \"white\"}}, \"shapedefaults\": {\"line\": {\"color\": \"#2a3f5f\"}}, \"ternary\": {\"aaxis\": {\"gridcolor\": \"white\", \"linecolor\": \"white\", \"ticks\": \"\"}, \"baxis\": {\"gridcolor\": \"white\", \"linecolor\": \"white\", \"ticks\": \"\"}, \"bgcolor\": \"#E5ECF6\", \"caxis\": {\"gridcolor\": \"white\", \"linecolor\": \"white\", \"ticks\": \"\"}}, \"title\": {\"x\": 0.05}, \"xaxis\": {\"automargin\": true, \"gridcolor\": \"white\", \"linecolor\": \"white\", \"ticks\": \"\", \"title\": {\"standoff\": 15}, \"zerolinecolor\": \"white\", \"zerolinewidth\": 2}, \"yaxis\": {\"automargin\": true, \"gridcolor\": \"white\", \"linecolor\": \"white\", \"ticks\": \"\", \"title\": {\"standoff\": 15}, \"zerolinecolor\": \"white\", \"zerolinewidth\": 2}}}, \"title\": {\"font\": {\"color\": \"#4D5663\"}}, \"xaxis\": {\"gridcolor\": \"#E1E5ED\", \"showgrid\": true, \"tickfont\": {\"color\": \"#4D5663\"}, \"title\": {\"font\": {\"color\": \"#4D5663\"}, \"text\": \"Total_Bilirubin\"}, \"zerolinecolor\": \"#E1E5ED\"}, \"yaxis\": {\"gridcolor\": \"#E1E5ED\", \"showgrid\": true, \"tickfont\": {\"color\": \"#4D5663\"}, \"title\": {\"font\": {\"color\": \"#4D5663\"}, \"text\": \"Frequency\"}, \"zerolinecolor\": \"#E1E5ED\"}},                        {\"showLink\": true, \"linkText\": \"Export to plot.ly\", \"plotlyServerURL\": \"https://plot.ly\", \"responsive\": true}                    ).then(function(){\n",
       "                            \n",
       "var gd = document.getElementById('17f2e24d-90cf-4ac7-a2f7-622625b022f2');\n",
       "var x = new MutationObserver(function (mutations, observer) {{\n",
       "        var display = window.getComputedStyle(gd).display;\n",
       "        if (!display || display === 'none') {{\n",
       "            console.log([gd, 'removed!']);\n",
       "            Plotly.purge(gd);\n",
       "            observer.disconnect();\n",
       "        }}\n",
       "}});\n",
       "\n",
       "// Listen for the removal of the full notebook cells\n",
       "var notebookContainer = gd.closest('#notebook-container');\n",
       "if (notebookContainer) {{\n",
       "    x.observe(notebookContainer, {childList: true});\n",
       "}}\n",
       "\n",
       "// Listen for the clearing of the current output cell\n",
       "var outputEl = gd.closest('.output');\n",
       "if (outputEl) {{\n",
       "    x.observe(outputEl, {childList: true});\n",
       "}}\n",
       "\n",
       "                        })                };                });            </script>        </div>"
      ]
     },
     "metadata": {},
     "output_type": "display_data"
    }
   ],
   "source": [
    "df['Total_Bilirubin'].iplot(kind = 'hist', color = 'red', xTitle = 'Total_Bilirubin', yTitle = 'Frequency')"
   ]
  },
  {
   "cell_type": "markdown",
   "metadata": {
    "papermill": {
     "duration": 0.08242,
     "end_time": "2021-03-01T01:26:23.826846",
     "exception": false,
     "start_time": "2021-03-01T01:26:23.744426",
     "status": "completed"
    },
    "tags": []
   },
   "source": [
    "Most values of Total Bilirubin are in the range [0,5]. From the graph above this feature seems to have some outliers. "
   ]
  },
  {
   "cell_type": "code",
   "execution_count": 40,
   "metadata": {
    "execution": {
     "iopub.execute_input": "2021-03-01T01:26:23.999373Z",
     "iopub.status.busy": "2021-03-01T01:26:23.998344Z",
     "iopub.status.idle": "2021-03-01T01:26:24.229539Z",
     "shell.execute_reply": "2021-03-01T01:26:24.228920Z"
    },
    "papermill": {
     "duration": 0.322055,
     "end_time": "2021-03-01T01:26:24.229691",
     "exception": false,
     "start_time": "2021-03-01T01:26:23.907636",
     "status": "completed"
    },
    "tags": []
   },
   "outputs": [
    {
     "data": {
      "image/png": "[encoded data removed]",
      "text/plain": [
       "<Figure size 720x432 with 1 Axes>"
      ]
     },
     "metadata": {
      "needs_background": "light"
     },
     "output_type": "display_data"
    }
   ],
   "source": [
    "plt.figure(figsize = (10,6))\n",
    "sns.boxplot(x = 'Gender', y = 'Total_Bilirubin',hue = 'liver_disease', data = df, palette = 'Set3')\n",
    "plt.ylim(0,40)\n",
    "plt.show()"
   ]
  },
  {
   "cell_type": "markdown",
   "metadata": {
    "papermill": {
     "duration": 0.081484,
     "end_time": "2021-03-01T01:26:24.393945",
     "exception": false,
     "start_time": "2021-03-01T01:26:24.312461",
     "status": "completed"
    },
    "tags": []
   },
   "source": [
    "The concentration of Total Bilirubin in the blood is higher in males (especially in ill men) than in women. Also, there are outliers, mainly on positive cases."
   ]
  },
  {
   "cell_type": "markdown",
   "metadata": {
    "papermill": {
     "duration": 0.081489,
     "end_time": "2021-03-01T01:26:24.558327",
     "exception": false,
     "start_time": "2021-03-01T01:26:24.476838",
     "status": "completed"
    },
    "tags": []
   },
   "source": [
    "## Correlation between Total Bilirubin & Direct Bilirubin\n",
    "Direct Bilirubin is part of Total Bilirubin so we suppose that they are not independent."
   ]
  },
  {
   "cell_type": "code",
   "execution_count": 41,
   "metadata": {
    "execution": {
     "iopub.execute_input": "2021-03-01T01:26:24.746473Z",
     "iopub.status.busy": "2021-03-01T01:26:24.745416Z",
     "iopub.status.idle": "2021-03-01T01:26:25.230462Z",
     "shell.execute_reply": "2021-03-01T01:26:25.229793Z"
    },
    "papermill": {
     "duration": 0.588907,
     "end_time": "2021-03-01T01:26:25.230618",
     "exception": false,
     "start_time": "2021-03-01T01:26:24.641711",
     "status": "completed"
    },
    "tags": []
   },
   "outputs": [
    {
     "data": {
      "image/png": "[encoded data removed]",
      "text/plain": [
       "<Figure size 360x360 with 1 Axes>"
      ]
     },
     "metadata": {},
     "output_type": "display_data"
    }
   ],
   "source": [
    "sns.set_theme()\n",
    "sns.lmplot(x='Direct_Bilirubin',y='Total_Bilirubin',data=df)\n",
    "plt.title('Corellation between Total Bilirubin & Direct Bilirubin')\n",
    "plt.show()"
   ]
  },
  {
   "cell_type": "code",
   "execution_count": 42,
   "metadata": {
    "execution": {
     "iopub.execute_input": "2021-03-01T01:26:25.404837Z",
     "iopub.status.busy": "2021-03-01T01:26:25.403936Z",
     "iopub.status.idle": "2021-03-01T01:26:25.407889Z",
     "shell.execute_reply": "2021-03-01T01:26:25.407265Z"
    },
    "papermill": {
     "duration": 0.093619,
     "end_time": "2021-03-01T01:26:25.408044",
     "exception": false,
     "start_time": "2021-03-01T01:26:25.314425",
     "status": "completed"
    },
    "tags": []
   },
   "outputs": [
    {
     "name": "stdout",
     "output_type": "stream",
     "text": [
      "Pearsons correlation between Total Bilirubin & Direct Bilirubin: 0.875 and p-value: 7.873553178026405e-185\n"
     ]
    }
   ],
   "source": [
    "corr, p_value = pearsonr(df['Total_Bilirubin'], df['Direct_Bilirubin']) \n",
    "print('Pearsons correlation between Total Bilirubin & Direct Bilirubin: %.3f' % corr +' and p-value: {}'.format(p_value) ) "
   ]
  },
  {
   "cell_type": "markdown",
   "metadata": {
    "papermill": {
     "duration": 0.086752,
     "end_time": "2021-03-01T01:26:25.579152",
     "exception": false,
     "start_time": "2021-03-01T01:26:25.492400",
     "status": "completed"
    },
    "tags": []
   },
   "source": [
    "There is a positive, strong correlation between these two features of our dataset. We can confirm it by taking into consideration pearson's correlation(about 87.5%) and p-value which is <<0.001.\n",
    "### Alamine Aminotransferase & Aspartate Aminotransferase\n",
    "\n",
    "Aspartate Aminotransferase (AST), is a pyridoxal phosphate (PLP)-dependent transaminase enzyme. AST is found in the liver, heart, skeletal muscle, kidneys, brain, and red blood cells. Serum AST level, serum ALT (alanine transaminase) level, and their ratio (AST/ALT ratio) are commonly measured clinically as biomarkers for liver health [[2]](https://gpnotebook.com/simplepage.cfm?ID=322240579).\n",
    "\n",
    "Aspartate Aminotransferase\n",
    "\n",
    "* female 6-34 IU/L\n",
    "\n",
    "* male 8-40 IU/L\n",
    "\n"
   ]
  },
  {
   "cell_type": "code",
   "execution_count": 43,
   "metadata": {
    "execution": {
     "iopub.execute_input": "2021-03-01T01:26:25.754135Z",
     "iopub.status.busy": "2021-03-01T01:26:25.753318Z",
     "iopub.status.idle": "2021-03-01T01:26:25.811568Z",
     "shell.execute_reply": "2021-03-01T01:26:25.812120Z"
    },
    "papermill": {
     "duration": 0.148554,
     "end_time": "2021-03-01T01:26:25.812301",
     "exception": false,
     "start_time": "2021-03-01T01:26:25.663747",
     "status": "completed"
    },
    "tags": []
   },
   "outputs": [
    {
     "data": {
      "application/vnd.plotly.v1+json": {
       "config": {
        "linkText": "Export to plot.ly",
        "plotlyServerURL": "https://plot.ly",
        "showLink": true
       },
       "data": [
        {
         "histfunc": "count",
         "histnorm": "",
         "marker": {
          "color": "rgba(219, 64, 82, 1.0)",
          "line": {
           "color": "#4D5663",
           "width": 1.3
          }
         },
         "name": "Alamine_Aminotransferase",
         "opacity": 0.8,
         "orientation": "v",
         "type": "histogram",
         "x": [
          16,
          64,
          60,
          14,
          27,
          19,
          16,
          14,
          22,
          53,
          51,
          31,
          61,
          22,
          53,
          91,
          168,
          15,
          232,
          232,
          17,
          22,
          116,
          16,
          52,
          875,
          875,
          1680,
          20,
          13,
          45,
          35,
          19,
          59,
          59,
          102,
          18,
          38,
          38,
          123,
          33,
          42,
          25,
          407,
          17,
          48,
          36,
          1630,
          39,
          64,
          21,
          15,
          80,
          86,
          31,
          31,
          26,
          24,
          42,
          20,
          21,
          37,
          37,
          35,
          40,
          62,
          55,
          53,
          27,
          24,
          166,
          20,
          27,
          22,
          20,
          52,
          189,
          95,
          12,
          48,
          60,
          25,
          14,
          194,
          45,
          58,
          28,
          33,
          33,
          119,
          412,
          404,
          412,
          220,
          126,
          25,
          102,
          190,
          97,
          308,
          27,
          21,
          36,
          14,
          21,
          32,
          32,
          29,
          29,
          25,
          11,
          33,
          63,
          24,
          181,
          88,
          74,
          2000,
          1350,
          1250,
          482,
          322,
          60,
          17,
          36,
          45,
          133,
          46,
          61,
          57,
          50,
          18,
          34,
          17,
          35,
          1250,
          62,
          72,
          72,
          25,
          20,
          15,
          84,
          84,
          63,
          18,
          21,
          20,
          20,
          21,
          30,
          18,
          20,
          26,
          45,
          58,
          70,
          20,
          20,
          36,
          140,
          99,
          43,
          42,
          42,
          13,
          40,
          64,
          53,
          33,
          28,
          378,
          35,
          48,
          48,
          43,
          112,
          71,
          37,
          30,
          23,
          33,
          36,
          20,
          18,
          60,
          79,
          114,
          42,
          32,
          118,
          107,
          79,
          30,
          48,
          30,
          52,
          12,
          22,
          790,
          50,
          50,
          19,
          27,
          27,
          28,
          50,
          950,
          53,
          23,
          20,
          60,
          82,
          25,
          18,
          17,
          36,
          30,
          38,
          41,
          27,
          38,
          40,
          20,
          56,
          45,
          38,
          18,
          26,
          26,
          61,
          85,
          149,
          48,
          32,
          230,
          57,
          20,
          40,
          69,
          32,
          24,
          30,
          25,
          20,
          15,
          22,
          25,
          37,
          28,
          38,
          37,
          48,
          12,
          90,
          89,
          23,
          148,
          31,
          65,
          56,
          205,
          55,
          25,
          55,
          30,
          38,
          12,
          50,
          15,
          96,
          152,
          390,
          15,
          25,
          22,
          25,
          45,
          25,
          18,
          56,
          18,
          12,
          10,
          30,
          29,
          15,
          15,
          16,
          120,
          48,
          32,
          22,
          37,
          25,
          78,
          16,
          24,
          26,
          40,
          32,
          21,
          28,
          18,
          21,
          36,
          74,
          21,
          22,
          178,
          48,
          43,
          25,
          25,
          24,
          18,
          29,
          42,
          179,
          21,
          31,
          30,
          36,
          47,
          42,
          27,
          160,
          11,
          29,
          14,
          54,
          62,
          80,
          21,
          17,
          24,
          198,
          85,
          79,
          50,
          44,
          70,
          36,
          40,
          60,
          32,
          14,
          349,
          19,
          19,
          62,
          41,
          36,
          110,
          25,
          13,
          21,
          50,
          28,
          42,
          47,
          23,
          21,
          26,
          33,
          28,
          28,
          45,
          22,
          24,
          30,
          30,
          29,
          32,
          26,
          32,
          35,
          12,
          20,
          16,
          36,
          28,
          27,
          10,
          115,
          29,
          25,
          34,
          31,
          31,
          23,
          25,
          94,
          142,
          37,
          24,
          30,
          28,
          25,
          137,
          24,
          44,
          155,
          19,
          20,
          15,
          18,
          157,
          141,
          284,
          440,
          28,
          33,
          15,
          28,
          93,
          76,
          26,
          69,
          52,
          48,
          48,
          34,
          44,
          12,
          59,
          49,
          33,
          10,
          102,
          20,
          10,
          55,
          31,
          32,
          28,
          41,
          15,
          30,
          25,
          23,
          29,
          52,
          35,
          18,
          40,
          35,
          425,
          26,
          26,
          50,
          20,
          25,
          40,
          15,
          25,
          22,
          28,
          37,
          16,
          159,
          55,
          22,
          23,
          21,
          23,
          22,
          18,
          30,
          22,
          13,
          17,
          64,
          38,
          33,
          119,
          15,
          24,
          622,
          779,
          28,
          132,
          91,
          46,
          18,
          154,
          18,
          102,
          31,
          17,
          96,
          56,
          133,
          30,
          196,
          31,
          52,
          42,
          18,
          40,
          62,
          28,
          29,
          39,
          39,
          95,
          43,
          190,
          119,
          140,
          31,
          37,
          22,
          32,
          48,
          65,
          16,
          50,
          74,
          168,
          69,
          14,
          24,
          15,
          12,
          35,
          21,
          68,
          12,
          54,
          14,
          110,
          12,
          509,
          88,
          46,
          67,
          25,
          85,
          24,
          21,
          29,
          46,
          23,
          67,
          41,
          47,
          39,
          60,
          74,
          25,
          20,
          29,
          58,
          20,
          139,
          25,
          80,
          382,
          75,
          321,
          233,
          173,
          31,
          22,
          22,
          22,
          20,
          91,
          213,
          131,
          46,
          54,
          50,
          48,
          41,
          58,
          28,
          20,
          35,
          48,
          29,
          21
         ]
        }
       ],
       "layout": {
        "barmode": "overlay",
        "legend": {
         "bgcolor": "#F5F6F9",
         "font": {
          "color": "#4D5663"
         }
        },
        "paper_bgcolor": "#F5F6F9",
        "plot_bgcolor": "#F5F6F9",
        "template": {
         "data": {
          "bar": [
           {
            "error_x": {
             "color": "#2a3f5f"
            },
            "error_y": {
             "color": "#2a3f5f"
            },
            "marker": {
             "line": {
              "color": "#E5ECF6",
              "width": 0.5
             }
            },
            "type": "bar"
           }
          ],
          "barpolar": [
           {
            "marker": {
             "line": {
              "color": "#E5ECF6",
              "width": 0.5
             }
            },
            "type": "barpolar"
           }
          ],
          "carpet": [
           {
            "aaxis": {
             "endlinecolor": "#2a3f5f",
             "gridcolor": "white",
             "linecolor": "white",
             "minorgridcolor": "white",
             "startlinecolor": "#2a3f5f"
            },
            "baxis": {
             "endlinecolor": "#2a3f5f",
             "gridcolor": "white",
             "linecolor": "white",
             "minorgridcolor": "white",
             "startlinecolor": "#2a3f5f"
            },
            "type": "carpet"
           }
          ],
          "choropleth": [
           {
            "colorbar": {
             "outlinewidth": 0,
             "ticks": ""
            },
            "type": "choropleth"
           }
          ],
          "contour": [
           {
            "colorbar": {
             "outlinewidth": 0,
             "ticks": ""
            },
            "colorscale": [
             [
              0.0,
              "#0d0887"
             ],
             [
              0.1111111111111111,
              "#46039f"
             ],
             [
              0.2222222222222222,
              "#7201a8"
             ],
             [
              0.3333333333333333,
              "#9c179e"
             ],
             [
              0.4444444444444444,
              "#bd3786"
             ],
             [
              0.5555555555555556,
              "#d8576b"
             ],
             [
              0.6666666666666666,
              "#ed7953"
             ],
             [
              0.7777777777777778,
              "#fb9f3a"
             ],
             [
              0.8888888888888888,
              "#fdca26"
             ],
             [
              1.0,
              "#f0f921"
             ]
            ],
            "type": "contour"
           }
          ],
          "contourcarpet": [
           {
            "colorbar": {
             "outlinewidth": 0,
             "ticks": ""
            },
            "type": "contourcarpet"
           }
          ],
          "heatmap": [
           {
            "colorbar": {
             "outlinewidth": 0,
             "ticks": ""
            },
            "colorscale": [
             [
              0.0,
              "#0d0887"
             ],
             [
              0.1111111111111111,
              "#46039f"
             ],
             [
              0.2222222222222222,
              "#7201a8"
             ],
             [
              0.3333333333333333,
              "#9c179e"
             ],
             [
              0.4444444444444444,
              "#bd3786"
             ],
             [
              0.5555555555555556,
              "#d8576b"
             ],
             [
              0.6666666666666666,
              "#ed7953"
             ],
             [
              0.7777777777777778,
              "#fb9f3a"
             ],
             [
              0.8888888888888888,
              "#fdca26"
             ],
             [
              1.0,
              "#f0f921"
             ]
            ],
            "type": "heatmap"
           }
          ],
          "heatmapgl": [
           {
            "colorbar": {
             "outlinewidth": 0,
             "ticks": ""
            },
            "colorscale": [
             [
              0.0,
              "#0d0887"
             ],
             [
              0.1111111111111111,
              "#46039f"
             ],
             [
              0.2222222222222222,
              "#7201a8"
             ],
             [
              0.3333333333333333,
              "#9c179e"
             ],
             [
              0.4444444444444444,
              "#bd3786"
             ],
             [
              0.5555555555555556,
              "#d8576b"
             ],
             [
              0.6666666666666666,
              "#ed7953"
             ],
             [
              0.7777777777777778,
              "#fb9f3a"
             ],
             [
              0.8888888888888888,
              "#fdca26"
             ],
             [
              1.0,
              "#f0f921"
             ]
            ],
            "type": "heatmapgl"
           }
          ],
          "histogram": [
           {
            "marker": {
             "colorbar": {
              "outlinewidth": 0,
              "ticks": ""
             }
            },
            "type": "histogram"
           }
          ],
          "histogram2d": [
           {
            "colorbar": {
             "outlinewidth": 0,
             "ticks": ""
            },
            "colorscale": [
             [
              0.0,
              "#0d0887"
             ],
             [
              0.1111111111111111,
              "#46039f"
             ],
             [
              0.2222222222222222,
              "#7201a8"
             ],
             [
              0.3333333333333333,
              "#9c179e"
             ],
             [
              0.4444444444444444,
              "#bd3786"
             ],
             [
              0.5555555555555556,
              "#d8576b"
             ],
             [
              0.6666666666666666,
              "#ed7953"
             ],
             [
              0.7777777777777778,
              "#fb9f3a"
             ],
             [
              0.8888888888888888,
              "#fdca26"
             ],
             [
              1.0,
              "#f0f921"
             ]
            ],
            "type": "histogram2d"
           }
          ],
          "histogram2dcontour": [
           {
            "colorbar": {
             "outlinewidth": 0,
             "ticks": ""
            },
            "colorscale": [
             [
              0.0,
              "#0d0887"
             ],
             [
              0.1111111111111111,
              "#46039f"
             ],
             [
              0.2222222222222222,
              "#7201a8"
             ],
             [
              0.3333333333333333,
              "#9c179e"
             ],
             [
              0.4444444444444444,
              "#bd3786"
             ],
             [
              0.5555555555555556,
              "#d8576b"
             ],
             [
              0.6666666666666666,
              "#ed7953"
             ],
             [
              0.7777777777777778,
              "#fb9f3a"
             ],
             [
              0.8888888888888888,
              "#fdca26"
             ],
             [
              1.0,
              "#f0f921"
             ]
            ],
            "type": "histogram2dcontour"
           }
          ],
          "mesh3d": [
           {
            "colorbar": {
             "outlinewidth": 0,
             "ticks": ""
            },
            "type": "mesh3d"
           }
          ],
          "parcoords": [
           {
            "line": {
             "colorbar": {
              "outlinewidth": 0,
              "ticks": ""
             }
            },
            "type": "parcoords"
           }
          ],
          "pie": [
           {
            "automargin": true,
            "type": "pie"
           }
          ],
          "scatter": [
           {
            "marker": {
             "colorbar": {
              "outlinewidth": 0,
              "ticks": ""
             }
            },
            "type": "scatter"
           }
          ],
          "scatter3d": [
           {
            "line": {
             "colorbar": {
              "outlinewidth": 0,
              "ticks": ""
             }
            },
            "marker": {
             "colorbar": {
              "outlinewidth": 0,
              "ticks": ""
             }
            },
            "type": "scatter3d"
           }
          ],
          "scattercarpet": [
           {
            "marker": {
             "colorbar": {
              "outlinewidth": 0,
              "ticks": ""
             }
            },
            "type": "scattercarpet"
           }
          ],
          "scattergeo": [
           {
            "marker": {
             "colorbar": {
              "outlinewidth": 0,
              "ticks": ""
             }
            },
            "type": "scattergeo"
           }
          ],
          "scattergl": [
           {
            "marker": {
             "colorbar": {
              "outlinewidth": 0,
              "ticks": ""
             }
            },
            "type": "scattergl"
           }
          ],
          "scattermapbox": [
           {
            "marker": {
             "colorbar": {
              "outlinewidth": 0,
              "ticks": ""
             }
            },
            "type": "scattermapbox"
           }
          ],
          "scatterpolar": [
           {
            "marker": {
             "colorbar": {
              "outlinewidth": 0,
              "ticks": ""
             }
            },
            "type": "scatterpolar"
           }
          ],
          "scatterpolargl": [
           {
            "marker": {
             "colorbar": {
              "outlinewidth": 0,
              "ticks": ""
             }
            },
            "type": "scatterpolargl"
           }
          ],
          "scatterternary": [
           {
            "marker": {
             "colorbar": {
              "outlinewidth": 0,
              "ticks": ""
             }
            },
            "type": "scatterternary"
           }
          ],
          "surface": [
           {
            "colorbar": {
             "outlinewidth": 0,
             "ticks": ""
            },
            "colorscale": [
             [
              0.0,
              "#0d0887"
             ],
             [
              0.1111111111111111,
              "#46039f"
             ],
             [
              0.2222222222222222,
              "#7201a8"
             ],
             [
              0.3333333333333333,
              "#9c179e"
             ],
             [
              0.4444444444444444,
              "#bd3786"
             ],
             [
              0.5555555555555556,
              "#d8576b"
             ],
             [
              0.6666666666666666,
              "#ed7953"
             ],
             [
              0.7777777777777778,
              "#fb9f3a"
             ],
             [
              0.8888888888888888,
              "#fdca26"
             ],
             [
              1.0,
              "#f0f921"
             ]
            ],
            "type": "surface"
           }
          ],
          "table": [
           {
            "cells": {
             "fill": {
              "color": "#EBF0F8"
             },
             "line": {
              "color": "white"
             }
            },
            "header": {
             "fill": {
              "color": "#C8D4E3"
             },
             "line": {
              "color": "white"
             }
            },
            "type": "table"
           }
          ]
         },
         "layout": {
          "annotationdefaults": {
           "arrowcolor": "#2a3f5f",
           "arrowhead": 0,
           "arrowwidth": 1
          },
          "autotypenumbers": "strict",
          "coloraxis": {
           "colorbar": {
            "outlinewidth": 0,
            "ticks": ""
           }
          },
          "colorscale": {
           "diverging": [
            [
             0,
             "#8e0152"
            ],
            [
             0.1,
             "#c51b7d"
            ],
            [
             0.2,
             "#de77ae"
            ],
            [
             0.3,
             "#f1b6da"
            ],
            [
             0.4,
             "#fde0ef"
            ],
            [
             0.5,
             "#f7f7f7"
            ],
            [
             0.6,
             "#e6f5d0"
            ],
            [
             0.7,
             "#b8e186"
            ],
            [
             0.8,
             "#7fbc41"
            ],
            [
             0.9,
             "#4d9221"
            ],
            [
             1,
             "#276419"
            ]
           ],
           "sequential": [
            [
             0.0,
             "#0d0887"
            ],
            [
             0.1111111111111111,
             "#46039f"
            ],
            [
             0.2222222222222222,
             "#7201a8"
            ],
            [
             0.3333333333333333,
             "#9c179e"
            ],
            [
             0.4444444444444444,
             "#bd3786"
            ],
            [
             0.5555555555555556,
             "#d8576b"
            ],
            [
             0.6666666666666666,
             "#ed7953"
            ],
            [
             0.7777777777777778,
             "#fb9f3a"
            ],
            [
             0.8888888888888888,
             "#fdca26"
            ],
            [
             1.0,
             "#f0f921"
            ]
           ],
           "sequentialminus": [
            [
             0.0,
             "#0d0887"
            ],
            [
             0.1111111111111111,
             "#46039f"
            ],
            [
             0.2222222222222222,
             "#7201a8"
            ],
            [
             0.3333333333333333,
             "#9c179e"
            ],
            [
             0.4444444444444444,
             "#bd3786"
            ],
            [
             0.5555555555555556,
             "#d8576b"
            ],
            [
             0.6666666666666666,
             "#ed7953"
            ],
            [
             0.7777777777777778,
             "#fb9f3a"
            ],
            [
             0.8888888888888888,
             "#fdca26"
            ],
            [
             1.0,
             "#f0f921"
            ]
           ]
          },
          "colorway": [
           "#636efa",
           "#EF553B",
           "#00cc96",
           "#ab63fa",
           "#FFA15A",
           "#19d3f3",
           "#FF6692",
           "#B6E880",
           "#FF97FF",
           "#FECB52"
          ],
          "font": {
           "color": "#2a3f5f"
          },
          "geo": {
           "bgcolor": "white",
           "lakecolor": "white",
           "landcolor": "#E5ECF6",
           "showlakes": true,
           "showland": true,
           "subunitcolor": "white"
          },
          "hoverlabel": {
           "align": "left"
          },
          "hovermode": "closest",
          "mapbox": {
           "style": "light"
          },
          "paper_bgcolor": "white",
          "plot_bgcolor": "#E5ECF6",
          "polar": {
           "angularaxis": {
            "gridcolor": "white",
            "linecolor": "white",
            "ticks": ""
           },
           "bgcolor": "#E5ECF6",
           "radialaxis": {
            "gridcolor": "white",
            "linecolor": "white",
            "ticks": ""
           }
          },
          "scene": {
           "xaxis": {
            "backgroundcolor": "#E5ECF6",
            "gridcolor": "white",
            "gridwidth": 2,
            "linecolor": "white",
            "showbackground": true,
            "ticks": "",
            "zerolinecolor": "white"
           },
           "yaxis": {
            "backgroundcolor": "#E5ECF6",
            "gridcolor": "white",
            "gridwidth": 2,
            "linecolor": "white",
            "showbackground": true,
            "ticks": "",
            "zerolinecolor": "white"
           },
           "zaxis": {
            "backgroundcolor": "#E5ECF6",
            "gridcolor": "white",
            "gridwidth": 2,
            "linecolor": "white",
            "showbackground": true,
            "ticks": "",
            "zerolinecolor": "white"
           }
          },
          "shapedefaults": {
           "line": {
            "color": "#2a3f5f"
           }
          },
          "ternary": {
           "aaxis": {
            "gridcolor": "white",
            "linecolor": "white",
            "ticks": ""
           },
           "baxis": {
            "gridcolor": "white",
            "linecolor": "white",
            "ticks": ""
           },
           "bgcolor": "#E5ECF6",
           "caxis": {
            "gridcolor": "white",
            "linecolor": "white",
            "ticks": ""
           }
          },
          "title": {
           "x": 0.05
          },
          "xaxis": {
           "automargin": true,
           "gridcolor": "white",
           "linecolor": "white",
           "ticks": "",
           "title": {
            "standoff": 15
           },
           "zerolinecolor": "white",
           "zerolinewidth": 2
          },
          "yaxis": {
           "automargin": true,
           "gridcolor": "white",
           "linecolor": "white",
           "ticks": "",
           "title": {
            "standoff": 15
           },
           "zerolinecolor": "white",
           "zerolinewidth": 2
          }
         }
        },
        "title": {
         "font": {
          "color": "#4D5663"
         },
         "text": "Distribution of enzyme Alamine_Aminotransferase"
        },
        "xaxis": {
         "gridcolor": "#E1E5ED",
         "showgrid": true,
         "tickfont": {
          "color": "#4D5663"
         },
         "title": {
          "font": {
           "color": "#4D5663"
          },
          "text": "Alamine_Aminotransferase"
         },
         "zerolinecolor": "#E1E5ED"
        },
        "yaxis": {
         "gridcolor": "#E1E5ED",
         "showgrid": true,
         "tickfont": {
          "color": "#4D5663"
         },
         "title": {
          "font": {
           "color": "#4D5663"
          },
          "text": "Frequency"
         },
         "zerolinecolor": "#E1E5ED"
        }
       }
      },
      "text/html": [
       "<div>                            <div id=\"53bfe0c8-89b8-4a3a-9b36-d109f4553285\" class=\"plotly-graph-div\" style=\"height:525px; width:100%;\"></div>            <script type=\"text/javascript\">                require([\"plotly\"], function(Plotly) {                    window.PLOTLYENV=window.PLOTLYENV || {};\n",
       "                    window.PLOTLYENV.BASE_URL='https://plot.ly';                                    if (document.getElementById(\"53bfe0c8-89b8-4a3a-9b36-d109f4553285\")) {                    Plotly.newPlot(                        \"53bfe0c8-89b8-4a3a-9b36-d109f4553285\",                        [{\"histfunc\": \"count\", \"histnorm\": \"\", \"marker\": {\"color\": \"rgba(219, 64, 82, 1.0)\", \"line\": {\"color\": \"#4D5663\", \"width\": 1.3}}, \"name\": \"Alamine_Aminotransferase\", \"opacity\": 0.8, \"orientation\": \"v\", \"type\": \"histogram\", \"x\": [16, 64, 60, 14, 27, 19, 16, 14, 22, 53, 51, 31, 61, 22, 53, 91, 168, 15, 232, 232, 17, 22, 116, 16, 52, 875, 875, 1680, 20, 13, 45, 35, 19, 59, 59, 102, 18, 38, 38, 123, 33, 42, 25, 407, 17, 48, 36, 1630, 39, 64, 21, 15, 80, 86, 31, 31, 26, 24, 42, 20, 21, 37, 37, 35, 40, 62, 55, 53, 27, 24, 166, 20, 27, 22, 20, 52, 189, 95, 12, 48, 60, 25, 14, 194, 45, 58, 28, 33, 33, 119, 412, 404, 412, 220, 126, 25, 102, 190, 97, 308, 27, 21, 36, 14, 21, 32, 32, 29, 29, 25, 11, 33, 63, 24, 181, 88, 74, 2000, 1350, 1250, 482, 322, 60, 17, 36, 45, 133, 46, 61, 57, 50, 18, 34, 17, 35, 1250, 62, 72, 72, 25, 20, 15, 84, 84, 63, 18, 21, 20, 20, 21, 30, 18, 20, 26, 45, 58, 70, 20, 20, 36, 140, 99, 43, 42, 42, 13, 40, 64, 53, 33, 28, 378, 35, 48, 48, 43, 112, 71, 37, 30, 23, 33, 36, 20, 18, 60, 79, 114, 42, 32, 118, 107, 79, 30, 48, 30, 52, 12, 22, 790, 50, 50, 19, 27, 27, 28, 50, 950, 53, 23, 20, 60, 82, 25, 18, 17, 36, 30, 38, 41, 27, 38, 40, 20, 56, 45, 38, 18, 26, 26, 61, 85, 149, 48, 32, 230, 57, 20, 40, 69, 32, 24, 30, 25, 20, 15, 22, 25, 37, 28, 38, 37, 48, 12, 90, 89, 23, 148, 31, 65, 56, 205, 55, 25, 55, 30, 38, 12, 50, 15, 96, 152, 390, 15, 25, 22, 25, 45, 25, 18, 56, 18, 12, 10, 30, 29, 15, 15, 16, 120, 48, 32, 22, 37, 25, 78, 16, 24, 26, 40, 32, 21, 28, 18, 21, 36, 74, 21, 22, 178, 48, 43, 25, 25, 24, 18, 29, 42, 179, 21, 31, 30, 36, 47, 42, 27, 160, 11, 29, 14, 54, 62, 80, 21, 17, 24, 198, 85, 79, 50, 44, 70, 36, 40, 60, 32, 14, 349, 19, 19, 62, 41, 36, 110, 25, 13, 21, 50, 28, 42, 47, 23, 21, 26, 33, 28, 28, 45, 22, 24, 30, 30, 29, 32, 26, 32, 35, 12, 20, 16, 36, 28, 27, 10, 115, 29, 25, 34, 31, 31, 23, 25, 94, 142, 37, 24, 30, 28, 25, 137, 24, 44, 155, 19, 20, 15, 18, 157, 141, 284, 440, 28, 33, 15, 28, 93, 76, 26, 69, 52, 48, 48, 34, 44, 12, 59, 49, 33, 10, 102, 20, 10, 55, 31, 32, 28, 41, 15, 30, 25, 23, 29, 52, 35, 18, 40, 35, 425, 26, 26, 50, 20, 25, 40, 15, 25, 22, 28, 37, 16, 159, 55, 22, 23, 21, 23, 22, 18, 30, 22, 13, 17, 64, 38, 33, 119, 15, 24, 622, 779, 28, 132, 91, 46, 18, 154, 18, 102, 31, 17, 96, 56, 133, 30, 196, 31, 52, 42, 18, 40, 62, 28, 29, 39, 39, 95, 43, 190, 119, 140, 31, 37, 22, 32, 48, 65, 16, 50, 74, 168, 69, 14, 24, 15, 12, 35, 21, 68, 12, 54, 14, 110, 12, 509, 88, 46, 67, 25, 85, 24, 21, 29, 46, 23, 67, 41, 47, 39, 60, 74, 25, 20, 29, 58, 20, 139, 25, 80, 382, 75, 321, 233, 173, 31, 22, 22, 22, 20, 91, 213, 131, 46, 54, 50, 48, 41, 58, 28, 20, 35, 48, 29, 21]}],                        {\"barmode\": \"overlay\", \"legend\": {\"bgcolor\": \"#F5F6F9\", \"font\": {\"color\": \"#4D5663\"}}, \"paper_bgcolor\": \"#F5F6F9\", \"plot_bgcolor\": \"#F5F6F9\", \"template\": {\"data\": {\"bar\": [{\"error_x\": {\"color\": \"#2a3f5f\"}, \"error_y\": {\"color\": \"#2a3f5f\"}, \"marker\": {\"line\": {\"color\": \"#E5ECF6\", \"width\": 0.5}}, \"type\": \"bar\"}], \"barpolar\": [{\"marker\": {\"line\": {\"color\": \"#E5ECF6\", \"width\": 0.5}}, \"type\": \"barpolar\"}], \"carpet\": [{\"aaxis\": {\"endlinecolor\": \"#2a3f5f\", \"gridcolor\": \"white\", \"linecolor\": \"white\", \"minorgridcolor\": \"white\", \"startlinecolor\": \"#2a3f5f\"}, \"baxis\": {\"endlinecolor\": \"#2a3f5f\", \"gridcolor\": \"white\", \"linecolor\": \"white\", \"minorgridcolor\": \"white\", \"startlinecolor\": \"#2a3f5f\"}, \"type\": \"carpet\"}], \"choropleth\": [{\"colorbar\": {\"outlinewidth\": 0, \"ticks\": \"\"}, \"type\": \"choropleth\"}], \"contour\": [{\"colorbar\": {\"outlinewidth\": 0, \"ticks\": \"\"}, \"colorscale\": [[0.0, \"#0d0887\"], [0.1111111111111111, \"#46039f\"], [0.2222222222222222, \"#7201a8\"], [0.3333333333333333, \"#9c179e\"], [0.4444444444444444, \"#bd3786\"], [0.5555555555555556, \"#d8576b\"], [0.6666666666666666, \"#ed7953\"], [0.7777777777777778, \"#fb9f3a\"], [0.8888888888888888, \"#fdca26\"], [1.0, \"#f0f921\"]], \"type\": \"contour\"}], \"contourcarpet\": [{\"colorbar\": {\"outlinewidth\": 0, \"ticks\": \"\"}, \"type\": \"contourcarpet\"}], \"heatmap\": [{\"colorbar\": {\"outlinewidth\": 0, \"ticks\": \"\"}, \"colorscale\": [[0.0, \"#0d0887\"], [0.1111111111111111, \"#46039f\"], [0.2222222222222222, \"#7201a8\"], [0.3333333333333333, \"#9c179e\"], [0.4444444444444444, \"#bd3786\"], [0.5555555555555556, \"#d8576b\"], [0.6666666666666666, \"#ed7953\"], [0.7777777777777778, \"#fb9f3a\"], [0.8888888888888888, \"#fdca26\"], [1.0, \"#f0f921\"]], \"type\": \"heatmap\"}], \"heatmapgl\": [{\"colorbar\": {\"outlinewidth\": 0, \"ticks\": \"\"}, \"colorscale\": [[0.0, \"#0d0887\"], [0.1111111111111111, \"#46039f\"], [0.2222222222222222, \"#7201a8\"], [0.3333333333333333, \"#9c179e\"], [0.4444444444444444, \"#bd3786\"], [0.5555555555555556, \"#d8576b\"], [0.6666666666666666, \"#ed7953\"], [0.7777777777777778, \"#fb9f3a\"], [0.8888888888888888, \"#fdca26\"], [1.0, \"#f0f921\"]], \"type\": \"heatmapgl\"}], \"histogram\": [{\"marker\": {\"colorbar\": {\"outlinewidth\": 0, \"ticks\": \"\"}}, \"type\": \"histogram\"}], \"histogram2d\": [{\"colorbar\": {\"outlinewidth\": 0, \"ticks\": \"\"}, \"colorscale\": [[0.0, \"#0d0887\"], [0.1111111111111111, \"#46039f\"], [0.2222222222222222, \"#7201a8\"], [0.3333333333333333, \"#9c179e\"], [0.4444444444444444, \"#bd3786\"], [0.5555555555555556, \"#d8576b\"], [0.6666666666666666, \"#ed7953\"], [0.7777777777777778, \"#fb9f3a\"], [0.8888888888888888, \"#fdca26\"], [1.0, \"#f0f921\"]], \"type\": \"histogram2d\"}], \"histogram2dcontour\": [{\"colorbar\": {\"outlinewidth\": 0, \"ticks\": \"\"}, \"colorscale\": [[0.0, \"#0d0887\"], [0.1111111111111111, \"#46039f\"], [0.2222222222222222, \"#7201a8\"], [0.3333333333333333, \"#9c179e\"], [0.4444444444444444, \"#bd3786\"], [0.5555555555555556, \"#d8576b\"], [0.6666666666666666, \"#ed7953\"], [0.7777777777777778, \"#fb9f3a\"], [0.8888888888888888, \"#fdca26\"], [1.0, \"#f0f921\"]], \"type\": \"histogram2dcontour\"}], \"mesh3d\": [{\"colorbar\": {\"outlinewidth\": 0, \"ticks\": \"\"}, \"type\": \"mesh3d\"}], \"parcoords\": [{\"line\": {\"colorbar\": {\"outlinewidth\": 0, \"ticks\": \"\"}}, \"type\": \"parcoords\"}], \"pie\": [{\"automargin\": true, \"type\": \"pie\"}], \"scatter\": [{\"marker\": {\"colorbar\": {\"outlinewidth\": 0, \"ticks\": \"\"}}, \"type\": \"scatter\"}], \"scatter3d\": [{\"line\": {\"colorbar\": {\"outlinewidth\": 0, \"ticks\": \"\"}}, \"marker\": {\"colorbar\": {\"outlinewidth\": 0, \"ticks\": \"\"}}, \"type\": \"scatter3d\"}], \"scattercarpet\": [{\"marker\": {\"colorbar\": {\"outlinewidth\": 0, \"ticks\": \"\"}}, \"type\": \"scattercarpet\"}], \"scattergeo\": [{\"marker\": {\"colorbar\": {\"outlinewidth\": 0, \"ticks\": \"\"}}, \"type\": \"scattergeo\"}], \"scattergl\": [{\"marker\": {\"colorbar\": {\"outlinewidth\": 0, \"ticks\": \"\"}}, \"type\": \"scattergl\"}], \"scattermapbox\": [{\"marker\": {\"colorbar\": {\"outlinewidth\": 0, \"ticks\": \"\"}}, \"type\": \"scattermapbox\"}], \"scatterpolar\": [{\"marker\": {\"colorbar\": {\"outlinewidth\": 0, \"ticks\": \"\"}}, \"type\": \"scatterpolar\"}], \"scatterpolargl\": [{\"marker\": {\"colorbar\": {\"outlinewidth\": 0, \"ticks\": \"\"}}, \"type\": \"scatterpolargl\"}], \"scatterternary\": [{\"marker\": {\"colorbar\": {\"outlinewidth\": 0, \"ticks\": \"\"}}, \"type\": \"scatterternary\"}], \"surface\": [{\"colorbar\": {\"outlinewidth\": 0, \"ticks\": \"\"}, \"colorscale\": [[0.0, \"#0d0887\"], [0.1111111111111111, \"#46039f\"], [0.2222222222222222, \"#7201a8\"], [0.3333333333333333, \"#9c179e\"], [0.4444444444444444, \"#bd3786\"], [0.5555555555555556, \"#d8576b\"], [0.6666666666666666, \"#ed7953\"], [0.7777777777777778, \"#fb9f3a\"], [0.8888888888888888, \"#fdca26\"], [1.0, \"#f0f921\"]], \"type\": \"surface\"}], \"table\": [{\"cells\": {\"fill\": {\"color\": \"#EBF0F8\"}, \"line\": {\"color\": \"white\"}}, \"header\": {\"fill\": {\"color\": \"#C8D4E3\"}, \"line\": {\"color\": \"white\"}}, \"type\": \"table\"}]}, \"layout\": {\"annotationdefaults\": {\"arrowcolor\": \"#2a3f5f\", \"arrowhead\": 0, \"arrowwidth\": 1}, \"autotypenumbers\": \"strict\", \"coloraxis\": {\"colorbar\": {\"outlinewidth\": 0, \"ticks\": \"\"}}, \"colorscale\": {\"diverging\": [[0, \"#8e0152\"], [0.1, \"#c51b7d\"], [0.2, \"#de77ae\"], [0.3, \"#f1b6da\"], [0.4, \"#fde0ef\"], [0.5, \"#f7f7f7\"], [0.6, \"#e6f5d0\"], [0.7, \"#b8e186\"], [0.8, \"#7fbc41\"], [0.9, \"#4d9221\"], [1, \"#276419\"]], \"sequential\": [[0.0, \"#0d0887\"], [0.1111111111111111, \"#46039f\"], [0.2222222222222222, \"#7201a8\"], [0.3333333333333333, \"#9c179e\"], [0.4444444444444444, \"#bd3786\"], [0.5555555555555556, \"#d8576b\"], [0.6666666666666666, \"#ed7953\"], [0.7777777777777778, \"#fb9f3a\"], [0.8888888888888888, \"#fdca26\"], [1.0, \"#f0f921\"]], \"sequentialminus\": [[0.0, \"#0d0887\"], [0.1111111111111111, \"#46039f\"], [0.2222222222222222, \"#7201a8\"], [0.3333333333333333, \"#9c179e\"], [0.4444444444444444, \"#bd3786\"], [0.5555555555555556, \"#d8576b\"], [0.6666666666666666, \"#ed7953\"], [0.7777777777777778, \"#fb9f3a\"], [0.8888888888888888, \"#fdca26\"], [1.0, \"#f0f921\"]]}, \"colorway\": [\"#636efa\", \"#EF553B\", \"#00cc96\", \"#ab63fa\", \"#FFA15A\", \"#19d3f3\", \"#FF6692\", \"#B6E880\", \"#FF97FF\", \"#FECB52\"], \"font\": {\"color\": \"#2a3f5f\"}, \"geo\": {\"bgcolor\": \"white\", \"lakecolor\": \"white\", \"landcolor\": \"#E5ECF6\", \"showlakes\": true, \"showland\": true, \"subunitcolor\": \"white\"}, \"hoverlabel\": {\"align\": \"left\"}, \"hovermode\": \"closest\", \"mapbox\": {\"style\": \"light\"}, \"paper_bgcolor\": \"white\", \"plot_bgcolor\": \"#E5ECF6\", \"polar\": {\"angularaxis\": {\"gridcolor\": \"white\", \"linecolor\": \"white\", \"ticks\": \"\"}, \"bgcolor\": \"#E5ECF6\", \"radialaxis\": {\"gridcolor\": \"white\", \"linecolor\": \"white\", \"ticks\": \"\"}}, \"scene\": {\"xaxis\": {\"backgroundcolor\": \"#E5ECF6\", \"gridcolor\": \"white\", \"gridwidth\": 2, \"linecolor\": \"white\", \"showbackground\": true, \"ticks\": \"\", \"zerolinecolor\": \"white\"}, \"yaxis\": {\"backgroundcolor\": \"#E5ECF6\", \"gridcolor\": \"white\", \"gridwidth\": 2, \"linecolor\": \"white\", \"showbackground\": true, \"ticks\": \"\", \"zerolinecolor\": \"white\"}, \"zaxis\": {\"backgroundcolor\": \"#E5ECF6\", \"gridcolor\": \"white\", \"gridwidth\": 2, \"linecolor\": \"white\", \"showbackground\": true, \"ticks\": \"\", \"zerolinecolor\": \"white\"}}, \"shapedefaults\": {\"line\": {\"color\": \"#2a3f5f\"}}, \"ternary\": {\"aaxis\": {\"gridcolor\": \"white\", \"linecolor\": \"white\", \"ticks\": \"\"}, \"baxis\": {\"gridcolor\": \"white\", \"linecolor\": \"white\", \"ticks\": \"\"}, \"bgcolor\": \"#E5ECF6\", \"caxis\": {\"gridcolor\": \"white\", \"linecolor\": \"white\", \"ticks\": \"\"}}, \"title\": {\"x\": 0.05}, \"xaxis\": {\"automargin\": true, \"gridcolor\": \"white\", \"linecolor\": \"white\", \"ticks\": \"\", \"title\": {\"standoff\": 15}, \"zerolinecolor\": \"white\", \"zerolinewidth\": 2}, \"yaxis\": {\"automargin\": true, \"gridcolor\": \"white\", \"linecolor\": \"white\", \"ticks\": \"\", \"title\": {\"standoff\": 15}, \"zerolinecolor\": \"white\", \"zerolinewidth\": 2}}}, \"title\": {\"font\": {\"color\": \"#4D5663\"}, \"text\": \"Distribution of enzyme Alamine_Aminotransferase\"}, \"xaxis\": {\"gridcolor\": \"#E1E5ED\", \"showgrid\": true, \"tickfont\": {\"color\": \"#4D5663\"}, \"title\": {\"font\": {\"color\": \"#4D5663\"}, \"text\": \"Alamine_Aminotransferase\"}, \"zerolinecolor\": \"#E1E5ED\"}, \"yaxis\": {\"gridcolor\": \"#E1E5ED\", \"showgrid\": true, \"tickfont\": {\"color\": \"#4D5663\"}, \"title\": {\"font\": {\"color\": \"#4D5663\"}, \"text\": \"Frequency\"}, \"zerolinecolor\": \"#E1E5ED\"}},                        {\"showLink\": true, \"linkText\": \"Export to plot.ly\", \"plotlyServerURL\": \"https://plot.ly\", \"responsive\": true}                    ).then(function(){\n",
       "                            \n",
       "var gd = document.getElementById('53bfe0c8-89b8-4a3a-9b36-d109f4553285');\n",
       "var x = new MutationObserver(function (mutations, observer) {{\n",
       "        var display = window.getComputedStyle(gd).display;\n",
       "        if (!display || display === 'none') {{\n",
       "            console.log([gd, 'removed!']);\n",
       "            Plotly.purge(gd);\n",
       "            observer.disconnect();\n",
       "        }}\n",
       "}});\n",
       "\n",
       "// Listen for the removal of the full notebook cells\n",
       "var notebookContainer = gd.closest('#notebook-container');\n",
       "if (notebookContainer) {{\n",
       "    x.observe(notebookContainer, {childList: true});\n",
       "}}\n",
       "\n",
       "// Listen for the clearing of the current output cell\n",
       "var outputEl = gd.closest('.output');\n",
       "if (outputEl) {{\n",
       "    x.observe(outputEl, {childList: true});\n",
       "}}\n",
       "\n",
       "                        })                };                });            </script>        </div>"
      ]
     },
     "metadata": {},
     "output_type": "display_data"
    }
   ],
   "source": [
    "df['Alamine_Aminotransferase'].iplot(kind='hist', color = 'red', xTitle = 'Alamine_Aminotransferase', yTitle = 'Frequency', title = 'Distribution of enzyme Alamine_Aminotransferase')"
   ]
  },
  {
   "cell_type": "code",
   "execution_count": 44,
   "metadata": {
    "execution": {
     "iopub.execute_input": "2021-03-01T01:26:26.005125Z",
     "iopub.status.busy": "2021-03-01T01:26:26.004424Z",
     "iopub.status.idle": "2021-03-01T01:26:26.064786Z",
     "shell.execute_reply": "2021-03-01T01:26:26.065353Z"
    },
    "papermill": {
     "duration": 0.160967,
     "end_time": "2021-03-01T01:26:26.065552",
     "exception": false,
     "start_time": "2021-03-01T01:26:25.904585",
     "status": "completed"
    },
    "tags": []
   },
   "outputs": [
    {
     "data": {
      "application/vnd.plotly.v1+json": {
       "config": {
        "linkText": "Export to plot.ly",
        "plotlyServerURL": "https://plot.ly",
        "showLink": true
       },
       "data": [
        {
         "histfunc": "count",
         "histnorm": "",
         "marker": {
          "color": "rgba(219, 64, 82, 1.0)",
          "line": {
           "color": "#4D5663",
           "width": 1.3
          }
         },
         "name": "Aspartate_Aminotransferase",
         "opacity": 0.8,
         "orientation": "v",
         "type": "histogram",
         "x": [
          18,
          100,
          68,
          20,
          59,
          14,
          12,
          11,
          19,
          58,
          59,
          56,
          58,
          30,
          41,
          53,
          441,
          23,
          245,
          245,
          28,
          34,
          66,
          55,
          45,
          731,
          731,
          850,
          30,
          21,
          111,
          44,
          23,
          57,
          57,
          80,
          36,
          77,
          66,
          73,
          50,
          110,
          47,
          576,
          15,
          178,
          27,
          960,
          28,
          178,
          14,
          19,
          406,
          150,
          61,
          61,
          23,
          54,
          18,
          24,
          16,
          43,
          43,
          97,
          86,
          88,
          95,
          58,
          26,
          17,
          397,
          29,
          24,
          16,
          22,
          41,
          17,
          127,
          24,
          79,
          142,
          26,
          12,
          152,
          31,
          45,
          56,
          59,
          34,
          350,
          850,
          794,
          850,
          400,
          202,
          23,
          630,
          950,
          161,
          405,
          28,
          23,
          45,
          23,
          28,
          92,
          92,
          39,
          39,
          34,
          10,
          116,
          39,
          98,
          285,
          64,
          149,
          2946,
          1600,
          1050,
          275,
          113,
          84,
          18,
          29,
          25,
          88,
          40,
          83,
          65,
          58,
          28,
          31,
          14,
          36,
          4929,
          90,
          140,
          140,
          66,
          21,
          30,
          139,
          139,
          87,
          22,
          38,
          30,
          26,
          27,
          42,
          20,
          40,
          27,
          233,
          138,
          82,
          35,
          35,
          32,
          350,
          187,
          66,
          62,
          62,
          74,
          66,
          67,
          41,
          32,
          37,
          602,
          63,
          34,
          34,
          31,
          99,
          42,
          29,
          25,
          29,
          37,
          43,
          17,
          19,
          103,
          145,
          247,
          38,
          28,
          114,
          104,
          51,
          25,
          32,
          54,
          104,
          32,
          18,
          1050,
          53,
          53,
          23,
          21,
          26,
          22,
          60,
          1500,
          95,
          33,
          14,
          180,
          127,
          58,
          34,
          148,
          16,
          31,
          30,
          39,
          46,
          24,
          28,
          19,
          44,
          51,
          62,
          15,
          13,
          21,
          85,
          231,
          156,
          89,
          27,
          298,
          40,
          16,
          35,
          48,
          30,
          46,
          23,
          23,
          19,
          18,
          79,
          28,
          29,
          25,
          22,
          40,
          40,
          15,
          21,
          48,
          17,
          86,
          34,
          130,
          87,
          140,
          54,
          21,
          92,
          34,
          54,
          29,
          75,
          20,
          54,
          231,
          500,
          18,
          22,
          19,
          20,
          40,
          20,
          14,
          48,
          15,
          14,
          21,
          48,
          24,
          12,
          20,
          39,
          105,
          44,
          14,
          24,
          41,
          21,
          41,
          19,
          25,
          15,
          35,
          25,
          30,
          32,
          17,
          17,
          16,
          113,
          47,
          18,
          250,
          22,
          47,
          54,
          22,
          65,
          21,
          82,
          30,
          232,
          16,
          27,
          58,
          34,
          67,
          37,
          23,
          90,
          33,
          20,
          23,
          68,
          56,
          113,
          25,
          24,
          19,
          143,
          68,
          50,
          30,
          33,
          138,
          32,
          28,
          40,
          44,
          11,
          105,
          14,
          15,
          58,
          38,
          33,
          176,
          23,
          26,
          30,
          38,
          34,
          70,
          26,
          28,
          15,
          29,
          57,
          43,
          35,
          52,
          20,
          25,
          37,
          29,
          17,
          25,
          23,
          31,
          33,
          13,
          41,
          22,
          53,
          43,
          22,
          12,
          91,
          30,
          21,
          20,
          40,
          35,
          35,
          20,
          92,
          68,
          56,
          20,
          32,
          70,
          50,
          145,
          20,
          236,
          108,
          22,
          26,
          21,
          58,
          108,
          73,
          190,
          850,
          44,
          71,
          30,
          24,
          40,
          180,
          29,
          50,
          65,
          57,
          71,
          42,
          59,
          15,
          126,
          42,
          66,
          12,
          141,
          33,
          13,
          87,
          24,
          36,
          21,
          80,
          44,
          90,
          18,
          20,
          39,
          102,
          81,
          19,
          46,
          20,
          511,
          25,
          27,
          72,
          25,
          36,
          23,
          16,
          22,
          43,
          35,
          19,
          46,
          51,
          23,
          18,
          42,
          53,
          42,
          16,
          108,
          54,
          32,
          56,
          26,
          33,
          21,
          135,
          42,
          25,
          32,
          497,
          844,
          51,
          368,
          188,
          57,
          40,
          248,
          15,
          190,
          26,
          29,
          57,
          111,
          103,
          28,
          401,
          29,
          31,
          39,
          22,
          70,
          55,
          76,
          30,
          221,
          79,
          235,
          185,
          73,
          230,
          540,
          36,
          48,
          28,
          24,
          58,
          181,
          24,
          28,
          68,
          630,
          155,
          25,
          15,
          16,
          15,
          32,
          63,
          200,
          38,
          152,
          21,
          186,
          17,
          623,
          74,
          52,
          220,
          75,
          78,
          45,
          23,
          19,
          47,
          27,
          42,
          42,
          32,
          348,
          186,
          141,
          41,
          22,
          30,
          140,
          43,
          87,
          27,
          125,
          330,
          138,
          562,
          384,
          367,
          83,
          34,
          143,
          31,
          40,
          101,
          168,
          90,
          134,
          125,
          88,
          92,
          88,
          80,
          47,
          34,
          31,
          49,
          32,
          24
         ]
        }
       ],
       "layout": {
        "barmode": "overlay",
        "legend": {
         "bgcolor": "#F5F6F9",
         "font": {
          "color": "#4D5663"
         }
        },
        "paper_bgcolor": "#F5F6F9",
        "plot_bgcolor": "#F5F6F9",
        "template": {
         "data": {
          "bar": [
           {
            "error_x": {
             "color": "#2a3f5f"
            },
            "error_y": {
             "color": "#2a3f5f"
            },
            "marker": {
             "line": {
              "color": "#E5ECF6",
              "width": 0.5
             }
            },
            "type": "bar"
           }
          ],
          "barpolar": [
           {
            "marker": {
             "line": {
              "color": "#E5ECF6",
              "width": 0.5
             }
            },
            "type": "barpolar"
           }
          ],
          "carpet": [
           {
            "aaxis": {
             "endlinecolor": "#2a3f5f",
             "gridcolor": "white",
             "linecolor": "white",
             "minorgridcolor": "white",
             "startlinecolor": "#2a3f5f"
            },
            "baxis": {
             "endlinecolor": "#2a3f5f",
             "gridcolor": "white",
             "linecolor": "white",
             "minorgridcolor": "white",
             "startlinecolor": "#2a3f5f"
            },
            "type": "carpet"
           }
          ],
          "choropleth": [
           {
            "colorbar": {
             "outlinewidth": 0,
             "ticks": ""
            },
            "type": "choropleth"
           }
          ],
          "contour": [
           {
            "colorbar": {
             "outlinewidth": 0,
             "ticks": ""
            },
            "colorscale": [
             [
              0.0,
              "#0d0887"
             ],
             [
              0.1111111111111111,
              "#46039f"
             ],
             [
              0.2222222222222222,
              "#7201a8"
             ],
             [
              0.3333333333333333,
              "#9c179e"
             ],
             [
              0.4444444444444444,
              "#bd3786"
             ],
             [
              0.5555555555555556,
              "#d8576b"
             ],
             [
              0.6666666666666666,
              "#ed7953"
             ],
             [
              0.7777777777777778,
              "#fb9f3a"
             ],
             [
              0.8888888888888888,
              "#fdca26"
             ],
             [
              1.0,
              "#f0f921"
             ]
            ],
            "type": "contour"
           }
          ],
          "contourcarpet": [
           {
            "colorbar": {
             "outlinewidth": 0,
             "ticks": ""
            },
            "type": "contourcarpet"
           }
          ],
          "heatmap": [
           {
            "colorbar": {
             "outlinewidth": 0,
             "ticks": ""
            },
            "colorscale": [
             [
              0.0,
              "#0d0887"
             ],
             [
              0.1111111111111111,
              "#46039f"
             ],
             [
              0.2222222222222222,
              "#7201a8"
             ],
             [
              0.3333333333333333,
              "#9c179e"
             ],
             [
              0.4444444444444444,
              "#bd3786"
             ],
             [
              0.5555555555555556,
              "#d8576b"
             ],
             [
              0.6666666666666666,
              "#ed7953"
             ],
             [
              0.7777777777777778,
              "#fb9f3a"
             ],
             [
              0.8888888888888888,
              "#fdca26"
             ],
             [
              1.0,
              "#f0f921"
             ]
            ],
            "type": "heatmap"
           }
          ],
          "heatmapgl": [
           {
            "colorbar": {
             "outlinewidth": 0,
             "ticks": ""
            },
            "colorscale": [
             [
              0.0,
              "#0d0887"
             ],
             [
              0.1111111111111111,
              "#46039f"
             ],
             [
              0.2222222222222222,
              "#7201a8"
             ],
             [
              0.3333333333333333,
              "#9c179e"
             ],
             [
              0.4444444444444444,
              "#bd3786"
             ],
             [
              0.5555555555555556,
              "#d8576b"
             ],
             [
              0.6666666666666666,
              "#ed7953"
             ],
             [
              0.7777777777777778,
              "#fb9f3a"
             ],
             [
              0.8888888888888888,
              "#fdca26"
             ],
             [
              1.0,
              "#f0f921"
             ]
            ],
            "type": "heatmapgl"
           }
          ],
          "histogram": [
           {
            "marker": {
             "colorbar": {
              "outlinewidth": 0,
              "ticks": ""
             }
            },
            "type": "histogram"
           }
          ],
          "histogram2d": [
           {
            "colorbar": {
             "outlinewidth": 0,
             "ticks": ""
            },
            "colorscale": [
             [
              0.0,
              "#0d0887"
             ],
             [
              0.1111111111111111,
              "#46039f"
             ],
             [
              0.2222222222222222,
              "#7201a8"
             ],
             [
              0.3333333333333333,
              "#9c179e"
             ],
             [
              0.4444444444444444,
              "#bd3786"
             ],
             [
              0.5555555555555556,
              "#d8576b"
             ],
             [
              0.6666666666666666,
              "#ed7953"
             ],
             [
              0.7777777777777778,
              "#fb9f3a"
             ],
             [
              0.8888888888888888,
              "#fdca26"
             ],
             [
              1.0,
              "#f0f921"
             ]
            ],
            "type": "histogram2d"
           }
          ],
          "histogram2dcontour": [
           {
            "colorbar": {
             "outlinewidth": 0,
             "ticks": ""
            },
            "colorscale": [
             [
              0.0,
              "#0d0887"
             ],
             [
              0.1111111111111111,
              "#46039f"
             ],
             [
              0.2222222222222222,
              "#7201a8"
             ],
             [
              0.3333333333333333,
              "#9c179e"
             ],
             [
              0.4444444444444444,
              "#bd3786"
             ],
             [
              0.5555555555555556,
              "#d8576b"
             ],
             [
              0.6666666666666666,
              "#ed7953"
             ],
             [
              0.7777777777777778,
              "#fb9f3a"
             ],
             [
              0.8888888888888888,
              "#fdca26"
             ],
             [
              1.0,
              "#f0f921"
             ]
            ],
            "type": "histogram2dcontour"
           }
          ],
          "mesh3d": [
           {
            "colorbar": {
             "outlinewidth": 0,
             "ticks": ""
            },
            "type": "mesh3d"
           }
          ],
          "parcoords": [
           {
            "line": {
             "colorbar": {
              "outlinewidth": 0,
              "ticks": ""
             }
            },
            "type": "parcoords"
           }
          ],
          "pie": [
           {
            "automargin": true,
            "type": "pie"
           }
          ],
          "scatter": [
           {
            "marker": {
             "colorbar": {
              "outlinewidth": 0,
              "ticks": ""
             }
            },
            "type": "scatter"
           }
          ],
          "scatter3d": [
           {
            "line": {
             "colorbar": {
              "outlinewidth": 0,
              "ticks": ""
             }
            },
            "marker": {
             "colorbar": {
              "outlinewidth": 0,
              "ticks": ""
             }
            },
            "type": "scatter3d"
           }
          ],
          "scattercarpet": [
           {
            "marker": {
             "colorbar": {
              "outlinewidth": 0,
              "ticks": ""
             }
            },
            "type": "scattercarpet"
           }
          ],
          "scattergeo": [
           {
            "marker": {
             "colorbar": {
              "outlinewidth": 0,
              "ticks": ""
             }
            },
            "type": "scattergeo"
           }
          ],
          "scattergl": [
           {
            "marker": {
             "colorbar": {
              "outlinewidth": 0,
              "ticks": ""
             }
            },
            "type": "scattergl"
           }
          ],
          "scattermapbox": [
           {
            "marker": {
             "colorbar": {
              "outlinewidth": 0,
              "ticks": ""
             }
            },
            "type": "scattermapbox"
           }
          ],
          "scatterpolar": [
           {
            "marker": {
             "colorbar": {
              "outlinewidth": 0,
              "ticks": ""
             }
            },
            "type": "scatterpolar"
           }
          ],
          "scatterpolargl": [
           {
            "marker": {
             "colorbar": {
              "outlinewidth": 0,
              "ticks": ""
             }
            },
            "type": "scatterpolargl"
           }
          ],
          "scatterternary": [
           {
            "marker": {
             "colorbar": {
              "outlinewidth": 0,
              "ticks": ""
             }
            },
            "type": "scatterternary"
           }
          ],
          "surface": [
           {
            "colorbar": {
             "outlinewidth": 0,
             "ticks": ""
            },
            "colorscale": [
             [
              0.0,
              "#0d0887"
             ],
             [
              0.1111111111111111,
              "#46039f"
             ],
             [
              0.2222222222222222,
              "#7201a8"
             ],
             [
              0.3333333333333333,
              "#9c179e"
             ],
             [
              0.4444444444444444,
              "#bd3786"
             ],
             [
              0.5555555555555556,
              "#d8576b"
             ],
             [
              0.6666666666666666,
              "#ed7953"
             ],
             [
              0.7777777777777778,
              "#fb9f3a"
             ],
             [
              0.8888888888888888,
              "#fdca26"
             ],
             [
              1.0,
              "#f0f921"
             ]
            ],
            "type": "surface"
           }
          ],
          "table": [
           {
            "cells": {
             "fill": {
              "color": "#EBF0F8"
             },
             "line": {
              "color": "white"
             }
            },
            "header": {
             "fill": {
              "color": "#C8D4E3"
             },
             "line": {
              "color": "white"
             }
            },
            "type": "table"
           }
          ]
         },
         "layout": {
          "annotationdefaults": {
           "arrowcolor": "#2a3f5f",
           "arrowhead": 0,
           "arrowwidth": 1
          },
          "autotypenumbers": "strict",
          "coloraxis": {
           "colorbar": {
            "outlinewidth": 0,
            "ticks": ""
           }
          },
          "colorscale": {
           "diverging": [
            [
             0,
             "#8e0152"
            ],
            [
             0.1,
             "#c51b7d"
            ],
            [
             0.2,
             "#de77ae"
            ],
            [
             0.3,
             "#f1b6da"
            ],
            [
             0.4,
             "#fde0ef"
            ],
            [
             0.5,
             "#f7f7f7"
            ],
            [
             0.6,
             "#e6f5d0"
            ],
            [
             0.7,
             "#b8e186"
            ],
            [
             0.8,
             "#7fbc41"
            ],
            [
             0.9,
             "#4d9221"
            ],
            [
             1,
             "#276419"
            ]
           ],
           "sequential": [
            [
             0.0,
             "#0d0887"
            ],
            [
             0.1111111111111111,
             "#46039f"
            ],
            [
             0.2222222222222222,
             "#7201a8"
            ],
            [
             0.3333333333333333,
             "#9c179e"
            ],
            [
             0.4444444444444444,
             "#bd3786"
            ],
            [
             0.5555555555555556,
             "#d8576b"
            ],
            [
             0.6666666666666666,
             "#ed7953"
            ],
            [
             0.7777777777777778,
             "#fb9f3a"
            ],
            [
             0.8888888888888888,
             "#fdca26"
            ],
            [
             1.0,
             "#f0f921"
            ]
           ],
           "sequentialminus": [
            [
             0.0,
             "#0d0887"
            ],
            [
             0.1111111111111111,
             "#46039f"
            ],
            [
             0.2222222222222222,
             "#7201a8"
            ],
            [
             0.3333333333333333,
             "#9c179e"
            ],
            [
             0.4444444444444444,
             "#bd3786"
            ],
            [
             0.5555555555555556,
             "#d8576b"
            ],
            [
             0.6666666666666666,
             "#ed7953"
            ],
            [
             0.7777777777777778,
             "#fb9f3a"
            ],
            [
             0.8888888888888888,
             "#fdca26"
            ],
            [
             1.0,
             "#f0f921"
            ]
           ]
          },
          "colorway": [
           "#636efa",
           "#EF553B",
           "#00cc96",
           "#ab63fa",
           "#FFA15A",
           "#19d3f3",
           "#FF6692",
           "#B6E880",
           "#FF97FF",
           "#FECB52"
          ],
          "font": {
           "color": "#2a3f5f"
          },
          "geo": {
           "bgcolor": "white",
           "lakecolor": "white",
           "landcolor": "#E5ECF6",
           "showlakes": true,
           "showland": true,
           "subunitcolor": "white"
          },
          "hoverlabel": {
           "align": "left"
          },
          "hovermode": "closest",
          "mapbox": {
           "style": "light"
          },
          "paper_bgcolor": "white",
          "plot_bgcolor": "#E5ECF6",
          "polar": {
           "angularaxis": {
            "gridcolor": "white",
            "linecolor": "white",
            "ticks": ""
           },
           "bgcolor": "#E5ECF6",
           "radialaxis": {
            "gridcolor": "white",
            "linecolor": "white",
            "ticks": ""
           }
          },
          "scene": {
           "xaxis": {
            "backgroundcolor": "#E5ECF6",
            "gridcolor": "white",
            "gridwidth": 2,
            "linecolor": "white",
            "showbackground": true,
            "ticks": "",
            "zerolinecolor": "white"
           },
           "yaxis": {
            "backgroundcolor": "#E5ECF6",
            "gridcolor": "white",
            "gridwidth": 2,
            "linecolor": "white",
            "showbackground": true,
            "ticks": "",
            "zerolinecolor": "white"
           },
           "zaxis": {
            "backgroundcolor": "#E5ECF6",
            "gridcolor": "white",
            "gridwidth": 2,
            "linecolor": "white",
            "showbackground": true,
            "ticks": "",
            "zerolinecolor": "white"
           }
          },
          "shapedefaults": {
           "line": {
            "color": "#2a3f5f"
           }
          },
          "ternary": {
           "aaxis": {
            "gridcolor": "white",
            "linecolor": "white",
            "ticks": ""
           },
           "baxis": {
            "gridcolor": "white",
            "linecolor": "white",
            "ticks": ""
           },
           "bgcolor": "#E5ECF6",
           "caxis": {
            "gridcolor": "white",
            "linecolor": "white",
            "ticks": ""
           }
          },
          "title": {
           "x": 0.05
          },
          "xaxis": {
           "automargin": true,
           "gridcolor": "white",
           "linecolor": "white",
           "ticks": "",
           "title": {
            "standoff": 15
           },
           "zerolinecolor": "white",
           "zerolinewidth": 2
          },
          "yaxis": {
           "automargin": true,
           "gridcolor": "white",
           "linecolor": "white",
           "ticks": "",
           "title": {
            "standoff": 15
           },
           "zerolinecolor": "white",
           "zerolinewidth": 2
          }
         }
        },
        "title": {
         "font": {
          "color": "#4D5663"
         },
         "text": "Distribution of Enzyme Aspartate_Aminotransferase"
        },
        "xaxis": {
         "gridcolor": "#E1E5ED",
         "showgrid": true,
         "tickfont": {
          "color": "#4D5663"
         },
         "title": {
          "font": {
           "color": "#4D5663"
          },
          "text": "Aspartate_Aminotransferase"
         },
         "zerolinecolor": "#E1E5ED"
        },
        "yaxis": {
         "gridcolor": "#E1E5ED",
         "showgrid": true,
         "tickfont": {
          "color": "#4D5663"
         },
         "title": {
          "font": {
           "color": "#4D5663"
          },
          "text": "Frequency"
         },
         "zerolinecolor": "#E1E5ED"
        }
       }
      },
      "text/html": [
       "<div>                            <div id=\"69dd343e-4f2e-4c19-888b-404d15687375\" class=\"plotly-graph-div\" style=\"height:525px; width:100%;\"></div>            <script type=\"text/javascript\">                require([\"plotly\"], function(Plotly) {                    window.PLOTLYENV=window.PLOTLYENV || {};\n",
       "                    window.PLOTLYENV.BASE_URL='https://plot.ly';                                    if (document.getElementById(\"69dd343e-4f2e-4c19-888b-404d15687375\")) {                    Plotly.newPlot(                        \"69dd343e-4f2e-4c19-888b-404d15687375\",                        [{\"histfunc\": \"count\", \"histnorm\": \"\", \"marker\": {\"color\": \"rgba(219, 64, 82, 1.0)\", \"line\": {\"color\": \"#4D5663\", \"width\": 1.3}}, \"name\": \"Aspartate_Aminotransferase\", \"opacity\": 0.8, \"orientation\": \"v\", \"type\": \"histogram\", \"x\": [18, 100, 68, 20, 59, 14, 12, 11, 19, 58, 59, 56, 58, 30, 41, 53, 441, 23, 245, 245, 28, 34, 66, 55, 45, 731, 731, 850, 30, 21, 111, 44, 23, 57, 57, 80, 36, 77, 66, 73, 50, 110, 47, 576, 15, 178, 27, 960, 28, 178, 14, 19, 406, 150, 61, 61, 23, 54, 18, 24, 16, 43, 43, 97, 86, 88, 95, 58, 26, 17, 397, 29, 24, 16, 22, 41, 17, 127, 24, 79, 142, 26, 12, 152, 31, 45, 56, 59, 34, 350, 850, 794, 850, 400, 202, 23, 630, 950, 161, 405, 28, 23, 45, 23, 28, 92, 92, 39, 39, 34, 10, 116, 39, 98, 285, 64, 149, 2946, 1600, 1050, 275, 113, 84, 18, 29, 25, 88, 40, 83, 65, 58, 28, 31, 14, 36, 4929, 90, 140, 140, 66, 21, 30, 139, 139, 87, 22, 38, 30, 26, 27, 42, 20, 40, 27, 233, 138, 82, 35, 35, 32, 350, 187, 66, 62, 62, 74, 66, 67, 41, 32, 37, 602, 63, 34, 34, 31, 99, 42, 29, 25, 29, 37, 43, 17, 19, 103, 145, 247, 38, 28, 114, 104, 51, 25, 32, 54, 104, 32, 18, 1050, 53, 53, 23, 21, 26, 22, 60, 1500, 95, 33, 14, 180, 127, 58, 34, 148, 16, 31, 30, 39, 46, 24, 28, 19, 44, 51, 62, 15, 13, 21, 85, 231, 156, 89, 27, 298, 40, 16, 35, 48, 30, 46, 23, 23, 19, 18, 79, 28, 29, 25, 22, 40, 40, 15, 21, 48, 17, 86, 34, 130, 87, 140, 54, 21, 92, 34, 54, 29, 75, 20, 54, 231, 500, 18, 22, 19, 20, 40, 20, 14, 48, 15, 14, 21, 48, 24, 12, 20, 39, 105, 44, 14, 24, 41, 21, 41, 19, 25, 15, 35, 25, 30, 32, 17, 17, 16, 113, 47, 18, 250, 22, 47, 54, 22, 65, 21, 82, 30, 232, 16, 27, 58, 34, 67, 37, 23, 90, 33, 20, 23, 68, 56, 113, 25, 24, 19, 143, 68, 50, 30, 33, 138, 32, 28, 40, 44, 11, 105, 14, 15, 58, 38, 33, 176, 23, 26, 30, 38, 34, 70, 26, 28, 15, 29, 57, 43, 35, 52, 20, 25, 37, 29, 17, 25, 23, 31, 33, 13, 41, 22, 53, 43, 22, 12, 91, 30, 21, 20, 40, 35, 35, 20, 92, 68, 56, 20, 32, 70, 50, 145, 20, 236, 108, 22, 26, 21, 58, 108, 73, 190, 850, 44, 71, 30, 24, 40, 180, 29, 50, 65, 57, 71, 42, 59, 15, 126, 42, 66, 12, 141, 33, 13, 87, 24, 36, 21, 80, 44, 90, 18, 20, 39, 102, 81, 19, 46, 20, 511, 25, 27, 72, 25, 36, 23, 16, 22, 43, 35, 19, 46, 51, 23, 18, 42, 53, 42, 16, 108, 54, 32, 56, 26, 33, 21, 135, 42, 25, 32, 497, 844, 51, 368, 188, 57, 40, 248, 15, 190, 26, 29, 57, 111, 103, 28, 401, 29, 31, 39, 22, 70, 55, 76, 30, 221, 79, 235, 185, 73, 230, 540, 36, 48, 28, 24, 58, 181, 24, 28, 68, 630, 155, 25, 15, 16, 15, 32, 63, 200, 38, 152, 21, 186, 17, 623, 74, 52, 220, 75, 78, 45, 23, 19, 47, 27, 42, 42, 32, 348, 186, 141, 41, 22, 30, 140, 43, 87, 27, 125, 330, 138, 562, 384, 367, 83, 34, 143, 31, 40, 101, 168, 90, 134, 125, 88, 92, 88, 80, 47, 34, 31, 49, 32, 24]}],                        {\"barmode\": \"overlay\", \"legend\": {\"bgcolor\": \"#F5F6F9\", \"font\": {\"color\": \"#4D5663\"}}, \"paper_bgcolor\": \"#F5F6F9\", \"plot_bgcolor\": \"#F5F6F9\", \"template\": {\"data\": {\"bar\": [{\"error_x\": {\"color\": \"#2a3f5f\"}, \"error_y\": {\"color\": \"#2a3f5f\"}, \"marker\": {\"line\": {\"color\": \"#E5ECF6\", \"width\": 0.5}}, \"type\": \"bar\"}], \"barpolar\": [{\"marker\": {\"line\": {\"color\": \"#E5ECF6\", \"width\": 0.5}}, \"type\": \"barpolar\"}], \"carpet\": [{\"aaxis\": {\"endlinecolor\": \"#2a3f5f\", \"gridcolor\": \"white\", \"linecolor\": \"white\", \"minorgridcolor\": \"white\", \"startlinecolor\": \"#2a3f5f\"}, \"baxis\": {\"endlinecolor\": \"#2a3f5f\", \"gridcolor\": \"white\", \"linecolor\": \"white\", \"minorgridcolor\": \"white\", \"startlinecolor\": \"#2a3f5f\"}, \"type\": \"carpet\"}], \"choropleth\": [{\"colorbar\": {\"outlinewidth\": 0, \"ticks\": \"\"}, \"type\": \"choropleth\"}], \"contour\": [{\"colorbar\": {\"outlinewidth\": 0, \"ticks\": \"\"}, \"colorscale\": [[0.0, \"#0d0887\"], [0.1111111111111111, \"#46039f\"], [0.2222222222222222, \"#7201a8\"], [0.3333333333333333, \"#9c179e\"], [0.4444444444444444, \"#bd3786\"], [0.5555555555555556, \"#d8576b\"], [0.6666666666666666, \"#ed7953\"], [0.7777777777777778, \"#fb9f3a\"], [0.8888888888888888, \"#fdca26\"], [1.0, \"#f0f921\"]], \"type\": \"contour\"}], \"contourcarpet\": [{\"colorbar\": {\"outlinewidth\": 0, \"ticks\": \"\"}, \"type\": \"contourcarpet\"}], \"heatmap\": [{\"colorbar\": {\"outlinewidth\": 0, \"ticks\": \"\"}, \"colorscale\": [[0.0, \"#0d0887\"], [0.1111111111111111, \"#46039f\"], [0.2222222222222222, \"#7201a8\"], [0.3333333333333333, \"#9c179e\"], [0.4444444444444444, \"#bd3786\"], [0.5555555555555556, \"#d8576b\"], [0.6666666666666666, \"#ed7953\"], [0.7777777777777778, \"#fb9f3a\"], [0.8888888888888888, \"#fdca26\"], [1.0, \"#f0f921\"]], \"type\": \"heatmap\"}], \"heatmapgl\": [{\"colorbar\": {\"outlinewidth\": 0, \"ticks\": \"\"}, \"colorscale\": [[0.0, \"#0d0887\"], [0.1111111111111111, \"#46039f\"], [0.2222222222222222, \"#7201a8\"], [0.3333333333333333, \"#9c179e\"], [0.4444444444444444, \"#bd3786\"], [0.5555555555555556, \"#d8576b\"], [0.6666666666666666, \"#ed7953\"], [0.7777777777777778, \"#fb9f3a\"], [0.8888888888888888, \"#fdca26\"], [1.0, \"#f0f921\"]], \"type\": \"heatmapgl\"}], \"histogram\": [{\"marker\": {\"colorbar\": {\"outlinewidth\": 0, \"ticks\": \"\"}}, \"type\": \"histogram\"}], \"histogram2d\": [{\"colorbar\": {\"outlinewidth\": 0, \"ticks\": \"\"}, \"colorscale\": [[0.0, \"#0d0887\"], [0.1111111111111111, \"#46039f\"], [0.2222222222222222, \"#7201a8\"], [0.3333333333333333, \"#9c179e\"], [0.4444444444444444, \"#bd3786\"], [0.5555555555555556, \"#d8576b\"], [0.6666666666666666, \"#ed7953\"], [0.7777777777777778, \"#fb9f3a\"], [0.8888888888888888, \"#fdca26\"], [1.0, \"#f0f921\"]], \"type\": \"histogram2d\"}], \"histogram2dcontour\": [{\"colorbar\": {\"outlinewidth\": 0, \"ticks\": \"\"}, \"colorscale\": [[0.0, \"#0d0887\"], [0.1111111111111111, \"#46039f\"], [0.2222222222222222, \"#7201a8\"], [0.3333333333333333, \"#9c179e\"], [0.4444444444444444, \"#bd3786\"], [0.5555555555555556, \"#d8576b\"], [0.6666666666666666, \"#ed7953\"], [0.7777777777777778, \"#fb9f3a\"], [0.8888888888888888, \"#fdca26\"], [1.0, \"#f0f921\"]], \"type\": \"histogram2dcontour\"}], \"mesh3d\": [{\"colorbar\": {\"outlinewidth\": 0, \"ticks\": \"\"}, \"type\": \"mesh3d\"}], \"parcoords\": [{\"line\": {\"colorbar\": {\"outlinewidth\": 0, \"ticks\": \"\"}}, \"type\": \"parcoords\"}], \"pie\": [{\"automargin\": true, \"type\": \"pie\"}], \"scatter\": [{\"marker\": {\"colorbar\": {\"outlinewidth\": 0, \"ticks\": \"\"}}, \"type\": \"scatter\"}], \"scatter3d\": [{\"line\": {\"colorbar\": {\"outlinewidth\": 0, \"ticks\": \"\"}}, \"marker\": {\"colorbar\": {\"outlinewidth\": 0, \"ticks\": \"\"}}, \"type\": \"scatter3d\"}], \"scattercarpet\": [{\"marker\": {\"colorbar\": {\"outlinewidth\": 0, \"ticks\": \"\"}}, \"type\": \"scattercarpet\"}], \"scattergeo\": [{\"marker\": {\"colorbar\": {\"outlinewidth\": 0, \"ticks\": \"\"}}, \"type\": \"scattergeo\"}], \"scattergl\": [{\"marker\": {\"colorbar\": {\"outlinewidth\": 0, \"ticks\": \"\"}}, \"type\": \"scattergl\"}], \"scattermapbox\": [{\"marker\": {\"colorbar\": {\"outlinewidth\": 0, \"ticks\": \"\"}}, \"type\": \"scattermapbox\"}], \"scatterpolar\": [{\"marker\": {\"colorbar\": {\"outlinewidth\": 0, \"ticks\": \"\"}}, \"type\": \"scatterpolar\"}], \"scatterpolargl\": [{\"marker\": {\"colorbar\": {\"outlinewidth\": 0, \"ticks\": \"\"}}, \"type\": \"scatterpolargl\"}], \"scatterternary\": [{\"marker\": {\"colorbar\": {\"outlinewidth\": 0, \"ticks\": \"\"}}, \"type\": \"scatterternary\"}], \"surface\": [{\"colorbar\": {\"outlinewidth\": 0, \"ticks\": \"\"}, \"colorscale\": [[0.0, \"#0d0887\"], [0.1111111111111111, \"#46039f\"], [0.2222222222222222, \"#7201a8\"], [0.3333333333333333, \"#9c179e\"], [0.4444444444444444, \"#bd3786\"], [0.5555555555555556, \"#d8576b\"], [0.6666666666666666, \"#ed7953\"], [0.7777777777777778, \"#fb9f3a\"], [0.8888888888888888, \"#fdca26\"], [1.0, \"#f0f921\"]], \"type\": \"surface\"}], \"table\": [{\"cells\": {\"fill\": {\"color\": \"#EBF0F8\"}, \"line\": {\"color\": \"white\"}}, \"header\": {\"fill\": {\"color\": \"#C8D4E3\"}, \"line\": {\"color\": \"white\"}}, \"type\": \"table\"}]}, \"layout\": {\"annotationdefaults\": {\"arrowcolor\": \"#2a3f5f\", \"arrowhead\": 0, \"arrowwidth\": 1}, \"autotypenumbers\": \"strict\", \"coloraxis\": {\"colorbar\": {\"outlinewidth\": 0, \"ticks\": \"\"}}, \"colorscale\": {\"diverging\": [[0, \"#8e0152\"], [0.1, \"#c51b7d\"], [0.2, \"#de77ae\"], [0.3, \"#f1b6da\"], [0.4, \"#fde0ef\"], [0.5, \"#f7f7f7\"], [0.6, \"#e6f5d0\"], [0.7, \"#b8e186\"], [0.8, \"#7fbc41\"], [0.9, \"#4d9221\"], [1, \"#276419\"]], \"sequential\": [[0.0, \"#0d0887\"], [0.1111111111111111, \"#46039f\"], [0.2222222222222222, \"#7201a8\"], [0.3333333333333333, \"#9c179e\"], [0.4444444444444444, \"#bd3786\"], [0.5555555555555556, \"#d8576b\"], [0.6666666666666666, \"#ed7953\"], [0.7777777777777778, \"#fb9f3a\"], [0.8888888888888888, \"#fdca26\"], [1.0, \"#f0f921\"]], \"sequentialminus\": [[0.0, \"#0d0887\"], [0.1111111111111111, \"#46039f\"], [0.2222222222222222, \"#7201a8\"], [0.3333333333333333, \"#9c179e\"], [0.4444444444444444, \"#bd3786\"], [0.5555555555555556, \"#d8576b\"], [0.6666666666666666, \"#ed7953\"], [0.7777777777777778, \"#fb9f3a\"], [0.8888888888888888, \"#fdca26\"], [1.0, \"#f0f921\"]]}, \"colorway\": [\"#636efa\", \"#EF553B\", \"#00cc96\", \"#ab63fa\", \"#FFA15A\", \"#19d3f3\", \"#FF6692\", \"#B6E880\", \"#FF97FF\", \"#FECB52\"], \"font\": {\"color\": \"#2a3f5f\"}, \"geo\": {\"bgcolor\": \"white\", \"lakecolor\": \"white\", \"landcolor\": \"#E5ECF6\", \"showlakes\": true, \"showland\": true, \"subunitcolor\": \"white\"}, \"hoverlabel\": {\"align\": \"left\"}, \"hovermode\": \"closest\", \"mapbox\": {\"style\": \"light\"}, \"paper_bgcolor\": \"white\", \"plot_bgcolor\": \"#E5ECF6\", \"polar\": {\"angularaxis\": {\"gridcolor\": \"white\", \"linecolor\": \"white\", \"ticks\": \"\"}, \"bgcolor\": \"#E5ECF6\", \"radialaxis\": {\"gridcolor\": \"white\", \"linecolor\": \"white\", \"ticks\": \"\"}}, \"scene\": {\"xaxis\": {\"backgroundcolor\": \"#E5ECF6\", \"gridcolor\": \"white\", \"gridwidth\": 2, \"linecolor\": \"white\", \"showbackground\": true, \"ticks\": \"\", \"zerolinecolor\": \"white\"}, \"yaxis\": {\"backgroundcolor\": \"#E5ECF6\", \"gridcolor\": \"white\", \"gridwidth\": 2, \"linecolor\": \"white\", \"showbackground\": true, \"ticks\": \"\", \"zerolinecolor\": \"white\"}, \"zaxis\": {\"backgroundcolor\": \"#E5ECF6\", \"gridcolor\": \"white\", \"gridwidth\": 2, \"linecolor\": \"white\", \"showbackground\": true, \"ticks\": \"\", \"zerolinecolor\": \"white\"}}, \"shapedefaults\": {\"line\": {\"color\": \"#2a3f5f\"}}, \"ternary\": {\"aaxis\": {\"gridcolor\": \"white\", \"linecolor\": \"white\", \"ticks\": \"\"}, \"baxis\": {\"gridcolor\": \"white\", \"linecolor\": \"white\", \"ticks\": \"\"}, \"bgcolor\": \"#E5ECF6\", \"caxis\": {\"gridcolor\": \"white\", \"linecolor\": \"white\", \"ticks\": \"\"}}, \"title\": {\"x\": 0.05}, \"xaxis\": {\"automargin\": true, \"gridcolor\": \"white\", \"linecolor\": \"white\", \"ticks\": \"\", \"title\": {\"standoff\": 15}, \"zerolinecolor\": \"white\", \"zerolinewidth\": 2}, \"yaxis\": {\"automargin\": true, \"gridcolor\": \"white\", \"linecolor\": \"white\", \"ticks\": \"\", \"title\": {\"standoff\": 15}, \"zerolinecolor\": \"white\", \"zerolinewidth\": 2}}}, \"title\": {\"font\": {\"color\": \"#4D5663\"}, \"text\": \"Distribution of Enzyme Aspartate_Aminotransferase\"}, \"xaxis\": {\"gridcolor\": \"#E1E5ED\", \"showgrid\": true, \"tickfont\": {\"color\": \"#4D5663\"}, \"title\": {\"font\": {\"color\": \"#4D5663\"}, \"text\": \"Aspartate_Aminotransferase\"}, \"zerolinecolor\": \"#E1E5ED\"}, \"yaxis\": {\"gridcolor\": \"#E1E5ED\", \"showgrid\": true, \"tickfont\": {\"color\": \"#4D5663\"}, \"title\": {\"font\": {\"color\": \"#4D5663\"}, \"text\": \"Frequency\"}, \"zerolinecolor\": \"#E1E5ED\"}},                        {\"showLink\": true, \"linkText\": \"Export to plot.ly\", \"plotlyServerURL\": \"https://plot.ly\", \"responsive\": true}                    ).then(function(){\n",
       "                            \n",
       "var gd = document.getElementById('69dd343e-4f2e-4c19-888b-404d15687375');\n",
       "var x = new MutationObserver(function (mutations, observer) {{\n",
       "        var display = window.getComputedStyle(gd).display;\n",
       "        if (!display || display === 'none') {{\n",
       "            console.log([gd, 'removed!']);\n",
       "            Plotly.purge(gd);\n",
       "            observer.disconnect();\n",
       "        }}\n",
       "}});\n",
       "\n",
       "// Listen for the removal of the full notebook cells\n",
       "var notebookContainer = gd.closest('#notebook-container');\n",
       "if (notebookContainer) {{\n",
       "    x.observe(notebookContainer, {childList: true});\n",
       "}}\n",
       "\n",
       "// Listen for the clearing of the current output cell\n",
       "var outputEl = gd.closest('.output');\n",
       "if (outputEl) {{\n",
       "    x.observe(outputEl, {childList: true});\n",
       "}}\n",
       "\n",
       "                        })                };                });            </script>        </div>"
      ]
     },
     "metadata": {},
     "output_type": "display_data"
    }
   ],
   "source": [
    "df['Aspartate_Aminotransferase'].iplot(kind='hist', color = 'red', xTitle = 'Aspartate_Aminotransferase', yTitle = 'Frequency', title = 'Distribution of Enzyme Aspartate_Aminotransferase')"
   ]
  },
  {
   "cell_type": "code",
   "execution_count": 45,
   "metadata": {
    "execution": {
     "iopub.execute_input": "2021-03-01T01:26:26.305352Z",
     "iopub.status.busy": "2021-03-01T01:26:26.290734Z",
     "iopub.status.idle": "2021-03-01T01:26:26.757409Z",
     "shell.execute_reply": "2021-03-01T01:26:26.756826Z"
    },
    "papermill": {
     "duration": 0.590424,
     "end_time": "2021-03-01T01:26:26.757553",
     "exception": false,
     "start_time": "2021-03-01T01:26:26.167129",
     "status": "completed"
    },
    "tags": []
   },
   "outputs": [
    {
     "data": {
      "image/png": "[encoded data removed]",
      "text/plain": [
       "<Figure size 360x360 with 1 Axes>"
      ]
     },
     "metadata": {},
     "output_type": "display_data"
    }
   ],
   "source": [
    "sns.lmplot(x='Alamine_Aminotransferase',y='Aspartate_Aminotransferase',data=df)\n",
    "plt.title('Correlation between Alamine_Aminotransferase & Aspartate_Aminotransferase')\n",
    "plt.xlim(0,250)\n",
    "plt.ylim(0,250)\n",
    "plt.show()"
   ]
  },
  {
   "cell_type": "code",
   "execution_count": 46,
   "metadata": {
    "execution": {
     "iopub.execute_input": "2021-03-01T01:26:26.973266Z",
     "iopub.status.busy": "2021-03-01T01:26:26.972209Z",
     "iopub.status.idle": "2021-03-01T01:26:26.977672Z",
     "shell.execute_reply": "2021-03-01T01:26:26.978251Z"
    },
    "papermill": {
     "duration": 0.116959,
     "end_time": "2021-03-01T01:26:26.978473",
     "exception": false,
     "start_time": "2021-03-01T01:26:26.861514",
     "status": "completed"
    },
    "tags": []
   },
   "outputs": [
    {
     "name": "stdout",
     "output_type": "stream",
     "text": [
      "Pearsons correlation: 0.792and p-value: 1.352081000919862e-126\n"
     ]
    }
   ],
   "source": [
    "coor, p_value = pearsonr(df['Alamine_Aminotransferase'], df['Aspartate_Aminotransferase']) \n",
    "print('Pearsons correlation: %.3f' % coor + 'and p-value: {}'.format(p_value)) "
   ]
  },
  {
   "cell_type": "markdown",
   "metadata": {
    "papermill": {
     "duration": 0.1071,
     "end_time": "2021-03-01T01:26:27.192590",
     "exception": false,
     "start_time": "2021-03-01T01:26:27.085490",
     "status": "completed"
    },
    "tags": []
   },
   "source": [
    "Taking into consideration the plot above and the pearson's correlation between Alamine Aminotransferase & Aspartate Aminotransferase, we conclude that there is a high, positive corellation  (about 79.2%)"
   ]
  },
  {
   "cell_type": "markdown",
   "metadata": {
    "papermill": {
     "duration": 0.104343,
     "end_time": "2021-03-01T01:26:27.404889",
     "exception": false,
     "start_time": "2021-03-01T01:26:27.300546",
     "status": "completed"
    },
    "tags": []
   },
   "source": [
    "### Albumin and Globulin Ratio & Albumin\n",
    "Two classes of proteins are found in the blood, albumin and globulin.\n",
    "\n",
    "Albumin is made by the liver and makes up about 60% of the total protein. Albumin keeps fluid from leaking out of blood vessels, nourishes tissues, and transports hormones, vitamins, drugs, and substances like calcium throughout the body.\n",
    "\n",
    "Globulins make up the remaining 40% of proteins in the blood. The globulins are a varied group of proteins, some produced by the liver and some by the immune system. They help fight infection and transport nutrients [[3]](https://labtestsonline.org/tests/total-protein-albumin-globulin-ag-ratio).\n",
    "\n",
    "Albumin (or albumin) is one of the two major protein fractions in the blood. Its main functions are to maintain bulking pressure and to transport bilirubin, fatty acids, drugs, hormones and other substances that are insoluble in water. Proteins are normally absorbed almost completely by the kidneys and are practically undetectable in the urine. Therefore, the presence of detectable albumin or protein in the urine is indicative of abnormal renal function [[4]](https://athenslab.gr/diagnostikes-exetaseis/alvoumini-32).\n",
    "\n"
   ]
  },
  {
   "cell_type": "code",
   "execution_count": 47,
   "metadata": {
    "execution": {
     "iopub.execute_input": "2021-03-01T01:26:27.725751Z",
     "iopub.status.busy": "2021-03-01T01:26:27.719795Z",
     "iopub.status.idle": "2021-03-01T01:26:28.000358Z",
     "shell.execute_reply": "2021-03-01T01:26:27.999618Z"
    },
    "papermill": {
     "duration": 0.490381,
     "end_time": "2021-03-01T01:26:28.000513",
     "exception": false,
     "start_time": "2021-03-01T01:26:27.510132",
     "status": "completed"
    },
    "tags": []
   },
   "outputs": [
    {
     "data": {
      "image/png": "[encoded data removed]",
      "text/plain": [
       "<Figure size 720x432 with 1 Axes>"
      ]
     },
     "metadata": {},
     "output_type": "display_data"
    }
   ],
   "source": [
    "plt.figure(figsize = (10,6))\n",
    "sns.scatterplot(x='Albumin_and_Globulin_Ratio',y='Albumin',hue = 'liver_disease',data=df, palette='Set2')\n",
    "plt.show()"
   ]
  },
  {
   "cell_type": "code",
   "execution_count": 48,
   "metadata": {
    "execution": {
     "iopub.execute_input": "2021-03-01T01:26:28.234561Z",
     "iopub.status.busy": "2021-03-01T01:26:28.226614Z",
     "iopub.status.idle": "2021-03-01T01:26:28.667418Z",
     "shell.execute_reply": "2021-03-01T01:26:28.666518Z"
    },
    "papermill": {
     "duration": 0.560211,
     "end_time": "2021-03-01T01:26:28.667572",
     "exception": false,
     "start_time": "2021-03-01T01:26:28.107361",
     "status": "completed"
    },
    "tags": []
   },
   "outputs": [
    {
     "data": {
      "image/png": "[encoded data removed]",
      "text/plain": [
       "<Figure size 360x360 with 1 Axes>"
      ]
     },
     "metadata": {},
     "output_type": "display_data"
    }
   ],
   "source": [
    "sns.lmplot(x='Albumin_and_Globulin_Ratio',y='Albumin',data=df, palette='Set2')\n",
    "plt.show()"
   ]
  },
  {
   "cell_type": "code",
   "execution_count": 49,
   "metadata": {
    "execution": {
     "iopub.execute_input": "2021-03-01T01:26:28.890653Z",
     "iopub.status.busy": "2021-03-01T01:26:28.889539Z",
     "iopub.status.idle": "2021-03-01T01:26:28.894446Z",
     "shell.execute_reply": "2021-03-01T01:26:28.894915Z"
    },
    "papermill": {
     "duration": 0.118602,
     "end_time": "2021-03-01T01:26:28.895130",
     "exception": false,
     "start_time": "2021-03-01T01:26:28.776528",
     "status": "completed"
    },
    "tags": []
   },
   "outputs": [
    {
     "name": "stdout",
     "output_type": "stream",
     "text": [
      "Pearsons correlation: 0.686and p-value: 1.941271213352861e-82\n"
     ]
    }
   ],
   "source": [
    "coor, p_value = pearsonr(df['Albumin'], df['Albumin_and_Globulin_Ratio']) \n",
    "print('Pearsons correlation: %.3f' % coor + \"and p-value: {}\".format(p_value)) "
   ]
  },
  {
   "cell_type": "markdown",
   "metadata": {
    "papermill": {
     "duration": 0.108348,
     "end_time": "2021-03-01T01:26:29.111388",
     "exception": false,
     "start_time": "2021-03-01T01:26:29.003040",
     "status": "completed"
    },
    "tags": []
   },
   "source": [
    "There is a positive corellation between Albumin and Globulin Ratio & Albumin (about 68.6%)\n",
    "### Total Proteins\n",
    "The total protein test measures the total amount albumin and globulin in your body. t may also be used if you have unexpected weight loss, fatigue, or the symptoms of a kidney or liver disease. This test will also look at the ratio of albumin to globulin in your blood. This is known as the “A/G ratio.” [[5]](https://www.healthline.com/health/total-protein#purpose). "
   ]
  },
  {
   "cell_type": "code",
   "execution_count": 50,
   "metadata": {
    "execution": {
     "iopub.execute_input": "2021-03-01T01:26:29.336300Z",
     "iopub.status.busy": "2021-03-01T01:26:29.335621Z",
     "iopub.status.idle": "2021-03-01T01:26:29.395186Z",
     "shell.execute_reply": "2021-03-01T01:26:29.395644Z"
    },
    "papermill": {
     "duration": 0.173387,
     "end_time": "2021-03-01T01:26:29.395840",
     "exception": false,
     "start_time": "2021-03-01T01:26:29.222453",
     "status": "completed"
    },
    "tags": []
   },
   "outputs": [
    {
     "data": {
      "application/vnd.plotly.v1+json": {
       "config": {
        "linkText": "Export to plot.ly",
        "plotlyServerURL": "https://plot.ly",
        "showLink": true
       },
       "data": [
        {
         "histfunc": "count",
         "histnorm": "",
         "marker": {
          "color": "rgba(219, 64, 82, 1.0)",
          "line": {
           "color": "#4D5663",
           "width": 1.3
          }
         },
         "name": "Total_Protiens",
         "opacity": 0.8,
         "orientation": "v",
         "type": "histogram",
         "x": [
          6.8,
          7.5,
          7.0,
          6.8,
          7.3,
          7.6,
          7.0,
          6.7,
          7.4,
          6.8,
          5.9,
          7.4,
          7.0,
          8.1,
          5.8,
          5.5,
          7.6,
          7.3,
          6.8,
          6.8,
          7.3,
          7.0,
          6.4,
          4.3,
          6.0,
          5.0,
          5.0,
          7.2,
          3.9,
          6.0,
          5.2,
          4.9,
          5.2,
          5.6,
          5.6,
          6.9,
          7.2,
          4.3,
          5.8,
          6.2,
          5.1,
          4.9,
          6.1,
          6.4,
          7.0,
          6.5,
          6.8,
          4.9,
          6.0,
          6.2,
          5.7,
          6.6,
          6.8,
          6.3,
          5.8,
          5.8,
          8.0,
          5.5,
          5.2,
          5.5,
          6.0,
          7.2,
          7.2,
          5.1,
          6.5,
          5.6,
          6.0,
          6.4,
          6.3,
          6.3,
          5.5,
          4.4,
          4.4,
          6.6,
          5.8,
          5.2,
          5.3,
          4.6,
          6.2,
          4.7,
          4.7,
          5.1,
          5.4,
          5.4,
          7.5,
          6.7,
          7.2,
          6.2,
          7.5,
          7.1,
          7.3,
          6.8,
          7.4,
          7.0,
          6.8,
          4.4,
          7.1,
          4.0,
          5.9,
          6.9,
          3.7,
          5.3,
          6.9,
          6.1,
          5.5,
          5.1,
          5.1,
          6.0,
          6.0,
          5.9,
          5.5,
          5.7,
          6.1,
          5.0,
          5.7,
          5.6,
          5.3,
          5.7,
          5.6,
          5.4,
          7.1,
          6.6,
          5.9,
          6.3,
          6.9,
          3.9,
          6.0,
          6.5,
          8.0,
          5.1,
          6.0,
          5.8,
          6.5,
          6.6,
          6.8,
          7.0,
          6.4,
          5.5,
          5.5,
          6.1,
          6.2,
          7.1,
          5.6,
          5.6,
          5.6,
          5.4,
          5.5,
          5.3,
          7.2,
          7.1,
          6.9,
          5.9,
          6.0,
          6.5,
          5.6,
          5.8,
          6.2,
          5.8,
          5.8,
          7.2,
          5.5,
          6.2,
          5.4,
          7.4,
          7.4,
          7.0,
          6.2,
          5.6,
          6.9,
          6.8,
          6.2,
          6.6,
          5.0,
          6.0,
          6.0,
          7.3,
          5.7,
          5.3,
          5.1,
          5.5,
          2.7,
          3.0,
          3.8,
          5.4,
          6.9,
          6.0,
          7.8,
          4.0,
          4.5,
          5.2,
          6.6,
          6.6,
          6.6,
          6.0,
          5.7,
          5.2,
          6.0,
          5.7,
          6.1,
          6.1,
          5.0,
          5.0,
          6.1,
          6.4,
          6.4,
          7.6,
          7.0,
          6.7,
          6.1,
          6.6,
          4.1,
          7.0,
          5.5,
          7.5,
          7.2,
          5.0,
          6.2,
          7.0,
          4.8,
          6.4,
          5.0,
          7.3,
          8.0,
          7.1,
          5.7,
          7.9,
          8.0,
          6.4,
          5.3,
          6.0,
          6.7,
          8.5,
          7.9,
          6.2,
          7.7,
          4.5,
          7.9,
          8.0,
          7.3,
          6.8,
          8.0,
          6.5,
          8.2,
          8.5,
          6.3,
          6.1,
          6.1,
          5.9,
          5.0,
          7.0,
          6.5,
          5.9,
          7.0,
          5.2,
          7.1,
          6.0,
          6.2,
          5.6,
          6.4,
          5.2,
          5.4,
          7.5,
          6.9,
          7.0,
          7.4,
          8.0,
          6.3,
          7.4,
          5.7,
          2.8,
          9.5,
          6.5,
          8.2,
          9.6,
          8.0,
          8.2,
          6.4,
          6.0,
          8.0,
          8.3,
          6.0,
          7.4,
          7.0,
          6.0,
          8.0,
          7.9,
          8.6,
          8.0,
          7.5,
          7.0,
          8.6,
          7.8,
          7.1,
          7.7,
          8.3,
          8.0,
          7.9,
          6.9,
          7.9,
          7.4,
          8.2,
          6.7,
          6.8,
          8.4,
          6.9,
          7.9,
          7.3,
          4.6,
          8.2,
          8.0,
          8.1,
          7.2,
          8.5,
          7.9,
          7.8,
          6.7,
          7.1,
          6.8,
          7.8,
          8.1,
          5.8,
          5.2,
          7.1,
          6.7,
          5.4,
          6.7,
          8.3,
          7.6,
          6.0,
          7.3,
          6.1,
          5.4,
          6.2,
          5.9,
          7.4,
          8.9,
          6.2,
          6.4,
          6.1,
          5.9,
          6.2,
          6.6,
          7.0,
          5.6,
          8.2,
          5.6,
          6.9,
          7.0,
          6.1,
          6.6,
          5.7,
          5.3,
          8.2,
          7.2,
          7.5,
          8.0,
          8.5,
          6.8,
          5.6,
          8.4,
          6.6,
          6.8,
          6.2,
          8.5,
          6.8,
          5.3,
          7.2,
          6.1,
          7.2,
          7.0,
          7.8,
          7.2,
          8.7,
          7.6,
          7.0,
          6.8,
          7.0,
          6.1,
          7.3,
          7.3,
          7.3,
          8.1,
          6.7,
          4.9,
          6.5,
          7.4,
          7.5,
          6.9,
          7.3,
          6.3,
          6.0,
          6.9,
          6.3,
          8.0,
          5.9,
          6.3,
          6.4,
          6.3,
          7.1,
          6.0,
          6.4,
          6.8,
          8.1,
          6.3,
          6.8,
          7.6,
          6.7,
          7.2,
          7.5,
          6.5,
          5.0,
          6.9,
          7.1,
          4.6,
          5.2,
          3.6,
          6.3,
          7.1,
          7.0,
          6.7,
          6.4,
          7.1,
          6.9,
          6.5,
          7.0,
          4.3,
          5.6,
          7.0,
          6.9,
          5.5,
          4.8,
          6.7,
          7.5,
          7.6,
          7.5,
          7.1,
          6.2,
          5.2,
          3.8,
          6.2,
          7.0,
          4.1,
          4.6,
          6.2,
          6.3,
          7.3,
          5.5,
          7.7,
          6.0,
          6.2,
          6.0,
          7.2,
          7.1,
          7.1,
          7.0,
          6.8,
          7.4,
          6.9,
          3.6,
          5.7,
          5.5,
          6.8,
          6.4,
          8.0,
          4.5,
          5.1,
          4.9,
          6.8,
          5.3,
          4.4,
          7.1,
          6.6,
          5.8,
          6.8,
          6.0,
          7.9,
          5.5,
          5.1,
          6.9,
          7.3,
          7.9,
          7.3,
          7.2,
          7.8,
          5.0,
          6.2,
          6.7,
          6.0,
          7.0,
          5.9,
          6.7,
          6.8,
          7.9,
          5.2,
          6.5,
          6.1,
          8.0,
          7.2,
          6.5,
          7.2,
          6.0,
          5.9,
          4.9,
          8.1,
          5.5,
          5.8,
          5.6,
          7.5,
          7.5,
          5.4,
          9.2,
          6.8,
          5.8,
          6.9,
          8.4,
          6.9,
          6.7,
          8.0,
          7.2,
          9.2,
          8.6,
          7.1,
          7.9,
          4.8,
          6.8,
          8.0,
          6.4,
          7.1,
          6.3,
          5.1,
          7.0,
          7.9,
          8.2,
          3.6,
          8.0,
          6.1,
          6.9,
          7.6,
          6.4,
          7.2,
          7.0,
          6.6,
          7.3,
          7.6,
          7.0,
          4.5,
          5.4,
          7.1,
          6.9,
          7.8,
          5.6,
          6.2,
          5.8,
          7.0,
          6.5,
          7.0,
          6.1,
          6.2,
          7.5,
          7.5,
          6.5,
          6.9,
          7.8,
          7.2,
          5.9,
          6.6,
          7.8,
          6.0,
          6.9,
          7.1,
          5.4,
          6.9,
          5.6,
          6.2,
          6.6,
          7.9,
          5.3,
          5.4,
          5.9,
          6.0,
          6.4,
          6.8,
          7.3
         ]
        }
       ],
       "layout": {
        "barmode": "overlay",
        "legend": {
         "bgcolor": "#F5F6F9",
         "font": {
          "color": "#4D5663"
         }
        },
        "paper_bgcolor": "#F5F6F9",
        "plot_bgcolor": "#F5F6F9",
        "template": {
         "data": {
          "bar": [
           {
            "error_x": {
             "color": "#2a3f5f"
            },
            "error_y": {
             "color": "#2a3f5f"
            },
            "marker": {
             "line": {
              "color": "#E5ECF6",
              "width": 0.5
             }
            },
            "type": "bar"
           }
          ],
          "barpolar": [
           {
            "marker": {
             "line": {
              "color": "#E5ECF6",
              "width": 0.5
             }
            },
            "type": "barpolar"
           }
          ],
          "carpet": [
           {
            "aaxis": {
             "endlinecolor": "#2a3f5f",
             "gridcolor": "white",
             "linecolor": "white",
             "minorgridcolor": "white",
             "startlinecolor": "#2a3f5f"
            },
            "baxis": {
             "endlinecolor": "#2a3f5f",
             "gridcolor": "white",
             "linecolor": "white",
             "minorgridcolor": "white",
             "startlinecolor": "#2a3f5f"
            },
            "type": "carpet"
           }
          ],
          "choropleth": [
           {
            "colorbar": {
             "outlinewidth": 0,
             "ticks": ""
            },
            "type": "choropleth"
           }
          ],
          "contour": [
           {
            "colorbar": {
             "outlinewidth": 0,
             "ticks": ""
            },
            "colorscale": [
             [
              0.0,
              "#0d0887"
             ],
             [
              0.1111111111111111,
              "#46039f"
             ],
             [
              0.2222222222222222,
              "#7201a8"
             ],
             [
              0.3333333333333333,
              "#9c179e"
             ],
             [
              0.4444444444444444,
              "#bd3786"
             ],
             [
              0.5555555555555556,
              "#d8576b"
             ],
             [
              0.6666666666666666,
              "#ed7953"
             ],
             [
              0.7777777777777778,
              "#fb9f3a"
             ],
             [
              0.8888888888888888,
              "#fdca26"
             ],
             [
              1.0,
              "#f0f921"
             ]
            ],
            "type": "contour"
           }
          ],
          "contourcarpet": [
           {
            "colorbar": {
             "outlinewidth": 0,
             "ticks": ""
            },
            "type": "contourcarpet"
           }
          ],
          "heatmap": [
           {
            "colorbar": {
             "outlinewidth": 0,
             "ticks": ""
            },
            "colorscale": [
             [
              0.0,
              "#0d0887"
             ],
             [
              0.1111111111111111,
              "#46039f"
             ],
             [
              0.2222222222222222,
              "#7201a8"
             ],
             [
              0.3333333333333333,
              "#9c179e"
             ],
             [
              0.4444444444444444,
              "#bd3786"
             ],
             [
              0.5555555555555556,
              "#d8576b"
             ],
             [
              0.6666666666666666,
              "#ed7953"
             ],
             [
              0.7777777777777778,
              "#fb9f3a"
             ],
             [
              0.8888888888888888,
              "#fdca26"
             ],
             [
              1.0,
              "#f0f921"
             ]
            ],
            "type": "heatmap"
           }
          ],
          "heatmapgl": [
           {
            "colorbar": {
             "outlinewidth": 0,
             "ticks": ""
            },
            "colorscale": [
             [
              0.0,
              "#0d0887"
             ],
             [
              0.1111111111111111,
              "#46039f"
             ],
             [
              0.2222222222222222,
              "#7201a8"
             ],
             [
              0.3333333333333333,
              "#9c179e"
             ],
             [
              0.4444444444444444,
              "#bd3786"
             ],
             [
              0.5555555555555556,
              "#d8576b"
             ],
             [
              0.6666666666666666,
              "#ed7953"
             ],
             [
              0.7777777777777778,
              "#fb9f3a"
             ],
             [
              0.8888888888888888,
              "#fdca26"
             ],
             [
              1.0,
              "#f0f921"
             ]
            ],
            "type": "heatmapgl"
           }
          ],
          "histogram": [
           {
            "marker": {
             "colorbar": {
              "outlinewidth": 0,
              "ticks": ""
             }
            },
            "type": "histogram"
           }
          ],
          "histogram2d": [
           {
            "colorbar": {
             "outlinewidth": 0,
             "ticks": ""
            },
            "colorscale": [
             [
              0.0,
              "#0d0887"
             ],
             [
              0.1111111111111111,
              "#46039f"
             ],
             [
              0.2222222222222222,
              "#7201a8"
             ],
             [
              0.3333333333333333,
              "#9c179e"
             ],
             [
              0.4444444444444444,
              "#bd3786"
             ],
             [
              0.5555555555555556,
              "#d8576b"
             ],
             [
              0.6666666666666666,
              "#ed7953"
             ],
             [
              0.7777777777777778,
              "#fb9f3a"
             ],
             [
              0.8888888888888888,
              "#fdca26"
             ],
             [
              1.0,
              "#f0f921"
             ]
            ],
            "type": "histogram2d"
           }
          ],
          "histogram2dcontour": [
           {
            "colorbar": {
             "outlinewidth": 0,
             "ticks": ""
            },
            "colorscale": [
             [
              0.0,
              "#0d0887"
             ],
             [
              0.1111111111111111,
              "#46039f"
             ],
             [
              0.2222222222222222,
              "#7201a8"
             ],
             [
              0.3333333333333333,
              "#9c179e"
             ],
             [
              0.4444444444444444,
              "#bd3786"
             ],
             [
              0.5555555555555556,
              "#d8576b"
             ],
             [
              0.6666666666666666,
              "#ed7953"
             ],
             [
              0.7777777777777778,
              "#fb9f3a"
             ],
             [
              0.8888888888888888,
              "#fdca26"
             ],
             [
              1.0,
              "#f0f921"
             ]
            ],
            "type": "histogram2dcontour"
           }
          ],
          "mesh3d": [
           {
            "colorbar": {
             "outlinewidth": 0,
             "ticks": ""
            },
            "type": "mesh3d"
           }
          ],
          "parcoords": [
           {
            "line": {
             "colorbar": {
              "outlinewidth": 0,
              "ticks": ""
             }
            },
            "type": "parcoords"
           }
          ],
          "pie": [
           {
            "automargin": true,
            "type": "pie"
           }
          ],
          "scatter": [
           {
            "marker": {
             "colorbar": {
              "outlinewidth": 0,
              "ticks": ""
             }
            },
            "type": "scatter"
           }
          ],
          "scatter3d": [
           {
            "line": {
             "colorbar": {
              "outlinewidth": 0,
              "ticks": ""
             }
            },
            "marker": {
             "colorbar": {
              "outlinewidth": 0,
              "ticks": ""
             }
            },
            "type": "scatter3d"
           }
          ],
          "scattercarpet": [
           {
            "marker": {
             "colorbar": {
              "outlinewidth": 0,
              "ticks": ""
             }
            },
            "type": "scattercarpet"
           }
          ],
          "scattergeo": [
           {
            "marker": {
             "colorbar": {
              "outlinewidth": 0,
              "ticks": ""
             }
            },
            "type": "scattergeo"
           }
          ],
          "scattergl": [
           {
            "marker": {
             "colorbar": {
              "outlinewidth": 0,
              "ticks": ""
             }
            },
            "type": "scattergl"
           }
          ],
          "scattermapbox": [
           {
            "marker": {
             "colorbar": {
              "outlinewidth": 0,
              "ticks": ""
             }
            },
            "type": "scattermapbox"
           }
          ],
          "scatterpolar": [
           {
            "marker": {
             "colorbar": {
              "outlinewidth": 0,
              "ticks": ""
             }
            },
            "type": "scatterpolar"
           }
          ],
          "scatterpolargl": [
           {
            "marker": {
             "colorbar": {
              "outlinewidth": 0,
              "ticks": ""
             }
            },
            "type": "scatterpolargl"
           }
          ],
          "scatterternary": [
           {
            "marker": {
             "colorbar": {
              "outlinewidth": 0,
              "ticks": ""
             }
            },
            "type": "scatterternary"
           }
          ],
          "surface": [
           {
            "colorbar": {
             "outlinewidth": 0,
             "ticks": ""
            },
            "colorscale": [
             [
              0.0,
              "#0d0887"
             ],
             [
              0.1111111111111111,
              "#46039f"
             ],
             [
              0.2222222222222222,
              "#7201a8"
             ],
             [
              0.3333333333333333,
              "#9c179e"
             ],
             [
              0.4444444444444444,
              "#bd3786"
             ],
             [
              0.5555555555555556,
              "#d8576b"
             ],
             [
              0.6666666666666666,
              "#ed7953"
             ],
             [
              0.7777777777777778,
              "#fb9f3a"
             ],
             [
              0.8888888888888888,
              "#fdca26"
             ],
             [
              1.0,
              "#f0f921"
             ]
            ],
            "type": "surface"
           }
          ],
          "table": [
           {
            "cells": {
             "fill": {
              "color": "#EBF0F8"
             },
             "line": {
              "color": "white"
             }
            },
            "header": {
             "fill": {
              "color": "#C8D4E3"
             },
             "line": {
              "color": "white"
             }
            },
            "type": "table"
           }
          ]
         },
         "layout": {
          "annotationdefaults": {
           "arrowcolor": "#2a3f5f",
           "arrowhead": 0,
           "arrowwidth": 1
          },
          "autotypenumbers": "strict",
          "coloraxis": {
           "colorbar": {
            "outlinewidth": 0,
            "ticks": ""
           }
          },
          "colorscale": {
           "diverging": [
            [
             0,
             "#8e0152"
            ],
            [
             0.1,
             "#c51b7d"
            ],
            [
             0.2,
             "#de77ae"
            ],
            [
             0.3,
             "#f1b6da"
            ],
            [
             0.4,
             "#fde0ef"
            ],
            [
             0.5,
             "#f7f7f7"
            ],
            [
             0.6,
             "#e6f5d0"
            ],
            [
             0.7,
             "#b8e186"
            ],
            [
             0.8,
             "#7fbc41"
            ],
            [
             0.9,
             "#4d9221"
            ],
            [
             1,
             "#276419"
            ]
           ],
           "sequential": [
            [
             0.0,
             "#0d0887"
            ],
            [
             0.1111111111111111,
             "#46039f"
            ],
            [
             0.2222222222222222,
             "#7201a8"
            ],
            [
             0.3333333333333333,
             "#9c179e"
            ],
            [
             0.4444444444444444,
             "#bd3786"
            ],
            [
             0.5555555555555556,
             "#d8576b"
            ],
            [
             0.6666666666666666,
             "#ed7953"
            ],
            [
             0.7777777777777778,
             "#fb9f3a"
            ],
            [
             0.8888888888888888,
             "#fdca26"
            ],
            [
             1.0,
             "#f0f921"
            ]
           ],
           "sequentialminus": [
            [
             0.0,
             "#0d0887"
            ],
            [
             0.1111111111111111,
             "#46039f"
            ],
            [
             0.2222222222222222,
             "#7201a8"
            ],
            [
             0.3333333333333333,
             "#9c179e"
            ],
            [
             0.4444444444444444,
             "#bd3786"
            ],
            [
             0.5555555555555556,
             "#d8576b"
            ],
            [
             0.6666666666666666,
             "#ed7953"
            ],
            [
             0.7777777777777778,
             "#fb9f3a"
            ],
            [
             0.8888888888888888,
             "#fdca26"
            ],
            [
             1.0,
             "#f0f921"
            ]
           ]
          },
          "colorway": [
           "#636efa",
           "#EF553B",
           "#00cc96",
           "#ab63fa",
           "#FFA15A",
           "#19d3f3",
           "#FF6692",
           "#B6E880",
           "#FF97FF",
           "#FECB52"
          ],
          "font": {
           "color": "#2a3f5f"
          },
          "geo": {
           "bgcolor": "white",
           "lakecolor": "white",
           "landcolor": "#E5ECF6",
           "showlakes": true,
           "showland": true,
           "subunitcolor": "white"
          },
          "hoverlabel": {
           "align": "left"
          },
          "hovermode": "closest",
          "mapbox": {
           "style": "light"
          },
          "paper_bgcolor": "white",
          "plot_bgcolor": "#E5ECF6",
          "polar": {
           "angularaxis": {
            "gridcolor": "white",
            "linecolor": "white",
            "ticks": ""
           },
           "bgcolor": "#E5ECF6",
           "radialaxis": {
            "gridcolor": "white",
            "linecolor": "white",
            "ticks": ""
           }
          },
          "scene": {
           "xaxis": {
            "backgroundcolor": "#E5ECF6",
            "gridcolor": "white",
            "gridwidth": 2,
            "linecolor": "white",
            "showbackground": true,
            "ticks": "",
            "zerolinecolor": "white"
           },
           "yaxis": {
            "backgroundcolor": "#E5ECF6",
            "gridcolor": "white",
            "gridwidth": 2,
            "linecolor": "white",
            "showbackground": true,
            "ticks": "",
            "zerolinecolor": "white"
           },
           "zaxis": {
            "backgroundcolor": "#E5ECF6",
            "gridcolor": "white",
            "gridwidth": 2,
            "linecolor": "white",
            "showbackground": true,
            "ticks": "",
            "zerolinecolor": "white"
           }
          },
          "shapedefaults": {
           "line": {
            "color": "#2a3f5f"
           }
          },
          "ternary": {
           "aaxis": {
            "gridcolor": "white",
            "linecolor": "white",
            "ticks": ""
           },
           "baxis": {
            "gridcolor": "white",
            "linecolor": "white",
            "ticks": ""
           },
           "bgcolor": "#E5ECF6",
           "caxis": {
            "gridcolor": "white",
            "linecolor": "white",
            "ticks": ""
           }
          },
          "title": {
           "x": 0.05
          },
          "xaxis": {
           "automargin": true,
           "gridcolor": "white",
           "linecolor": "white",
           "ticks": "",
           "title": {
            "standoff": 15
           },
           "zerolinecolor": "white",
           "zerolinewidth": 2
          },
          "yaxis": {
           "automargin": true,
           "gridcolor": "white",
           "linecolor": "white",
           "ticks": "",
           "title": {
            "standoff": 15
           },
           "zerolinecolor": "white",
           "zerolinewidth": 2
          }
         }
        },
        "title": {
         "font": {
          "color": "#4D5663"
         },
         "text": "Distribution of Total Proteins"
        },
        "xaxis": {
         "gridcolor": "#E1E5ED",
         "showgrid": true,
         "tickfont": {
          "color": "#4D5663"
         },
         "title": {
          "font": {
           "color": "#4D5663"
          },
          "text": "Total Proteins"
         },
         "zerolinecolor": "#E1E5ED"
        },
        "yaxis": {
         "gridcolor": "#E1E5ED",
         "showgrid": true,
         "tickfont": {
          "color": "#4D5663"
         },
         "title": {
          "font": {
           "color": "#4D5663"
          },
          "text": "Frequency"
         },
         "zerolinecolor": "#E1E5ED"
        }
       }
      },
      "text/html": [
       "<div>                            <div id=\"ddc4497b-ace4-43f3-bddb-897a46509740\" class=\"plotly-graph-div\" style=\"height:525px; width:100%;\"></div>            <script type=\"text/javascript\">                require([\"plotly\"], function(Plotly) {                    window.PLOTLYENV=window.PLOTLYENV || {};\n",
       "                    window.PLOTLYENV.BASE_URL='https://plot.ly';                                    if (document.getElementById(\"ddc4497b-ace4-43f3-bddb-897a46509740\")) {                    Plotly.newPlot(                        \"ddc4497b-ace4-43f3-bddb-897a46509740\",                        [{\"histfunc\": \"count\", \"histnorm\": \"\", \"marker\": {\"color\": \"rgba(219, 64, 82, 1.0)\", \"line\": {\"color\": \"#4D5663\", \"width\": 1.3}}, \"name\": \"Total_Protiens\", \"opacity\": 0.8, \"orientation\": \"v\", \"type\": \"histogram\", \"x\": [6.8, 7.5, 7.0, 6.8, 7.3, 7.6, 7.0, 6.7, 7.4, 6.8, 5.9, 7.4, 7.0, 8.1, 5.8, 5.5, 7.6, 7.3, 6.8, 6.8, 7.3, 7.0, 6.4, 4.3, 6.0, 5.0, 5.0, 7.2, 3.9, 6.0, 5.2, 4.9, 5.2, 5.6, 5.6, 6.9, 7.2, 4.3, 5.8, 6.2, 5.1, 4.9, 6.1, 6.4, 7.0, 6.5, 6.8, 4.9, 6.0, 6.2, 5.7, 6.6, 6.8, 6.3, 5.8, 5.8, 8.0, 5.5, 5.2, 5.5, 6.0, 7.2, 7.2, 5.1, 6.5, 5.6, 6.0, 6.4, 6.3, 6.3, 5.5, 4.4, 4.4, 6.6, 5.8, 5.2, 5.3, 4.6, 6.2, 4.7, 4.7, 5.1, 5.4, 5.4, 7.5, 6.7, 7.2, 6.2, 7.5, 7.1, 7.3, 6.8, 7.4, 7.0, 6.8, 4.4, 7.1, 4.0, 5.9, 6.9, 3.7, 5.3, 6.9, 6.1, 5.5, 5.1, 5.1, 6.0, 6.0, 5.9, 5.5, 5.7, 6.1, 5.0, 5.7, 5.6, 5.3, 5.7, 5.6, 5.4, 7.1, 6.6, 5.9, 6.3, 6.9, 3.9, 6.0, 6.5, 8.0, 5.1, 6.0, 5.8, 6.5, 6.6, 6.8, 7.0, 6.4, 5.5, 5.5, 6.1, 6.2, 7.1, 5.6, 5.6, 5.6, 5.4, 5.5, 5.3, 7.2, 7.1, 6.9, 5.9, 6.0, 6.5, 5.6, 5.8, 6.2, 5.8, 5.8, 7.2, 5.5, 6.2, 5.4, 7.4, 7.4, 7.0, 6.2, 5.6, 6.9, 6.8, 6.2, 6.6, 5.0, 6.0, 6.0, 7.3, 5.7, 5.3, 5.1, 5.5, 2.7, 3.0, 3.8, 5.4, 6.9, 6.0, 7.8, 4.0, 4.5, 5.2, 6.6, 6.6, 6.6, 6.0, 5.7, 5.2, 6.0, 5.7, 6.1, 6.1, 5.0, 5.0, 6.1, 6.4, 6.4, 7.6, 7.0, 6.7, 6.1, 6.6, 4.1, 7.0, 5.5, 7.5, 7.2, 5.0, 6.2, 7.0, 4.8, 6.4, 5.0, 7.3, 8.0, 7.1, 5.7, 7.9, 8.0, 6.4, 5.3, 6.0, 6.7, 8.5, 7.9, 6.2, 7.7, 4.5, 7.9, 8.0, 7.3, 6.8, 8.0, 6.5, 8.2, 8.5, 6.3, 6.1, 6.1, 5.9, 5.0, 7.0, 6.5, 5.9, 7.0, 5.2, 7.1, 6.0, 6.2, 5.6, 6.4, 5.2, 5.4, 7.5, 6.9, 7.0, 7.4, 8.0, 6.3, 7.4, 5.7, 2.8, 9.5, 6.5, 8.2, 9.6, 8.0, 8.2, 6.4, 6.0, 8.0, 8.3, 6.0, 7.4, 7.0, 6.0, 8.0, 7.9, 8.6, 8.0, 7.5, 7.0, 8.6, 7.8, 7.1, 7.7, 8.3, 8.0, 7.9, 6.9, 7.9, 7.4, 8.2, 6.7, 6.8, 8.4, 6.9, 7.9, 7.3, 4.6, 8.2, 8.0, 8.1, 7.2, 8.5, 7.9, 7.8, 6.7, 7.1, 6.8, 7.8, 8.1, 5.8, 5.2, 7.1, 6.7, 5.4, 6.7, 8.3, 7.6, 6.0, 7.3, 6.1, 5.4, 6.2, 5.9, 7.4, 8.9, 6.2, 6.4, 6.1, 5.9, 6.2, 6.6, 7.0, 5.6, 8.2, 5.6, 6.9, 7.0, 6.1, 6.6, 5.7, 5.3, 8.2, 7.2, 7.5, 8.0, 8.5, 6.8, 5.6, 8.4, 6.6, 6.8, 6.2, 8.5, 6.8, 5.3, 7.2, 6.1, 7.2, 7.0, 7.8, 7.2, 8.7, 7.6, 7.0, 6.8, 7.0, 6.1, 7.3, 7.3, 7.3, 8.1, 6.7, 4.9, 6.5, 7.4, 7.5, 6.9, 7.3, 6.3, 6.0, 6.9, 6.3, 8.0, 5.9, 6.3, 6.4, 6.3, 7.1, 6.0, 6.4, 6.8, 8.1, 6.3, 6.8, 7.6, 6.7, 7.2, 7.5, 6.5, 5.0, 6.9, 7.1, 4.6, 5.2, 3.6, 6.3, 7.1, 7.0, 6.7, 6.4, 7.1, 6.9, 6.5, 7.0, 4.3, 5.6, 7.0, 6.9, 5.5, 4.8, 6.7, 7.5, 7.6, 7.5, 7.1, 6.2, 5.2, 3.8, 6.2, 7.0, 4.1, 4.6, 6.2, 6.3, 7.3, 5.5, 7.7, 6.0, 6.2, 6.0, 7.2, 7.1, 7.1, 7.0, 6.8, 7.4, 6.9, 3.6, 5.7, 5.5, 6.8, 6.4, 8.0, 4.5, 5.1, 4.9, 6.8, 5.3, 4.4, 7.1, 6.6, 5.8, 6.8, 6.0, 7.9, 5.5, 5.1, 6.9, 7.3, 7.9, 7.3, 7.2, 7.8, 5.0, 6.2, 6.7, 6.0, 7.0, 5.9, 6.7, 6.8, 7.9, 5.2, 6.5, 6.1, 8.0, 7.2, 6.5, 7.2, 6.0, 5.9, 4.9, 8.1, 5.5, 5.8, 5.6, 7.5, 7.5, 5.4, 9.2, 6.8, 5.8, 6.9, 8.4, 6.9, 6.7, 8.0, 7.2, 9.2, 8.6, 7.1, 7.9, 4.8, 6.8, 8.0, 6.4, 7.1, 6.3, 5.1, 7.0, 7.9, 8.2, 3.6, 8.0, 6.1, 6.9, 7.6, 6.4, 7.2, 7.0, 6.6, 7.3, 7.6, 7.0, 4.5, 5.4, 7.1, 6.9, 7.8, 5.6, 6.2, 5.8, 7.0, 6.5, 7.0, 6.1, 6.2, 7.5, 7.5, 6.5, 6.9, 7.8, 7.2, 5.9, 6.6, 7.8, 6.0, 6.9, 7.1, 5.4, 6.9, 5.6, 6.2, 6.6, 7.9, 5.3, 5.4, 5.9, 6.0, 6.4, 6.8, 7.3]}],                        {\"barmode\": \"overlay\", \"legend\": {\"bgcolor\": \"#F5F6F9\", \"font\": {\"color\": \"#4D5663\"}}, \"paper_bgcolor\": \"#F5F6F9\", \"plot_bgcolor\": \"#F5F6F9\", \"template\": {\"data\": {\"bar\": [{\"error_x\": {\"color\": \"#2a3f5f\"}, \"error_y\": {\"color\": \"#2a3f5f\"}, \"marker\": {\"line\": {\"color\": \"#E5ECF6\", \"width\": 0.5}}, \"type\": \"bar\"}], \"barpolar\": [{\"marker\": {\"line\": {\"color\": \"#E5ECF6\", \"width\": 0.5}}, \"type\": \"barpolar\"}], \"carpet\": [{\"aaxis\": {\"endlinecolor\": \"#2a3f5f\", \"gridcolor\": \"white\", \"linecolor\": \"white\", \"minorgridcolor\": \"white\", \"startlinecolor\": \"#2a3f5f\"}, \"baxis\": {\"endlinecolor\": \"#2a3f5f\", \"gridcolor\": \"white\", \"linecolor\": \"white\", \"minorgridcolor\": \"white\", \"startlinecolor\": \"#2a3f5f\"}, \"type\": \"carpet\"}], \"choropleth\": [{\"colorbar\": {\"outlinewidth\": 0, \"ticks\": \"\"}, \"type\": \"choropleth\"}], \"contour\": [{\"colorbar\": {\"outlinewidth\": 0, \"ticks\": \"\"}, \"colorscale\": [[0.0, \"#0d0887\"], [0.1111111111111111, \"#46039f\"], [0.2222222222222222, \"#7201a8\"], [0.3333333333333333, \"#9c179e\"], [0.4444444444444444, \"#bd3786\"], [0.5555555555555556, \"#d8576b\"], [0.6666666666666666, \"#ed7953\"], [0.7777777777777778, \"#fb9f3a\"], [0.8888888888888888, \"#fdca26\"], [1.0, \"#f0f921\"]], \"type\": \"contour\"}], \"contourcarpet\": [{\"colorbar\": {\"outlinewidth\": 0, \"ticks\": \"\"}, \"type\": \"contourcarpet\"}], \"heatmap\": [{\"colorbar\": {\"outlinewidth\": 0, \"ticks\": \"\"}, \"colorscale\": [[0.0, \"#0d0887\"], [0.1111111111111111, \"#46039f\"], [0.2222222222222222, \"#7201a8\"], [0.3333333333333333, \"#9c179e\"], [0.4444444444444444, \"#bd3786\"], [0.5555555555555556, \"#d8576b\"], [0.6666666666666666, \"#ed7953\"], [0.7777777777777778, \"#fb9f3a\"], [0.8888888888888888, \"#fdca26\"], [1.0, \"#f0f921\"]], \"type\": \"heatmap\"}], \"heatmapgl\": [{\"colorbar\": {\"outlinewidth\": 0, \"ticks\": \"\"}, \"colorscale\": [[0.0, \"#0d0887\"], [0.1111111111111111, \"#46039f\"], [0.2222222222222222, \"#7201a8\"], [0.3333333333333333, \"#9c179e\"], [0.4444444444444444, \"#bd3786\"], [0.5555555555555556, \"#d8576b\"], [0.6666666666666666, \"#ed7953\"], [0.7777777777777778, \"#fb9f3a\"], [0.8888888888888888, \"#fdca26\"], [1.0, \"#f0f921\"]], \"type\": \"heatmapgl\"}], \"histogram\": [{\"marker\": {\"colorbar\": {\"outlinewidth\": 0, \"ticks\": \"\"}}, \"type\": \"histogram\"}], \"histogram2d\": [{\"colorbar\": {\"outlinewidth\": 0, \"ticks\": \"\"}, \"colorscale\": [[0.0, \"#0d0887\"], [0.1111111111111111, \"#46039f\"], [0.2222222222222222, \"#7201a8\"], [0.3333333333333333, \"#9c179e\"], [0.4444444444444444, \"#bd3786\"], [0.5555555555555556, \"#d8576b\"], [0.6666666666666666, \"#ed7953\"], [0.7777777777777778, \"#fb9f3a\"], [0.8888888888888888, \"#fdca26\"], [1.0, \"#f0f921\"]], \"type\": \"histogram2d\"}], \"histogram2dcontour\": [{\"colorbar\": {\"outlinewidth\": 0, \"ticks\": \"\"}, \"colorscale\": [[0.0, \"#0d0887\"], [0.1111111111111111, \"#46039f\"], [0.2222222222222222, \"#7201a8\"], [0.3333333333333333, \"#9c179e\"], [0.4444444444444444, \"#bd3786\"], [0.5555555555555556, \"#d8576b\"], [0.6666666666666666, \"#ed7953\"], [0.7777777777777778, \"#fb9f3a\"], [0.8888888888888888, \"#fdca26\"], [1.0, \"#f0f921\"]], \"type\": \"histogram2dcontour\"}], \"mesh3d\": [{\"colorbar\": {\"outlinewidth\": 0, \"ticks\": \"\"}, \"type\": \"mesh3d\"}], \"parcoords\": [{\"line\": {\"colorbar\": {\"outlinewidth\": 0, \"ticks\": \"\"}}, \"type\": \"parcoords\"}], \"pie\": [{\"automargin\": true, \"type\": \"pie\"}], \"scatter\": [{\"marker\": {\"colorbar\": {\"outlinewidth\": 0, \"ticks\": \"\"}}, \"type\": \"scatter\"}], \"scatter3d\": [{\"line\": {\"colorbar\": {\"outlinewidth\": 0, \"ticks\": \"\"}}, \"marker\": {\"colorbar\": {\"outlinewidth\": 0, \"ticks\": \"\"}}, \"type\": \"scatter3d\"}], \"scattercarpet\": [{\"marker\": {\"colorbar\": {\"outlinewidth\": 0, \"ticks\": \"\"}}, \"type\": \"scattercarpet\"}], \"scattergeo\": [{\"marker\": {\"colorbar\": {\"outlinewidth\": 0, \"ticks\": \"\"}}, \"type\": \"scattergeo\"}], \"scattergl\": [{\"marker\": {\"colorbar\": {\"outlinewidth\": 0, \"ticks\": \"\"}}, \"type\": \"scattergl\"}], \"scattermapbox\": [{\"marker\": {\"colorbar\": {\"outlinewidth\": 0, \"ticks\": \"\"}}, \"type\": \"scattermapbox\"}], \"scatterpolar\": [{\"marker\": {\"colorbar\": {\"outlinewidth\": 0, \"ticks\": \"\"}}, \"type\": \"scatterpolar\"}], \"scatterpolargl\": [{\"marker\": {\"colorbar\": {\"outlinewidth\": 0, \"ticks\": \"\"}}, \"type\": \"scatterpolargl\"}], \"scatterternary\": [{\"marker\": {\"colorbar\": {\"outlinewidth\": 0, \"ticks\": \"\"}}, \"type\": \"scatterternary\"}], \"surface\": [{\"colorbar\": {\"outlinewidth\": 0, \"ticks\": \"\"}, \"colorscale\": [[0.0, \"#0d0887\"], [0.1111111111111111, \"#46039f\"], [0.2222222222222222, \"#7201a8\"], [0.3333333333333333, \"#9c179e\"], [0.4444444444444444, \"#bd3786\"], [0.5555555555555556, \"#d8576b\"], [0.6666666666666666, \"#ed7953\"], [0.7777777777777778, \"#fb9f3a\"], [0.8888888888888888, \"#fdca26\"], [1.0, \"#f0f921\"]], \"type\": \"surface\"}], \"table\": [{\"cells\": {\"fill\": {\"color\": \"#EBF0F8\"}, \"line\": {\"color\": \"white\"}}, \"header\": {\"fill\": {\"color\": \"#C8D4E3\"}, \"line\": {\"color\": \"white\"}}, \"type\": \"table\"}]}, \"layout\": {\"annotationdefaults\": {\"arrowcolor\": \"#2a3f5f\", \"arrowhead\": 0, \"arrowwidth\": 1}, \"autotypenumbers\": \"strict\", \"coloraxis\": {\"colorbar\": {\"outlinewidth\": 0, \"ticks\": \"\"}}, \"colorscale\": {\"diverging\": [[0, \"#8e0152\"], [0.1, \"#c51b7d\"], [0.2, \"#de77ae\"], [0.3, \"#f1b6da\"], [0.4, \"#fde0ef\"], [0.5, \"#f7f7f7\"], [0.6, \"#e6f5d0\"], [0.7, \"#b8e186\"], [0.8, \"#7fbc41\"], [0.9, \"#4d9221\"], [1, \"#276419\"]], \"sequential\": [[0.0, \"#0d0887\"], [0.1111111111111111, \"#46039f\"], [0.2222222222222222, \"#7201a8\"], [0.3333333333333333, \"#9c179e\"], [0.4444444444444444, \"#bd3786\"], [0.5555555555555556, \"#d8576b\"], [0.6666666666666666, \"#ed7953\"], [0.7777777777777778, \"#fb9f3a\"], [0.8888888888888888, \"#fdca26\"], [1.0, \"#f0f921\"]], \"sequentialminus\": [[0.0, \"#0d0887\"], [0.1111111111111111, \"#46039f\"], [0.2222222222222222, \"#7201a8\"], [0.3333333333333333, \"#9c179e\"], [0.4444444444444444, \"#bd3786\"], [0.5555555555555556, \"#d8576b\"], [0.6666666666666666, \"#ed7953\"], [0.7777777777777778, \"#fb9f3a\"], [0.8888888888888888, \"#fdca26\"], [1.0, \"#f0f921\"]]}, \"colorway\": [\"#636efa\", \"#EF553B\", \"#00cc96\", \"#ab63fa\", \"#FFA15A\", \"#19d3f3\", \"#FF6692\", \"#B6E880\", \"#FF97FF\", \"#FECB52\"], \"font\": {\"color\": \"#2a3f5f\"}, \"geo\": {\"bgcolor\": \"white\", \"lakecolor\": \"white\", \"landcolor\": \"#E5ECF6\", \"showlakes\": true, \"showland\": true, \"subunitcolor\": \"white\"}, \"hoverlabel\": {\"align\": \"left\"}, \"hovermode\": \"closest\", \"mapbox\": {\"style\": \"light\"}, \"paper_bgcolor\": \"white\", \"plot_bgcolor\": \"#E5ECF6\", \"polar\": {\"angularaxis\": {\"gridcolor\": \"white\", \"linecolor\": \"white\", \"ticks\": \"\"}, \"bgcolor\": \"#E5ECF6\", \"radialaxis\": {\"gridcolor\": \"white\", \"linecolor\": \"white\", \"ticks\": \"\"}}, \"scene\": {\"xaxis\": {\"backgroundcolor\": \"#E5ECF6\", \"gridcolor\": \"white\", \"gridwidth\": 2, \"linecolor\": \"white\", \"showbackground\": true, \"ticks\": \"\", \"zerolinecolor\": \"white\"}, \"yaxis\": {\"backgroundcolor\": \"#E5ECF6\", \"gridcolor\": \"white\", \"gridwidth\": 2, \"linecolor\": \"white\", \"showbackground\": true, \"ticks\": \"\", \"zerolinecolor\": \"white\"}, \"zaxis\": {\"backgroundcolor\": \"#E5ECF6\", \"gridcolor\": \"white\", \"gridwidth\": 2, \"linecolor\": \"white\", \"showbackground\": true, \"ticks\": \"\", \"zerolinecolor\": \"white\"}}, \"shapedefaults\": {\"line\": {\"color\": \"#2a3f5f\"}}, \"ternary\": {\"aaxis\": {\"gridcolor\": \"white\", \"linecolor\": \"white\", \"ticks\": \"\"}, \"baxis\": {\"gridcolor\": \"white\", \"linecolor\": \"white\", \"ticks\": \"\"}, \"bgcolor\": \"#E5ECF6\", \"caxis\": {\"gridcolor\": \"white\", \"linecolor\": \"white\", \"ticks\": \"\"}}, \"title\": {\"x\": 0.05}, \"xaxis\": {\"automargin\": true, \"gridcolor\": \"white\", \"linecolor\": \"white\", \"ticks\": \"\", \"title\": {\"standoff\": 15}, \"zerolinecolor\": \"white\", \"zerolinewidth\": 2}, \"yaxis\": {\"automargin\": true, \"gridcolor\": \"white\", \"linecolor\": \"white\", \"ticks\": \"\", \"title\": {\"standoff\": 15}, \"zerolinecolor\": \"white\", \"zerolinewidth\": 2}}}, \"title\": {\"font\": {\"color\": \"#4D5663\"}, \"text\": \"Distribution of Total Proteins\"}, \"xaxis\": {\"gridcolor\": \"#E1E5ED\", \"showgrid\": true, \"tickfont\": {\"color\": \"#4D5663\"}, \"title\": {\"font\": {\"color\": \"#4D5663\"}, \"text\": \"Total Proteins\"}, \"zerolinecolor\": \"#E1E5ED\"}, \"yaxis\": {\"gridcolor\": \"#E1E5ED\", \"showgrid\": true, \"tickfont\": {\"color\": \"#4D5663\"}, \"title\": {\"font\": {\"color\": \"#4D5663\"}, \"text\": \"Frequency\"}, \"zerolinecolor\": \"#E1E5ED\"}},                        {\"showLink\": true, \"linkText\": \"Export to plot.ly\", \"plotlyServerURL\": \"https://plot.ly\", \"responsive\": true}                    ).then(function(){\n",
       "                            \n",
       "var gd = document.getElementById('ddc4497b-ace4-43f3-bddb-897a46509740');\n",
       "var x = new MutationObserver(function (mutations, observer) {{\n",
       "        var display = window.getComputedStyle(gd).display;\n",
       "        if (!display || display === 'none') {{\n",
       "            console.log([gd, 'removed!']);\n",
       "            Plotly.purge(gd);\n",
       "            observer.disconnect();\n",
       "        }}\n",
       "}});\n",
       "\n",
       "// Listen for the removal of the full notebook cells\n",
       "var notebookContainer = gd.closest('#notebook-container');\n",
       "if (notebookContainer) {{\n",
       "    x.observe(notebookContainer, {childList: true});\n",
       "}}\n",
       "\n",
       "// Listen for the clearing of the current output cell\n",
       "var outputEl = gd.closest('.output');\n",
       "if (outputEl) {{\n",
       "    x.observe(outputEl, {childList: true});\n",
       "}}\n",
       "\n",
       "                        })                };                });            </script>        </div>"
      ]
     },
     "metadata": {},
     "output_type": "display_data"
    }
   ],
   "source": [
    "df['Total_Protiens'].iplot(kind = 'hist', color = 'red', xTitle = 'Total Proteins', yTitle = 'Frequency', title = 'Distribution of Total Proteins')"
   ]
  },
  {
   "cell_type": "markdown",
   "metadata": {
    "papermill": {
     "duration": 0.115118,
     "end_time": "2021-03-01T01:26:29.626523",
     "exception": false,
     "start_time": "2021-03-01T01:26:29.511405",
     "status": "completed"
    },
    "tags": []
   },
   "source": [
    "### Total Proteins & Albumin"
   ]
  },
  {
   "cell_type": "code",
   "execution_count": 51,
   "metadata": {
    "execution": {
     "iopub.execute_input": "2021-03-01T01:26:29.866325Z",
     "iopub.status.busy": "2021-03-01T01:26:29.865269Z",
     "iopub.status.idle": "2021-03-01T01:26:30.189948Z",
     "shell.execute_reply": "2021-03-01T01:26:30.190532Z"
    },
    "papermill": {
     "duration": 0.444645,
     "end_time": "2021-03-01T01:26:30.190748",
     "exception": false,
     "start_time": "2021-03-01T01:26:29.746103",
     "status": "completed"
    },
    "tags": []
   },
   "outputs": [
    {
     "data": {
      "image/png": "[encoded data removed]",
      "text/plain": [
       "<Figure size 936x432 with 1 Axes>"
      ]
     },
     "metadata": {},
     "output_type": "display_data"
    }
   ],
   "source": [
    "plt.figure(figsize = (13,6))\n",
    "sns.scatterplot(x='Albumin',y='Total_Protiens',hue = 'liver_disease',data=df, palette='Set2')\n",
    "plt.show()"
   ]
  },
  {
   "cell_type": "code",
   "execution_count": 52,
   "metadata": {
    "execution": {
     "iopub.execute_input": "2021-03-01T01:26:30.603222Z",
     "iopub.status.busy": "2021-03-01T01:26:30.602468Z",
     "iopub.status.idle": "2021-03-01T01:26:31.050209Z",
     "shell.execute_reply": "2021-03-01T01:26:31.049626Z"
    },
    "papermill": {
     "duration": 0.738489,
     "end_time": "2021-03-01T01:26:31.050367",
     "exception": false,
     "start_time": "2021-03-01T01:26:30.311878",
     "status": "completed"
    },
    "tags": []
   },
   "outputs": [
    {
     "data": {
      "image/png": "[encoded data removed]",
      "text/plain": [
       "<Figure size 360x360 with 1 Axes>"
      ]
     },
     "metadata": {},
     "output_type": "display_data"
    }
   ],
   "source": [
    "sns.lmplot(x = 'Albumin', y = 'Total_Protiens', data = df)\n",
    "plt.show()"
   ]
  },
  {
   "cell_type": "code",
   "execution_count": 53,
   "metadata": {
    "execution": {
     "iopub.execute_input": "2021-03-01T01:26:31.297241Z",
     "iopub.status.busy": "2021-03-01T01:26:31.296466Z",
     "iopub.status.idle": "2021-03-01T01:26:31.300827Z",
     "shell.execute_reply": "2021-03-01T01:26:31.300076Z"
    },
    "papermill": {
     "duration": 0.131337,
     "end_time": "2021-03-01T01:26:31.300974",
     "exception": false,
     "start_time": "2021-03-01T01:26:31.169637",
     "status": "completed"
    },
    "tags": []
   },
   "outputs": [
    {
     "name": "stdout",
     "output_type": "stream",
     "text": [
      "Pearsons correlation: 0.784\n"
     ]
    }
   ],
   "source": [
    "coor, _ = pearsonr(df['Total_Protiens'], df['Albumin']) \n",
    "print('Pearsons correlation: %.3f' % coor) "
   ]
  },
  {
   "cell_type": "markdown",
   "metadata": {
    "papermill": {
     "duration": 0.119955,
     "end_time": "2021-03-01T01:26:31.542554",
     "exception": false,
     "start_time": "2021-03-01T01:26:31.422599",
     "status": "completed"
    },
    "tags": []
   },
   "source": [
    "### Total Proteins & Albumin_and_Globulin_Ratio"
   ]
  },
  {
   "cell_type": "code",
   "execution_count": 54,
   "metadata": {
    "execution": {
     "iopub.execute_input": "2021-03-01T01:26:31.808457Z",
     "iopub.status.busy": "2021-03-01T01:26:31.807407Z",
     "iopub.status.idle": "2021-03-01T01:26:32.256768Z",
     "shell.execute_reply": "2021-03-01T01:26:32.256088Z"
    },
    "papermill": {
     "duration": 0.59424,
     "end_time": "2021-03-01T01:26:32.256919",
     "exception": false,
     "start_time": "2021-03-01T01:26:31.662679",
     "status": "completed"
    },
    "tags": []
   },
   "outputs": [
    {
     "data": {
      "text/plain": [
       "<seaborn.axisgrid.FacetGrid at 0x7f62e3f4f150>"
      ]
     },
     "execution_count": 54,
     "metadata": {},
     "output_type": "execute_result"
    },
    {
     "data": {
      "image/png": "[encoded data removed]",
      "text/plain": [
       "<Figure size 360x360 with 1 Axes>"
      ]
     },
     "metadata": {},
     "output_type": "display_data"
    }
   ],
   "source": [
    "sns.lmplot(x = 'Total_Protiens', y = 'Albumin_and_Globulin_Ratio', data = df)"
   ]
  },
  {
   "cell_type": "code",
   "execution_count": 55,
   "metadata": {
    "execution": {
     "iopub.execute_input": "2021-03-01T01:26:32.509336Z",
     "iopub.status.busy": "2021-03-01T01:26:32.508525Z",
     "iopub.status.idle": "2021-03-01T01:26:32.512369Z",
     "shell.execute_reply": "2021-03-01T01:26:32.513423Z"
    },
    "papermill": {
     "duration": 0.134077,
     "end_time": "2021-03-01T01:26:32.513725",
     "exception": false,
     "start_time": "2021-03-01T01:26:32.379648",
     "status": "completed"
    },
    "tags": []
   },
   "outputs": [
    {
     "name": "stdout",
     "output_type": "stream",
     "text": [
      "Pearsons correlation: 0.234\n"
     ]
    }
   ],
   "source": [
    "coor, _ = pearsonr(df['Total_Protiens'], df['Albumin_and_Globulin_Ratio']) \n",
    "print('Pearsons correlation: %.3f' % coor) "
   ]
  },
  {
   "cell_type": "markdown",
   "metadata": {
    "papermill": {
     "duration": 0.121558,
     "end_time": "2021-03-01T01:26:32.759274",
     "exception": false,
     "start_time": "2021-03-01T01:26:32.637716",
     "status": "completed"
    },
    "tags": []
   },
   "source": [
    "The is a slight positive correlation\n",
    "### Alkaline Phosphotase\n",
    " Alkaline Phosphotase (Alkaline Phospatase – ALP) is a homodimeric protein enzyme"
   ]
  },
  {
   "cell_type": "code",
   "execution_count": 56,
   "metadata": {
    "execution": {
     "iopub.execute_input": "2021-03-01T01:26:33.010277Z",
     "iopub.status.busy": "2021-03-01T01:26:33.009595Z",
     "iopub.status.idle": "2021-03-01T01:26:33.076266Z",
     "shell.execute_reply": "2021-03-01T01:26:33.075530Z"
    },
    "papermill": {
     "duration": 0.19531,
     "end_time": "2021-03-01T01:26:33.076441",
     "exception": false,
     "start_time": "2021-03-01T01:26:32.881131",
     "status": "completed"
    },
    "tags": []
   },
   "outputs": [
    {
     "data": {
      "application/vnd.plotly.v1+json": {
       "config": {
        "linkText": "Export to plot.ly",
        "plotlyServerURL": "https://plot.ly",
        "showLink": true
       },
       "data": [
        {
         "histfunc": "count",
         "histnorm": "",
         "marker": {
          "color": "rgba(219, 64, 82, 1.0)",
          "line": {
           "color": "#4D5663",
           "width": 1.3
          }
         },
         "name": "Alkaline_Phosphotase",
         "opacity": 0.8,
         "orientation": "v",
         "type": "histogram",
         "x": [
          187,
          699,
          490,
          182,
          195,
          208,
          154,
          202,
          202,
          290,
          210,
          260,
          310,
          214,
          145,
          183,
          342,
          165,
          293,
          293,
          610,
          482,
          542,
          231,
          194,
          289,
          289,
          240,
          128,
          188,
          190,
          156,
          187,
          410,
          410,
          482,
          145,
          374,
          263,
          275,
          168,
          160,
          630,
          415,
          208,
          275,
          150,
          230,
          176,
          206,
          170,
          161,
          253,
          198,
          272,
          272,
          198,
          175,
          367,
          145,
          158,
          158,
          158,
          208,
          259,
          470,
          195,
          215,
          239,
          215,
          186,
          188,
          205,
          171,
          145,
          162,
          518,
          1620,
          146,
          670,
          915,
          75,
          148,
          258,
          237,
          269,
          320,
          298,
          538,
          238,
          214,
          308,
          298,
          204,
          168,
          282,
          298,
          215,
          265,
          312,
          161,
          243,
          224,
          225,
          170,
          145,
          145,
          158,
          158,
          486,
          188,
          257,
          179,
          272,
          661,
          1580,
          1630,
          194,
          280,
          298,
          300,
          290,
          188,
          178,
          177,
          201,
          802,
          248,
          1896,
          263,
          512,
          237,
          199,
          238,
          178,
          1110,
          310,
          282,
          282,
          380,
          186,
          159,
          332,
          332,
          189,
          201,
          168,
          392,
          202,
          286,
          180,
          218,
          182,
          178,
          290,
          298,
          462,
          196,
          196,
          282,
          750,
          1050,
          599,
          180,
          180,
          282,
          332,
          292,
          962,
          950,
          200,
          298,
          750,
          175,
          175,
          198,
          482,
          1020,
          562,
          386,
          250,
          218,
          170,
          171,
          201,
          298,
          750,
          191,
          614,
          218,
          314,
          257,
          272,
          206,
          209,
          1124,
          664,
          142,
          169,
          1420,
          218,
          218,
          145,
          142,
          135,
          163,
          285,
          350,
          220,
          189,
          190,
          219,
          160,
          401,
          180,
          100,
          116,
          159,
          289,
          125,
          147,
          192,
          265,
          175,
          400,
          120,
          173,
          186,
          202,
          290,
          196,
          282,
          157,
          2110,
          285,
          360,
          300,
          158,
          190,
          196,
          165,
          230,
          205,
          316,
          218,
          290,
          272,
          190,
          202,
          498,
          480,
          680,
          258,
          180,
          152,
          859,
          901,
          335,
          182,
          285,
          245,
          505,
          228,
          185,
          247,
          348,
          195,
          140,
          358,
          110,
          235,
          460,
          380,
          262,
          196,
          180,
          190,
          190,
          209,
          144,
          123,
          192,
          188,
          316,
          300,
          575,
          192,
          155,
          239,
          315,
          250,
          174,
          245,
          191,
          340,
          202,
          234,
          159,
          190,
          195,
          180,
          280,
          430,
          206,
          155,
          195,
          588,
          174,
          165,
          527,
          175,
          574,
          106,
          158,
          195,
          179,
          182,
          198,
          216,
          310,
          63,
          198,
          205,
          302,
          171,
          158,
          358,
          174,
          192,
          211,
          157,
          210,
          258,
          152,
          350,
          182,
          458,
          375,
          405,
          215,
          206,
          650,
          198,
          198,
          195,
          230,
          115,
          216,
          358,
          158,
          145,
          195,
          144,
          621,
          150,
          178,
          256,
          205,
          176,
          146,
          218,
          182,
          215,
          165,
          183,
          176,
          418,
          271,
          182,
          130,
          558,
          135,
          326,
          140,
          145,
          206,
          168,
          202,
          192,
          185,
          331,
          188,
          172,
          159,
          490,
          152,
          105,
          160,
          160,
          102,
          148,
          162,
          149,
          580,
          310,
          140,
          175,
          152,
          208,
          205,
          162,
          92,
          162,
          199,
          198,
          215,
          180,
          719,
          554,
          555,
          215,
          509,
          190,
          208,
          260,
          690,
          862,
          592,
          450,
          1350,
          1350,
          163,
          246,
          178,
          240,
          100,
          166,
          170,
          194,
          1750,
          182,
          236,
          165,
          201,
          194,
          206,
          212,
          157,
          162,
          168,
          198,
          292,
          298,
          152,
          163,
          279,
          181,
          1550,
          142,
          173,
          282,
          279,
          1100,
          224,
          159,
          186,
          189,
          192,
          140,
          686,
          215,
          309,
          110,
          130,
          164,
          270,
          137,
          90,
          190,
          165,
          167,
          185,
          197,
          154,
          226,
          310,
          310,
          220,
          196,
          186,
          352,
          282,
          92,
          182,
          103,
          850,
          195,
          276,
          171,
          146,
          193,
          180,
          805,
          265,
          185,
          165,
          189,
          198,
          151,
          349,
          365,
          305,
          127,
          238,
          218,
          219,
          239,
          194,
          450,
          254,
          205,
          320,
          195,
          215,
          230,
          189,
          168,
          215,
          210,
          108,
          224,
          230,
          185,
          137,
          156,
          210,
          268,
          298,
          315,
          214,
          138,
          285,
          162,
          298,
          230,
          466,
          227,
          395,
          97,
          406,
          114,
          198,
          173,
          204,
          350,
          153,
          188,
          380,
          214,
          768,
          172,
          160,
          196,
          232,
          220,
          290,
          180,
          189,
          275,
          390,
          356,
          315,
          388,
          298,
          165,
          143,
          191,
          251,
          200,
          268,
          236,
          215,
          134,
          612,
          515,
          560,
          289,
          190,
          500,
          98,
          245,
          184,
          216
         ]
        }
       ],
       "layout": {
        "barmode": "overlay",
        "legend": {
         "bgcolor": "#F5F6F9",
         "font": {
          "color": "#4D5663"
         }
        },
        "paper_bgcolor": "#F5F6F9",
        "plot_bgcolor": "#F5F6F9",
        "template": {
         "data": {
          "bar": [
           {
            "error_x": {
             "color": "#2a3f5f"
            },
            "error_y": {
             "color": "#2a3f5f"
            },
            "marker": {
             "line": {
              "color": "#E5ECF6",
              "width": 0.5
             }
            },
            "type": "bar"
           }
          ],
          "barpolar": [
           {
            "marker": {
             "line": {
              "color": "#E5ECF6",
              "width": 0.5
             }
            },
            "type": "barpolar"
           }
          ],
          "carpet": [
           {
            "aaxis": {
             "endlinecolor": "#2a3f5f",
             "gridcolor": "white",
             "linecolor": "white",
             "minorgridcolor": "white",
             "startlinecolor": "#2a3f5f"
            },
            "baxis": {
             "endlinecolor": "#2a3f5f",
             "gridcolor": "white",
             "linecolor": "white",
             "minorgridcolor": "white",
             "startlinecolor": "#2a3f5f"
            },
            "type": "carpet"
           }
          ],
          "choropleth": [
           {
            "colorbar": {
             "outlinewidth": 0,
             "ticks": ""
            },
            "type": "choropleth"
           }
          ],
          "contour": [
           {
            "colorbar": {
             "outlinewidth": 0,
             "ticks": ""
            },
            "colorscale": [
             [
              0.0,
              "#0d0887"
             ],
             [
              0.1111111111111111,
              "#46039f"
             ],
             [
              0.2222222222222222,
              "#7201a8"
             ],
             [
              0.3333333333333333,
              "#9c179e"
             ],
             [
              0.4444444444444444,
              "#bd3786"
             ],
             [
              0.5555555555555556,
              "#d8576b"
             ],
             [
              0.6666666666666666,
              "#ed7953"
             ],
             [
              0.7777777777777778,
              "#fb9f3a"
             ],
             [
              0.8888888888888888,
              "#fdca26"
             ],
             [
              1.0,
              "#f0f921"
             ]
            ],
            "type": "contour"
           }
          ],
          "contourcarpet": [
           {
            "colorbar": {
             "outlinewidth": 0,
             "ticks": ""
            },
            "type": "contourcarpet"
           }
          ],
          "heatmap": [
           {
            "colorbar": {
             "outlinewidth": 0,
             "ticks": ""
            },
            "colorscale": [
             [
              0.0,
              "#0d0887"
             ],
             [
              0.1111111111111111,
              "#46039f"
             ],
             [
              0.2222222222222222,
              "#7201a8"
             ],
             [
              0.3333333333333333,
              "#9c179e"
             ],
             [
              0.4444444444444444,
              "#bd3786"
             ],
             [
              0.5555555555555556,
              "#d8576b"
             ],
             [
              0.6666666666666666,
              "#ed7953"
             ],
             [
              0.7777777777777778,
              "#fb9f3a"
             ],
             [
              0.8888888888888888,
              "#fdca26"
             ],
             [
              1.0,
              "#f0f921"
             ]
            ],
            "type": "heatmap"
           }
          ],
          "heatmapgl": [
           {
            "colorbar": {
             "outlinewidth": 0,
             "ticks": ""
            },
            "colorscale": [
             [
              0.0,
              "#0d0887"
             ],
             [
              0.1111111111111111,
              "#46039f"
             ],
             [
              0.2222222222222222,
              "#7201a8"
             ],
             [
              0.3333333333333333,
              "#9c179e"
             ],
             [
              0.4444444444444444,
              "#bd3786"
             ],
             [
              0.5555555555555556,
              "#d8576b"
             ],
             [
              0.6666666666666666,
              "#ed7953"
             ],
             [
              0.7777777777777778,
              "#fb9f3a"
             ],
             [
              0.8888888888888888,
              "#fdca26"
             ],
             [
              1.0,
              "#f0f921"
             ]
            ],
            "type": "heatmapgl"
           }
          ],
          "histogram": [
           {
            "marker": {
             "colorbar": {
              "outlinewidth": 0,
              "ticks": ""
             }
            },
            "type": "histogram"
           }
          ],
          "histogram2d": [
           {
            "colorbar": {
             "outlinewidth": 0,
             "ticks": ""
            },
            "colorscale": [
             [
              0.0,
              "#0d0887"
             ],
             [
              0.1111111111111111,
              "#46039f"
             ],
             [
              0.2222222222222222,
              "#7201a8"
             ],
             [
              0.3333333333333333,
              "#9c179e"
             ],
             [
              0.4444444444444444,
              "#bd3786"
             ],
             [
              0.5555555555555556,
              "#d8576b"
             ],
             [
              0.6666666666666666,
              "#ed7953"
             ],
             [
              0.7777777777777778,
              "#fb9f3a"
             ],
             [
              0.8888888888888888,
              "#fdca26"
             ],
             [
              1.0,
              "#f0f921"
             ]
            ],
            "type": "histogram2d"
           }
          ],
          "histogram2dcontour": [
           {
            "colorbar": {
             "outlinewidth": 0,
             "ticks": ""
            },
            "colorscale": [
             [
              0.0,
              "#0d0887"
             ],
             [
              0.1111111111111111,
              "#46039f"
             ],
             [
              0.2222222222222222,
              "#7201a8"
             ],
             [
              0.3333333333333333,
              "#9c179e"
             ],
             [
              0.4444444444444444,
              "#bd3786"
             ],
             [
              0.5555555555555556,
              "#d8576b"
             ],
             [
              0.6666666666666666,
              "#ed7953"
             ],
             [
              0.7777777777777778,
              "#fb9f3a"
             ],
             [
              0.8888888888888888,
              "#fdca26"
             ],
             [
              1.0,
              "#f0f921"
             ]
            ],
            "type": "histogram2dcontour"
           }
          ],
          "mesh3d": [
           {
            "colorbar": {
             "outlinewidth": 0,
             "ticks": ""
            },
            "type": "mesh3d"
           }
          ],
          "parcoords": [
           {
            "line": {
             "colorbar": {
              "outlinewidth": 0,
              "ticks": ""
             }
            },
            "type": "parcoords"
           }
          ],
          "pie": [
           {
            "automargin": true,
            "type": "pie"
           }
          ],
          "scatter": [
           {
            "marker": {
             "colorbar": {
              "outlinewidth": 0,
              "ticks": ""
             }
            },
            "type": "scatter"
           }
          ],
          "scatter3d": [
           {
            "line": {
             "colorbar": {
              "outlinewidth": 0,
              "ticks": ""
             }
            },
            "marker": {
             "colorbar": {
              "outlinewidth": 0,
              "ticks": ""
             }
            },
            "type": "scatter3d"
           }
          ],
          "scattercarpet": [
           {
            "marker": {
             "colorbar": {
              "outlinewidth": 0,
              "ticks": ""
             }
            },
            "type": "scattercarpet"
           }
          ],
          "scattergeo": [
           {
            "marker": {
             "colorbar": {
              "outlinewidth": 0,
              "ticks": ""
             }
            },
            "type": "scattergeo"
           }
          ],
          "scattergl": [
           {
            "marker": {
             "colorbar": {
              "outlinewidth": 0,
              "ticks": ""
             }
            },
            "type": "scattergl"
           }
          ],
          "scattermapbox": [
           {
            "marker": {
             "colorbar": {
              "outlinewidth": 0,
              "ticks": ""
             }
            },
            "type": "scattermapbox"
           }
          ],
          "scatterpolar": [
           {
            "marker": {
             "colorbar": {
              "outlinewidth": 0,
              "ticks": ""
             }
            },
            "type": "scatterpolar"
           }
          ],
          "scatterpolargl": [
           {
            "marker": {
             "colorbar": {
              "outlinewidth": 0,
              "ticks": ""
             }
            },
            "type": "scatterpolargl"
           }
          ],
          "scatterternary": [
           {
            "marker": {
             "colorbar": {
              "outlinewidth": 0,
              "ticks": ""
             }
            },
            "type": "scatterternary"
           }
          ],
          "surface": [
           {
            "colorbar": {
             "outlinewidth": 0,
             "ticks": ""
            },
            "colorscale": [
             [
              0.0,
              "#0d0887"
             ],
             [
              0.1111111111111111,
              "#46039f"
             ],
             [
              0.2222222222222222,
              "#7201a8"
             ],
             [
              0.3333333333333333,
              "#9c179e"
             ],
             [
              0.4444444444444444,
              "#bd3786"
             ],
             [
              0.5555555555555556,
              "#d8576b"
             ],
             [
              0.6666666666666666,
              "#ed7953"
             ],
             [
              0.7777777777777778,
              "#fb9f3a"
             ],
             [
              0.8888888888888888,
              "#fdca26"
             ],
             [
              1.0,
              "#f0f921"
             ]
            ],
            "type": "surface"
           }
          ],
          "table": [
           {
            "cells": {
             "fill": {
              "color": "#EBF0F8"
             },
             "line": {
              "color": "white"
             }
            },
            "header": {
             "fill": {
              "color": "#C8D4E3"
             },
             "line": {
              "color": "white"
             }
            },
            "type": "table"
           }
          ]
         },
         "layout": {
          "annotationdefaults": {
           "arrowcolor": "#2a3f5f",
           "arrowhead": 0,
           "arrowwidth": 1
          },
          "autotypenumbers": "strict",
          "coloraxis": {
           "colorbar": {
            "outlinewidth": 0,
            "ticks": ""
           }
          },
          "colorscale": {
           "diverging": [
            [
             0,
             "#8e0152"
            ],
            [
             0.1,
             "#c51b7d"
            ],
            [
             0.2,
             "#de77ae"
            ],
            [
             0.3,
             "#f1b6da"
            ],
            [
             0.4,
             "#fde0ef"
            ],
            [
             0.5,
             "#f7f7f7"
            ],
            [
             0.6,
             "#e6f5d0"
            ],
            [
             0.7,
             "#b8e186"
            ],
            [
             0.8,
             "#7fbc41"
            ],
            [
             0.9,
             "#4d9221"
            ],
            [
             1,
             "#276419"
            ]
           ],
           "sequential": [
            [
             0.0,
             "#0d0887"
            ],
            [
             0.1111111111111111,
             "#46039f"
            ],
            [
             0.2222222222222222,
             "#7201a8"
            ],
            [
             0.3333333333333333,
             "#9c179e"
            ],
            [
             0.4444444444444444,
             "#bd3786"
            ],
            [
             0.5555555555555556,
             "#d8576b"
            ],
            [
             0.6666666666666666,
             "#ed7953"
            ],
            [
             0.7777777777777778,
             "#fb9f3a"
            ],
            [
             0.8888888888888888,
             "#fdca26"
            ],
            [
             1.0,
             "#f0f921"
            ]
           ],
           "sequentialminus": [
            [
             0.0,
             "#0d0887"
            ],
            [
             0.1111111111111111,
             "#46039f"
            ],
            [
             0.2222222222222222,
             "#7201a8"
            ],
            [
             0.3333333333333333,
             "#9c179e"
            ],
            [
             0.4444444444444444,
             "#bd3786"
            ],
            [
             0.5555555555555556,
             "#d8576b"
            ],
            [
             0.6666666666666666,
             "#ed7953"
            ],
            [
             0.7777777777777778,
             "#fb9f3a"
            ],
            [
             0.8888888888888888,
             "#fdca26"
            ],
            [
             1.0,
             "#f0f921"
            ]
           ]
          },
          "colorway": [
           "#636efa",
           "#EF553B",
           "#00cc96",
           "#ab63fa",
           "#FFA15A",
           "#19d3f3",
           "#FF6692",
           "#B6E880",
           "#FF97FF",
           "#FECB52"
          ],
          "font": {
           "color": "#2a3f5f"
          },
          "geo": {
           "bgcolor": "white",
           "lakecolor": "white",
           "landcolor": "#E5ECF6",
           "showlakes": true,
           "showland": true,
           "subunitcolor": "white"
          },
          "hoverlabel": {
           "align": "left"
          },
          "hovermode": "closest",
          "mapbox": {
           "style": "light"
          },
          "paper_bgcolor": "white",
          "plot_bgcolor": "#E5ECF6",
          "polar": {
           "angularaxis": {
            "gridcolor": "white",
            "linecolor": "white",
            "ticks": ""
           },
           "bgcolor": "#E5ECF6",
           "radialaxis": {
            "gridcolor": "white",
            "linecolor": "white",
            "ticks": ""
           }
          },
          "scene": {
           "xaxis": {
            "backgroundcolor": "#E5ECF6",
            "gridcolor": "white",
            "gridwidth": 2,
            "linecolor": "white",
            "showbackground": true,
            "ticks": "",
            "zerolinecolor": "white"
           },
           "yaxis": {
            "backgroundcolor": "#E5ECF6",
            "gridcolor": "white",
            "gridwidth": 2,
            "linecolor": "white",
            "showbackground": true,
            "ticks": "",
            "zerolinecolor": "white"
           },
           "zaxis": {
            "backgroundcolor": "#E5ECF6",
            "gridcolor": "white",
            "gridwidth": 2,
            "linecolor": "white",
            "showbackground": true,
            "ticks": "",
            "zerolinecolor": "white"
           }
          },
          "shapedefaults": {
           "line": {
            "color": "#2a3f5f"
           }
          },
          "ternary": {
           "aaxis": {
            "gridcolor": "white",
            "linecolor": "white",
            "ticks": ""
           },
           "baxis": {
            "gridcolor": "white",
            "linecolor": "white",
            "ticks": ""
           },
           "bgcolor": "#E5ECF6",
           "caxis": {
            "gridcolor": "white",
            "linecolor": "white",
            "ticks": ""
           }
          },
          "title": {
           "x": 0.05
          },
          "xaxis": {
           "automargin": true,
           "gridcolor": "white",
           "linecolor": "white",
           "ticks": "",
           "title": {
            "standoff": 15
           },
           "zerolinecolor": "white",
           "zerolinewidth": 2
          },
          "yaxis": {
           "automargin": true,
           "gridcolor": "white",
           "linecolor": "white",
           "ticks": "",
           "title": {
            "standoff": 15
           },
           "zerolinecolor": "white",
           "zerolinewidth": 2
          }
         }
        },
        "title": {
         "font": {
          "color": "#4D5663"
         },
         "text": "Distribution of Alkaline Phosphotase"
        },
        "xaxis": {
         "gridcolor": "#E1E5ED",
         "showgrid": true,
         "tickfont": {
          "color": "#4D5663"
         },
         "title": {
          "font": {
           "color": "#4D5663"
          },
          "text": "Alkaline_Phosphotase"
         },
         "zerolinecolor": "#E1E5ED"
        },
        "yaxis": {
         "gridcolor": "#E1E5ED",
         "showgrid": true,
         "tickfont": {
          "color": "#4D5663"
         },
         "title": {
          "font": {
           "color": "#4D5663"
          },
          "text": "Frequency"
         },
         "zerolinecolor": "#E1E5ED"
        }
       }
      },
      "text/html": [
       "<div>                            <div id=\"e2ab99a5-5c0e-4efb-b92b-a353ecbf99e6\" class=\"plotly-graph-div\" style=\"height:525px; width:100%;\"></div>            <script type=\"text/javascript\">                require([\"plotly\"], function(Plotly) {                    window.PLOTLYENV=window.PLOTLYENV || {};\n",
       "                    window.PLOTLYENV.BASE_URL='https://plot.ly';                                    if (document.getElementById(\"e2ab99a5-5c0e-4efb-b92b-a353ecbf99e6\")) {                    Plotly.newPlot(                        \"e2ab99a5-5c0e-4efb-b92b-a353ecbf99e6\",                        [{\"histfunc\": \"count\", \"histnorm\": \"\", \"marker\": {\"color\": \"rgba(219, 64, 82, 1.0)\", \"line\": {\"color\": \"#4D5663\", \"width\": 1.3}}, \"name\": \"Alkaline_Phosphotase\", \"opacity\": 0.8, \"orientation\": \"v\", \"type\": \"histogram\", \"x\": [187, 699, 490, 182, 195, 208, 154, 202, 202, 290, 210, 260, 310, 214, 145, 183, 342, 165, 293, 293, 610, 482, 542, 231, 194, 289, 289, 240, 128, 188, 190, 156, 187, 410, 410, 482, 145, 374, 263, 275, 168, 160, 630, 415, 208, 275, 150, 230, 176, 206, 170, 161, 253, 198, 272, 272, 198, 175, 367, 145, 158, 158, 158, 208, 259, 470, 195, 215, 239, 215, 186, 188, 205, 171, 145, 162, 518, 1620, 146, 670, 915, 75, 148, 258, 237, 269, 320, 298, 538, 238, 214, 308, 298, 204, 168, 282, 298, 215, 265, 312, 161, 243, 224, 225, 170, 145, 145, 158, 158, 486, 188, 257, 179, 272, 661, 1580, 1630, 194, 280, 298, 300, 290, 188, 178, 177, 201, 802, 248, 1896, 263, 512, 237, 199, 238, 178, 1110, 310, 282, 282, 380, 186, 159, 332, 332, 189, 201, 168, 392, 202, 286, 180, 218, 182, 178, 290, 298, 462, 196, 196, 282, 750, 1050, 599, 180, 180, 282, 332, 292, 962, 950, 200, 298, 750, 175, 175, 198, 482, 1020, 562, 386, 250, 218, 170, 171, 201, 298, 750, 191, 614, 218, 314, 257, 272, 206, 209, 1124, 664, 142, 169, 1420, 218, 218, 145, 142, 135, 163, 285, 350, 220, 189, 190, 219, 160, 401, 180, 100, 116, 159, 289, 125, 147, 192, 265, 175, 400, 120, 173, 186, 202, 290, 196, 282, 157, 2110, 285, 360, 300, 158, 190, 196, 165, 230, 205, 316, 218, 290, 272, 190, 202, 498, 480, 680, 258, 180, 152, 859, 901, 335, 182, 285, 245, 505, 228, 185, 247, 348, 195, 140, 358, 110, 235, 460, 380, 262, 196, 180, 190, 190, 209, 144, 123, 192, 188, 316, 300, 575, 192, 155, 239, 315, 250, 174, 245, 191, 340, 202, 234, 159, 190, 195, 180, 280, 430, 206, 155, 195, 588, 174, 165, 527, 175, 574, 106, 158, 195, 179, 182, 198, 216, 310, 63, 198, 205, 302, 171, 158, 358, 174, 192, 211, 157, 210, 258, 152, 350, 182, 458, 375, 405, 215, 206, 650, 198, 198, 195, 230, 115, 216, 358, 158, 145, 195, 144, 621, 150, 178, 256, 205, 176, 146, 218, 182, 215, 165, 183, 176, 418, 271, 182, 130, 558, 135, 326, 140, 145, 206, 168, 202, 192, 185, 331, 188, 172, 159, 490, 152, 105, 160, 160, 102, 148, 162, 149, 580, 310, 140, 175, 152, 208, 205, 162, 92, 162, 199, 198, 215, 180, 719, 554, 555, 215, 509, 190, 208, 260, 690, 862, 592, 450, 1350, 1350, 163, 246, 178, 240, 100, 166, 170, 194, 1750, 182, 236, 165, 201, 194, 206, 212, 157, 162, 168, 198, 292, 298, 152, 163, 279, 181, 1550, 142, 173, 282, 279, 1100, 224, 159, 186, 189, 192, 140, 686, 215, 309, 110, 130, 164, 270, 137, 90, 190, 165, 167, 185, 197, 154, 226, 310, 310, 220, 196, 186, 352, 282, 92, 182, 103, 850, 195, 276, 171, 146, 193, 180, 805, 265, 185, 165, 189, 198, 151, 349, 365, 305, 127, 238, 218, 219, 239, 194, 450, 254, 205, 320, 195, 215, 230, 189, 168, 215, 210, 108, 224, 230, 185, 137, 156, 210, 268, 298, 315, 214, 138, 285, 162, 298, 230, 466, 227, 395, 97, 406, 114, 198, 173, 204, 350, 153, 188, 380, 214, 768, 172, 160, 196, 232, 220, 290, 180, 189, 275, 390, 356, 315, 388, 298, 165, 143, 191, 251, 200, 268, 236, 215, 134, 612, 515, 560, 289, 190, 500, 98, 245, 184, 216]}],                        {\"barmode\": \"overlay\", \"legend\": {\"bgcolor\": \"#F5F6F9\", \"font\": {\"color\": \"#4D5663\"}}, \"paper_bgcolor\": \"#F5F6F9\", \"plot_bgcolor\": \"#F5F6F9\", \"template\": {\"data\": {\"bar\": [{\"error_x\": {\"color\": \"#2a3f5f\"}, \"error_y\": {\"color\": \"#2a3f5f\"}, \"marker\": {\"line\": {\"color\": \"#E5ECF6\", \"width\": 0.5}}, \"type\": \"bar\"}], \"barpolar\": [{\"marker\": {\"line\": {\"color\": \"#E5ECF6\", \"width\": 0.5}}, \"type\": \"barpolar\"}], \"carpet\": [{\"aaxis\": {\"endlinecolor\": \"#2a3f5f\", \"gridcolor\": \"white\", \"linecolor\": \"white\", \"minorgridcolor\": \"white\", \"startlinecolor\": \"#2a3f5f\"}, \"baxis\": {\"endlinecolor\": \"#2a3f5f\", \"gridcolor\": \"white\", \"linecolor\": \"white\", \"minorgridcolor\": \"white\", \"startlinecolor\": \"#2a3f5f\"}, \"type\": \"carpet\"}], \"choropleth\": [{\"colorbar\": {\"outlinewidth\": 0, \"ticks\": \"\"}, \"type\": \"choropleth\"}], \"contour\": [{\"colorbar\": {\"outlinewidth\": 0, \"ticks\": \"\"}, \"colorscale\": [[0.0, \"#0d0887\"], [0.1111111111111111, \"#46039f\"], [0.2222222222222222, \"#7201a8\"], [0.3333333333333333, \"#9c179e\"], [0.4444444444444444, \"#bd3786\"], [0.5555555555555556, \"#d8576b\"], [0.6666666666666666, \"#ed7953\"], [0.7777777777777778, \"#fb9f3a\"], [0.8888888888888888, \"#fdca26\"], [1.0, \"#f0f921\"]], \"type\": \"contour\"}], \"contourcarpet\": [{\"colorbar\": {\"outlinewidth\": 0, \"ticks\": \"\"}, \"type\": \"contourcarpet\"}], \"heatmap\": [{\"colorbar\": {\"outlinewidth\": 0, \"ticks\": \"\"}, \"colorscale\": [[0.0, \"#0d0887\"], [0.1111111111111111, \"#46039f\"], [0.2222222222222222, \"#7201a8\"], [0.3333333333333333, \"#9c179e\"], [0.4444444444444444, \"#bd3786\"], [0.5555555555555556, \"#d8576b\"], [0.6666666666666666, \"#ed7953\"], [0.7777777777777778, \"#fb9f3a\"], [0.8888888888888888, \"#fdca26\"], [1.0, \"#f0f921\"]], \"type\": \"heatmap\"}], \"heatmapgl\": [{\"colorbar\": {\"outlinewidth\": 0, \"ticks\": \"\"}, \"colorscale\": [[0.0, \"#0d0887\"], [0.1111111111111111, \"#46039f\"], [0.2222222222222222, \"#7201a8\"], [0.3333333333333333, \"#9c179e\"], [0.4444444444444444, \"#bd3786\"], [0.5555555555555556, \"#d8576b\"], [0.6666666666666666, \"#ed7953\"], [0.7777777777777778, \"#fb9f3a\"], [0.8888888888888888, \"#fdca26\"], [1.0, \"#f0f921\"]], \"type\": \"heatmapgl\"}], \"histogram\": [{\"marker\": {\"colorbar\": {\"outlinewidth\": 0, \"ticks\": \"\"}}, \"type\": \"histogram\"}], \"histogram2d\": [{\"colorbar\": {\"outlinewidth\": 0, \"ticks\": \"\"}, \"colorscale\": [[0.0, \"#0d0887\"], [0.1111111111111111, \"#46039f\"], [0.2222222222222222, \"#7201a8\"], [0.3333333333333333, \"#9c179e\"], [0.4444444444444444, \"#bd3786\"], [0.5555555555555556, \"#d8576b\"], [0.6666666666666666, \"#ed7953\"], [0.7777777777777778, \"#fb9f3a\"], [0.8888888888888888, \"#fdca26\"], [1.0, \"#f0f921\"]], \"type\": \"histogram2d\"}], \"histogram2dcontour\": [{\"colorbar\": {\"outlinewidth\": 0, \"ticks\": \"\"}, \"colorscale\": [[0.0, \"#0d0887\"], [0.1111111111111111, \"#46039f\"], [0.2222222222222222, \"#7201a8\"], [0.3333333333333333, \"#9c179e\"], [0.4444444444444444, \"#bd3786\"], [0.5555555555555556, \"#d8576b\"], [0.6666666666666666, \"#ed7953\"], [0.7777777777777778, \"#fb9f3a\"], [0.8888888888888888, \"#fdca26\"], [1.0, \"#f0f921\"]], \"type\": \"histogram2dcontour\"}], \"mesh3d\": [{\"colorbar\": {\"outlinewidth\": 0, \"ticks\": \"\"}, \"type\": \"mesh3d\"}], \"parcoords\": [{\"line\": {\"colorbar\": {\"outlinewidth\": 0, \"ticks\": \"\"}}, \"type\": \"parcoords\"}], \"pie\": [{\"automargin\": true, \"type\": \"pie\"}], \"scatter\": [{\"marker\": {\"colorbar\": {\"outlinewidth\": 0, \"ticks\": \"\"}}, \"type\": \"scatter\"}], \"scatter3d\": [{\"line\": {\"colorbar\": {\"outlinewidth\": 0, \"ticks\": \"\"}}, \"marker\": {\"colorbar\": {\"outlinewidth\": 0, \"ticks\": \"\"}}, \"type\": \"scatter3d\"}], \"scattercarpet\": [{\"marker\": {\"colorbar\": {\"outlinewidth\": 0, \"ticks\": \"\"}}, \"type\": \"scattercarpet\"}], \"scattergeo\": [{\"marker\": {\"colorbar\": {\"outlinewidth\": 0, \"ticks\": \"\"}}, \"type\": \"scattergeo\"}], \"scattergl\": [{\"marker\": {\"colorbar\": {\"outlinewidth\": 0, \"ticks\": \"\"}}, \"type\": \"scattergl\"}], \"scattermapbox\": [{\"marker\": {\"colorbar\": {\"outlinewidth\": 0, \"ticks\": \"\"}}, \"type\": \"scattermapbox\"}], \"scatterpolar\": [{\"marker\": {\"colorbar\": {\"outlinewidth\": 0, \"ticks\": \"\"}}, \"type\": \"scatterpolar\"}], \"scatterpolargl\": [{\"marker\": {\"colorbar\": {\"outlinewidth\": 0, \"ticks\": \"\"}}, \"type\": \"scatterpolargl\"}], \"scatterternary\": [{\"marker\": {\"colorbar\": {\"outlinewidth\": 0, \"ticks\": \"\"}}, \"type\": \"scatterternary\"}], \"surface\": [{\"colorbar\": {\"outlinewidth\": 0, \"ticks\": \"\"}, \"colorscale\": [[0.0, \"#0d0887\"], [0.1111111111111111, \"#46039f\"], [0.2222222222222222, \"#7201a8\"], [0.3333333333333333, \"#9c179e\"], [0.4444444444444444, \"#bd3786\"], [0.5555555555555556, \"#d8576b\"], [0.6666666666666666, \"#ed7953\"], [0.7777777777777778, \"#fb9f3a\"], [0.8888888888888888, \"#fdca26\"], [1.0, \"#f0f921\"]], \"type\": \"surface\"}], \"table\": [{\"cells\": {\"fill\": {\"color\": \"#EBF0F8\"}, \"line\": {\"color\": \"white\"}}, \"header\": {\"fill\": {\"color\": \"#C8D4E3\"}, \"line\": {\"color\": \"white\"}}, \"type\": \"table\"}]}, \"layout\": {\"annotationdefaults\": {\"arrowcolor\": \"#2a3f5f\", \"arrowhead\": 0, \"arrowwidth\": 1}, \"autotypenumbers\": \"strict\", \"coloraxis\": {\"colorbar\": {\"outlinewidth\": 0, \"ticks\": \"\"}}, \"colorscale\": {\"diverging\": [[0, \"#8e0152\"], [0.1, \"#c51b7d\"], [0.2, \"#de77ae\"], [0.3, \"#f1b6da\"], [0.4, \"#fde0ef\"], [0.5, \"#f7f7f7\"], [0.6, \"#e6f5d0\"], [0.7, \"#b8e186\"], [0.8, \"#7fbc41\"], [0.9, \"#4d9221\"], [1, \"#276419\"]], \"sequential\": [[0.0, \"#0d0887\"], [0.1111111111111111, \"#46039f\"], [0.2222222222222222, \"#7201a8\"], [0.3333333333333333, \"#9c179e\"], [0.4444444444444444, \"#bd3786\"], [0.5555555555555556, \"#d8576b\"], [0.6666666666666666, \"#ed7953\"], [0.7777777777777778, \"#fb9f3a\"], [0.8888888888888888, \"#fdca26\"], [1.0, \"#f0f921\"]], \"sequentialminus\": [[0.0, \"#0d0887\"], [0.1111111111111111, \"#46039f\"], [0.2222222222222222, \"#7201a8\"], [0.3333333333333333, \"#9c179e\"], [0.4444444444444444, \"#bd3786\"], [0.5555555555555556, \"#d8576b\"], [0.6666666666666666, \"#ed7953\"], [0.7777777777777778, \"#fb9f3a\"], [0.8888888888888888, \"#fdca26\"], [1.0, \"#f0f921\"]]}, \"colorway\": [\"#636efa\", \"#EF553B\", \"#00cc96\", \"#ab63fa\", \"#FFA15A\", \"#19d3f3\", \"#FF6692\", \"#B6E880\", \"#FF97FF\", \"#FECB52\"], \"font\": {\"color\": \"#2a3f5f\"}, \"geo\": {\"bgcolor\": \"white\", \"lakecolor\": \"white\", \"landcolor\": \"#E5ECF6\", \"showlakes\": true, \"showland\": true, \"subunitcolor\": \"white\"}, \"hoverlabel\": {\"align\": \"left\"}, \"hovermode\": \"closest\", \"mapbox\": {\"style\": \"light\"}, \"paper_bgcolor\": \"white\", \"plot_bgcolor\": \"#E5ECF6\", \"polar\": {\"angularaxis\": {\"gridcolor\": \"white\", \"linecolor\": \"white\", \"ticks\": \"\"}, \"bgcolor\": \"#E5ECF6\", \"radialaxis\": {\"gridcolor\": \"white\", \"linecolor\": \"white\", \"ticks\": \"\"}}, \"scene\": {\"xaxis\": {\"backgroundcolor\": \"#E5ECF6\", \"gridcolor\": \"white\", \"gridwidth\": 2, \"linecolor\": \"white\", \"showbackground\": true, \"ticks\": \"\", \"zerolinecolor\": \"white\"}, \"yaxis\": {\"backgroundcolor\": \"#E5ECF6\", \"gridcolor\": \"white\", \"gridwidth\": 2, \"linecolor\": \"white\", \"showbackground\": true, \"ticks\": \"\", \"zerolinecolor\": \"white\"}, \"zaxis\": {\"backgroundcolor\": \"#E5ECF6\", \"gridcolor\": \"white\", \"gridwidth\": 2, \"linecolor\": \"white\", \"showbackground\": true, \"ticks\": \"\", \"zerolinecolor\": \"white\"}}, \"shapedefaults\": {\"line\": {\"color\": \"#2a3f5f\"}}, \"ternary\": {\"aaxis\": {\"gridcolor\": \"white\", \"linecolor\": \"white\", \"ticks\": \"\"}, \"baxis\": {\"gridcolor\": \"white\", \"linecolor\": \"white\", \"ticks\": \"\"}, \"bgcolor\": \"#E5ECF6\", \"caxis\": {\"gridcolor\": \"white\", \"linecolor\": \"white\", \"ticks\": \"\"}}, \"title\": {\"x\": 0.05}, \"xaxis\": {\"automargin\": true, \"gridcolor\": \"white\", \"linecolor\": \"white\", \"ticks\": \"\", \"title\": {\"standoff\": 15}, \"zerolinecolor\": \"white\", \"zerolinewidth\": 2}, \"yaxis\": {\"automargin\": true, \"gridcolor\": \"white\", \"linecolor\": \"white\", \"ticks\": \"\", \"title\": {\"standoff\": 15}, \"zerolinecolor\": \"white\", \"zerolinewidth\": 2}}}, \"title\": {\"font\": {\"color\": \"#4D5663\"}, \"text\": \"Distribution of Alkaline Phosphotase\"}, \"xaxis\": {\"gridcolor\": \"#E1E5ED\", \"showgrid\": true, \"tickfont\": {\"color\": \"#4D5663\"}, \"title\": {\"font\": {\"color\": \"#4D5663\"}, \"text\": \"Alkaline_Phosphotase\"}, \"zerolinecolor\": \"#E1E5ED\"}, \"yaxis\": {\"gridcolor\": \"#E1E5ED\", \"showgrid\": true, \"tickfont\": {\"color\": \"#4D5663\"}, \"title\": {\"font\": {\"color\": \"#4D5663\"}, \"text\": \"Frequency\"}, \"zerolinecolor\": \"#E1E5ED\"}},                        {\"showLink\": true, \"linkText\": \"Export to plot.ly\", \"plotlyServerURL\": \"https://plot.ly\", \"responsive\": true}                    ).then(function(){\n",
       "                            \n",
       "var gd = document.getElementById('e2ab99a5-5c0e-4efb-b92b-a353ecbf99e6');\n",
       "var x = new MutationObserver(function (mutations, observer) {{\n",
       "        var display = window.getComputedStyle(gd).display;\n",
       "        if (!display || display === 'none') {{\n",
       "            console.log([gd, 'removed!']);\n",
       "            Plotly.purge(gd);\n",
       "            observer.disconnect();\n",
       "        }}\n",
       "}});\n",
       "\n",
       "// Listen for the removal of the full notebook cells\n",
       "var notebookContainer = gd.closest('#notebook-container');\n",
       "if (notebookContainer) {{\n",
       "    x.observe(notebookContainer, {childList: true});\n",
       "}}\n",
       "\n",
       "// Listen for the clearing of the current output cell\n",
       "var outputEl = gd.closest('.output');\n",
       "if (outputEl) {{\n",
       "    x.observe(outputEl, {childList: true});\n",
       "}}\n",
       "\n",
       "                        })                };                });            </script>        </div>"
      ]
     },
     "metadata": {},
     "output_type": "display_data"
    }
   ],
   "source": [
    "df['Alkaline_Phosphotase'].iplot(kind = 'hist', color = 'red', xTitle = 'Alkaline_Phosphotase', yTitle = 'Frequency', title = 'Distribution of Alkaline Phosphotase')"
   ]
  },
  {
   "cell_type": "markdown",
   "metadata": {
    "papermill": {
     "duration": 0.132524,
     "end_time": "2021-03-01T01:26:33.343106",
     "exception": false,
     "start_time": "2021-03-01T01:26:33.210582",
     "status": "completed"
    },
    "tags": []
   },
   "source": [
    "### Age & Alkaline_Phosphotase"
   ]
  },
  {
   "cell_type": "code",
   "execution_count": 57,
   "metadata": {
    "execution": {
     "iopub.execute_input": "2021-03-01T01:26:33.628247Z",
     "iopub.status.busy": "2021-03-01T01:26:33.623241Z",
     "iopub.status.idle": "2021-03-01T01:26:33.920009Z",
     "shell.execute_reply": "2021-03-01T01:26:33.919382Z"
    },
    "papermill": {
     "duration": 0.441385,
     "end_time": "2021-03-01T01:26:33.920192",
     "exception": false,
     "start_time": "2021-03-01T01:26:33.478807",
     "status": "completed"
    },
    "tags": []
   },
   "outputs": [
    {
     "data": {
      "image/png": "[encoded data removed]",
      "text/plain": [
       "<Figure size 720x360 with 1 Axes>"
      ]
     },
     "metadata": {},
     "output_type": "display_data"
    }
   ],
   "source": [
    "plt.figure(figsize=(10,5))\n",
    "sns.scatterplot(x = 'Age', y  = 'Alkaline_Phosphotase', data = df, hue = 'liver_disease', palette='Set1')\n",
    "plt.show()"
   ]
  },
  {
   "cell_type": "code",
   "execution_count": 58,
   "metadata": {
    "execution": {
     "iopub.execute_input": "2021-03-01T01:26:34.217456Z",
     "iopub.status.busy": "2021-03-01T01:26:34.202868Z",
     "iopub.status.idle": "2021-03-01T01:26:34.476155Z",
     "shell.execute_reply": "2021-03-01T01:26:34.476728Z"
    },
    "papermill": {
     "duration": 0.423063,
     "end_time": "2021-03-01T01:26:34.476909",
     "exception": false,
     "start_time": "2021-03-01T01:26:34.053846",
     "status": "completed"
    },
    "tags": []
   },
   "outputs": [
    {
     "data": {
      "image/png": "[encoded data removed]",
      "text/plain": [
       "<Figure size 720x360 with 1 Axes>"
      ]
     },
     "metadata": {},
     "output_type": "display_data"
    }
   ],
   "source": [
    "plt.figure(figsize=(10,5))\n",
    "sns.scatterplot(x = 'Age', y  = 'Alkaline_Phosphotase', data = df, hue = 'Gender', palette='Set1')\n",
    "plt.show()"
   ]
  },
  {
   "cell_type": "markdown",
   "metadata": {
    "papermill": {
     "duration": 0.152322,
     "end_time": "2021-03-01T01:26:34.774256",
     "exception": false,
     "start_time": "2021-03-01T01:26:34.621934",
     "status": "completed"
    },
    "tags": []
   },
   "source": [
    "Higher-than-normal ALP levels for your age and sex may not necessarily mean you have a problem. (Children and teens naturally have higher levels than adults because their bones are still developing) [[6]](http://www.webmd.com/digestive-disorders/alkaline_phosphatase_test#2)."
   ]
  },
  {
   "cell_type": "code",
   "execution_count": 59,
   "metadata": {
    "execution": {
     "iopub.execute_input": "2021-03-01T01:26:35.066658Z",
     "iopub.status.busy": "2021-03-01T01:26:35.061620Z",
     "iopub.status.idle": "2021-03-01T01:26:35.837187Z",
     "shell.execute_reply": "2021-03-01T01:26:35.836424Z"
    },
    "papermill": {
     "duration": 0.925807,
     "end_time": "2021-03-01T01:26:35.837357",
     "exception": false,
     "start_time": "2021-03-01T01:26:34.911550",
     "status": "completed"
    },
    "tags": []
   },
   "outputs": [
    {
     "data": {
      "image/png": "[encoded data removed]",
      "text/plain": [
       "<Figure size 504x504 with 4 Axes>"
      ]
     },
     "metadata": {},
     "output_type": "display_data"
    }
   ],
   "source": [
    "sns.set_theme()\n",
    "fig, axs = plt.subplots(2, 2, figsize=(7,7))\n",
    "axs[0][0].hist(x = df['Age'])\n",
    "axs[0][0].set_title('Age')\n",
    "\n",
    "axs[0][1].hist(x = df['Gender'])\n",
    "axs[0][1].set_title('Gender')\n",
    "\n",
    "axs[1][0].hist(x = df['Total_Bilirubin'], bins = 30)\n",
    "axs[1][0].set_title('Total_Bilirubin')\n",
    "\n",
    "axs[1][1].hist(x = df['Direct_Bilirubin'], bins = 30)\n",
    "axs[1][1].set_title('Direct_Bilirubin')\n",
    "#axs[2][0].hist(x = df['Alkaline_Phosphotase'])\n",
    "fig.tight_layout()\n",
    "plt.show()"
   ]
  },
  {
   "cell_type": "code",
   "execution_count": 60,
   "metadata": {
    "execution": {
     "iopub.execute_input": "2021-03-01T01:26:36.140592Z",
     "iopub.status.busy": "2021-03-01T01:26:36.139872Z",
     "iopub.status.idle": "2021-03-01T01:26:36.941747Z",
     "shell.execute_reply": "2021-03-01T01:26:36.941150Z"
    },
    "papermill": {
     "duration": 0.96656,
     "end_time": "2021-03-01T01:26:36.941908",
     "exception": false,
     "start_time": "2021-03-01T01:26:35.975348",
     "status": "completed"
    },
    "tags": []
   },
   "outputs": [
    {
     "data": {
      "image/png": "[encoded data removed]",
      "text/plain": [
       "<Figure size 504x504 with 4 Axes>"
      ]
     },
     "metadata": {},
     "output_type": "display_data"
    }
   ],
   "source": [
    "sns.set_theme()\n",
    "fig, axs = plt.subplots(2, 2, figsize=(7,7))\n",
    "axs[0][0].hist(x = df['Alkaline_Phosphotase'])\n",
    "axs[0][0].set_title('Alkaline Phosphotase')\n",
    "\n",
    "axs[0][1].hist(x = df['Alamine_Aminotransferase'], bins = 30)\n",
    "axs[0][1].set_title('Alamine Aminotransferase')\n",
    "axs[0][1].set_xlim(0,600)\n",
    "\n",
    "axs[1][0].hist(x = df['Aspartate_Aminotransferase'], bins = 20)\n",
    "axs[1][0].set_title('Aspartate Aminotransferase')\n",
    "axs[1][0].set_xlim(0,1500)\n",
    "\n",
    "axs[1][1].hist(x = df['liver_disease'])\n",
    "axs[1][1].set_title('liver disease')\n",
    "\n",
    "fig.tight_layout()\n",
    "plt.show()"
   ]
  },
  {
   "cell_type": "code",
   "execution_count": 61,
   "metadata": {
    "execution": {
     "iopub.execute_input": "2021-03-01T01:26:37.253949Z",
     "iopub.status.busy": "2021-03-01T01:26:37.251023Z",
     "iopub.status.idle": "2021-03-01T01:26:37.821955Z",
     "shell.execute_reply": "2021-03-01T01:26:37.821175Z"
    },
    "papermill": {
     "duration": 0.738982,
     "end_time": "2021-03-01T01:26:37.822159",
     "exception": false,
     "start_time": "2021-03-01T01:26:37.083177",
     "status": "completed"
    },
    "tags": []
   },
   "outputs": [
    {
     "data": {
      "image/png": "[encoded data removed]",
      "text/plain": [
       "<Figure size 720x360 with 3 Axes>"
      ]
     },
     "metadata": {},
     "output_type": "display_data"
    }
   ],
   "source": [
    "fig, axs = plt.subplots(1, 3, figsize=(10,5))\n",
    "axs[0].hist(x = df['Total_Protiens'])\n",
    "axs[0].set_title('Total Proteins')\n",
    "\n",
    "axs[1].hist(x = df['Albumin'])\n",
    "axs[1].set_title('Albumin')\n",
    "\n",
    "axs[2].hist(x = df['Albumin_and_Globulin_Ratio'])\n",
    "axs[2].set_title('Albumi Globulin Ratio')\n",
    "fig.tight_layout()\n",
    "plt.show()"
   ]
  },
  {
   "cell_type": "markdown",
   "metadata": {
    "papermill": {
     "duration": 0.14169,
     "end_time": "2021-03-01T01:26:38.106886",
     "exception": false,
     "start_time": "2021-03-01T01:26:37.965196",
     "status": "completed"
    },
    "tags": []
   },
   "source": [
    "### Putting it all together\n",
    "There is a strong correlation between:\n",
    "* Direct Bilirubin & Total Bilirubin \n",
    "* Total_Protiens & Albumin \n",
    "* Alamine_Aminotransferase& Aspartate_Aminotransferase \n",
    "* Albumin and Globulin Ration and Albumin \n",
    "\n",
    "💉"
   ]
  },
  {
   "cell_type": "code",
   "execution_count": 62,
   "metadata": {
    "execution": {
     "iopub.execute_input": "2021-03-01T01:26:38.399211Z",
     "iopub.status.busy": "2021-03-01T01:26:38.398179Z",
     "iopub.status.idle": "2021-03-01T01:26:38.411851Z",
     "shell.execute_reply": "2021-03-01T01:26:38.411186Z"
    },
    "papermill": {
     "duration": 0.162406,
     "end_time": "2021-03-01T01:26:38.412020",
     "exception": false,
     "start_time": "2021-03-01T01:26:38.249614",
     "status": "completed"
    },
    "tags": []
   },
   "outputs": [],
   "source": [
    "df.to_csv('teliko.csv', index_label = False)"
   ]
  }
 ],
 "metadata": {
  "kernelspec": {
   "display_name": "Python 3",
   "language": "python",
   "name": "python3"
  },
  "language_info": {
   "codemirror_mode": {
    "name": "ipython",
    "version": 3
   },
   "file_extension": ".py",
   "mimetype": "text/x-python",
   "name": "python",
   "nbconvert_exporter": "python",
   "pygments_lexer": "ipython3",
   "version": "3.7.9"
  },
  "papermill": {
   "default_parameters": {},
   "duration": 35.500655,
   "end_time": "2021-03-01T01:26:39.567497",
   "environment_variables": {},
   "exception": null,
   "input_path": "__notebook__.ipynb",
   "output_path": "__notebook__.ipynb",
   "parameters": {},
   "start_time": "2021-03-01T01:26:04.066842",
   "version": "2.2.2"
  }
 },
 "nbformat": 4,
 "nbformat_minor": 4
}
